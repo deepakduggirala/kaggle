{
 "cells": [
  {
   "cell_type": "code",
   "execution_count": 140,
   "id": "b9e101c9-d417-4e8d-aeed-35f72388d371",
   "metadata": {},
   "outputs": [],
   "source": [
    "import numpy as np\n",
    "import pandas as pd\n",
    "import matplotlib.pyplot as plt\n",
    "import scipy\n",
    "from scipy import stats\n",
    "%matplotlib inline"
   ]
  },
  {
   "cell_type": "code",
   "execution_count": 141,
   "id": "0a54cbc9-bd6f-4c85-bf1a-c5f4c3c4e226",
   "metadata": {},
   "outputs": [],
   "source": [
    "from sklearn.preprocessing import OneHotEncoder\n",
    "from sklearn.base import BaseEstimator, TransformerMixin\n",
    "from sklearn.impute import SimpleImputer\n",
    "from sklearn.pipeline import make_pipeline\n",
    "from sklearn.compose import ColumnTransformer\n",
    "from sklearn.preprocessing import StandardScaler\n",
    "from sklearn.model_selection import train_test_split\n",
    "from sklearn.preprocessing import FunctionTransformer\n",
    "from sklearn.pipeline import Pipeline\n",
    "\n",
    "from sklearn.linear_model import LinearRegression\n",
    "\n",
    "from sklearn.metrics import mean_squared_error\n",
    "from sklearn.metrics import make_scorer\n",
    "\n",
    "from sklearn import set_config\n",
    "set_config(display='diagram')\n",
    "\n",
    "from sklearn.ensemble import RandomForestRegressor\n",
    "\n",
    "from sklearn.decomposition import PCA\n",
    "\n",
    "from sklearn.feature_selection import SelectFromModel\n",
    "from sklearn.linear_model import LassoCV"
   ]
  },
  {
   "cell_type": "code",
   "execution_count": 69,
   "id": "ed9a7b13-ce07-48a7-b7ab-8656aedf5ad3",
   "metadata": {},
   "outputs": [
    {
     "data": {
      "text/plain": [
       "<module 'utils' from '/Users/deepakduggirala/Documents/kaggle/tmdb-box-office-prediction/utils.py'>"
      ]
     },
     "execution_count": 69,
     "metadata": {},
     "output_type": "execute_result"
    }
   ],
   "source": [
    "import importlib\n",
    "importlib.reload(ctf)\n",
    "importlib.reload(utils)"
   ]
  },
  {
   "cell_type": "code",
   "execution_count": 70,
   "id": "0f4abc06-8fc0-4ee7-ba8e-fa0d52bede27",
   "metadata": {},
   "outputs": [],
   "source": [
    "import custom_transformers as ctf\n",
    "from custom_transformers import *\n",
    "\n",
    "import utils as utils\n",
    "from utils import *"
   ]
  },
  {
   "cell_type": "markdown",
   "id": "f5354c8a-23e1-4fd7-83eb-2a1acec30619",
   "metadata": {
    "tags": []
   },
   "source": [
    "## Load Data"
   ]
  },
  {
   "cell_type": "code",
   "execution_count": 173,
   "id": "72210225-9ee3-4ce7-a38b-bd3ae069149e",
   "metadata": {},
   "outputs": [],
   "source": [
    "train_data = pd.read_csv('data/train.csv')\n",
    "test_data = pd.read_csv('data/test.csv')"
   ]
  },
  {
   "cell_type": "markdown",
   "id": "18ddd965-1e8c-4f41-a4fc-06a089400e66",
   "metadata": {
    "tags": []
   },
   "source": [
    "## Data Correction\n",
    "\n",
    "Taken from here https://www.kaggle.com/tavoosi/predicting-box-office-revenue-with-random-forest#last-data-preparations"
   ]
  },
  {
   "cell_type": "code",
   "execution_count": 153,
   "id": "5fd9595a-1952-4e22-870c-debe26449e29",
   "metadata": {},
   "outputs": [
    {
     "name": "stderr",
     "output_type": "stream",
     "text": [
      "/var/folders/nl/pxf72qk574l1rzzh347l6x2w0000gn/T/ipykernel_94912/1242867337.py:106: PerformanceWarning: DataFrame is highly fragmented.  This is usually the result of calling `frame.insert` many times, which has poor performance.  Consider joining all columns at once using pd.concat(axis=1) instead.  To get a de-fragmented frame, use `newframe = frame.copy()`\n",
      "  train_data[6638, 'budget'] = 5\n",
      "/var/folders/nl/pxf72qk574l1rzzh347l6x2w0000gn/T/ipykernel_94912/1242867337.py:107: PerformanceWarning: DataFrame is highly fragmented.  This is usually the result of calling `frame.insert` many times, which has poor performance.  Consider joining all columns at once using pd.concat(axis=1) instead.  To get a de-fragmented frame, use `newframe = frame.copy()`\n",
      "  train_data[6749, 'budget'] = 8\n",
      "/var/folders/nl/pxf72qk574l1rzzh347l6x2w0000gn/T/ipykernel_94912/1242867337.py:108: PerformanceWarning: DataFrame is highly fragmented.  This is usually the result of calling `frame.insert` many times, which has poor performance.  Consider joining all columns at once using pd.concat(axis=1) instead.  To get a de-fragmented frame, use `newframe = frame.copy()`\n",
      "  train_data[6759, 'budget'] = 50\n",
      "/var/folders/nl/pxf72qk574l1rzzh347l6x2w0000gn/T/ipykernel_94912/1242867337.py:109: PerformanceWarning: DataFrame is highly fragmented.  This is usually the result of calling `frame.insert` many times, which has poor performance.  Consider joining all columns at once using pd.concat(axis=1) instead.  To get a de-fragmented frame, use `newframe = frame.copy()`\n",
      "  train_data[6856, 'budget'] = 10\n",
      "/var/folders/nl/pxf72qk574l1rzzh347l6x2w0000gn/T/ipykernel_94912/1242867337.py:110: PerformanceWarning: DataFrame is highly fragmented.  This is usually the result of calling `frame.insert` many times, which has poor performance.  Consider joining all columns at once using pd.concat(axis=1) instead.  To get a de-fragmented frame, use `newframe = frame.copy()`\n",
      "  train_data[6858, 'budget'] = 100\n",
      "/var/folders/nl/pxf72qk574l1rzzh347l6x2w0000gn/T/ipykernel_94912/1242867337.py:111: PerformanceWarning: DataFrame is highly fragmented.  This is usually the result of calling `frame.insert` many times, which has poor performance.  Consider joining all columns at once using pd.concat(axis=1) instead.  To get a de-fragmented frame, use `newframe = frame.copy()`\n",
      "  train_data[6876, 'budget'] = 250\n",
      "/var/folders/nl/pxf72qk574l1rzzh347l6x2w0000gn/T/ipykernel_94912/1242867337.py:112: PerformanceWarning: DataFrame is highly fragmented.  This is usually the result of calling `frame.insert` many times, which has poor performance.  Consider joining all columns at once using pd.concat(axis=1) instead.  To get a de-fragmented frame, use `newframe = frame.copy()`\n",
      "  train_data[6972, 'budget'] = 1\n",
      "/var/folders/nl/pxf72qk574l1rzzh347l6x2w0000gn/T/ipykernel_94912/1242867337.py:113: PerformanceWarning: DataFrame is highly fragmented.  This is usually the result of calling `frame.insert` many times, which has poor performance.  Consider joining all columns at once using pd.concat(axis=1) instead.  To get a de-fragmented frame, use `newframe = frame.copy()`\n",
      "  train_data[7079, 'budget'] = 8000000\n",
      "/var/folders/nl/pxf72qk574l1rzzh347l6x2w0000gn/T/ipykernel_94912/1242867337.py:114: PerformanceWarning: DataFrame is highly fragmented.  This is usually the result of calling `frame.insert` many times, which has poor performance.  Consider joining all columns at once using pd.concat(axis=1) instead.  To get a de-fragmented frame, use `newframe = frame.copy()`\n",
      "  train_data[7150, 'budget'] = 118\n",
      "/var/folders/nl/pxf72qk574l1rzzh347l6x2w0000gn/T/ipykernel_94912/1242867337.py:116: PerformanceWarning: DataFrame is highly fragmented.  This is usually the result of calling `frame.insert` many times, which has poor performance.  Consider joining all columns at once using pd.concat(axis=1) instead.  To get a de-fragmented frame, use `newframe = frame.copy()`\n",
      "  train_data[7225, 'budget'] = 6\n",
      "/var/folders/nl/pxf72qk574l1rzzh347l6x2w0000gn/T/ipykernel_94912/1242867337.py:117: PerformanceWarning: DataFrame is highly fragmented.  This is usually the result of calling `frame.insert` many times, which has poor performance.  Consider joining all columns at once using pd.concat(axis=1) instead.  To get a de-fragmented frame, use `newframe = frame.copy()`\n",
      "  train_data[7231, 'budget'] = 85\n",
      "/var/folders/nl/pxf72qk574l1rzzh347l6x2w0000gn/T/ipykernel_94912/1242867337.py:118: PerformanceWarning: DataFrame is highly fragmented.  This is usually the result of calling `frame.insert` many times, which has poor performance.  Consider joining all columns at once using pd.concat(axis=1) instead.  To get a de-fragmented frame, use `newframe = frame.copy()`\n",
      "  train_data[5222, 'budget'] = 5\n",
      "/var/folders/nl/pxf72qk574l1rzzh347l6x2w0000gn/T/ipykernel_94912/1242867337.py:119: PerformanceWarning: DataFrame is highly fragmented.  This is usually the result of calling `frame.insert` many times, which has poor performance.  Consider joining all columns at once using pd.concat(axis=1) instead.  To get a de-fragmented frame, use `newframe = frame.copy()`\n",
      "  train_data[5322, 'budget'] = 90\n",
      "/var/folders/nl/pxf72qk574l1rzzh347l6x2w0000gn/T/ipykernel_94912/1242867337.py:120: PerformanceWarning: DataFrame is highly fragmented.  This is usually the result of calling `frame.insert` many times, which has poor performance.  Consider joining all columns at once using pd.concat(axis=1) instead.  To get a de-fragmented frame, use `newframe = frame.copy()`\n",
      "  train_data[5350, 'budget'] = 70\n",
      "/var/folders/nl/pxf72qk574l1rzzh347l6x2w0000gn/T/ipykernel_94912/1242867337.py:121: PerformanceWarning: DataFrame is highly fragmented.  This is usually the result of calling `frame.insert` many times, which has poor performance.  Consider joining all columns at once using pd.concat(axis=1) instead.  To get a de-fragmented frame, use `newframe = frame.copy()`\n",
      "  train_data[5378, 'budget'] = 10\n",
      "/var/folders/nl/pxf72qk574l1rzzh347l6x2w0000gn/T/ipykernel_94912/1242867337.py:122: PerformanceWarning: DataFrame is highly fragmented.  This is usually the result of calling `frame.insert` many times, which has poor performance.  Consider joining all columns at once using pd.concat(axis=1) instead.  To get a de-fragmented frame, use `newframe = frame.copy()`\n",
      "  train_data[5545, 'budget'] = 80\n",
      "/var/folders/nl/pxf72qk574l1rzzh347l6x2w0000gn/T/ipykernel_94912/1242867337.py:123: PerformanceWarning: DataFrame is highly fragmented.  This is usually the result of calling `frame.insert` many times, which has poor performance.  Consider joining all columns at once using pd.concat(axis=1) instead.  To get a de-fragmented frame, use `newframe = frame.copy()`\n",
      "  train_data[5810, 'budget'] = 8\n",
      "/var/folders/nl/pxf72qk574l1rzzh347l6x2w0000gn/T/ipykernel_94912/1242867337.py:124: PerformanceWarning: DataFrame is highly fragmented.  This is usually the result of calling `frame.insert` many times, which has poor performance.  Consider joining all columns at once using pd.concat(axis=1) instead.  To get a de-fragmented frame, use `newframe = frame.copy()`\n",
      "  train_data[5926, 'budget'] = 300\n",
      "/var/folders/nl/pxf72qk574l1rzzh347l6x2w0000gn/T/ipykernel_94912/1242867337.py:125: PerformanceWarning: DataFrame is highly fragmented.  This is usually the result of calling `frame.insert` many times, which has poor performance.  Consider joining all columns at once using pd.concat(axis=1) instead.  To get a de-fragmented frame, use `newframe = frame.copy()`\n",
      "  train_data[5927, 'budget'] = 4\n",
      "/var/folders/nl/pxf72qk574l1rzzh347l6x2w0000gn/T/ipykernel_94912/1242867337.py:126: PerformanceWarning: DataFrame is highly fragmented.  This is usually the result of calling `frame.insert` many times, which has poor performance.  Consider joining all columns at once using pd.concat(axis=1) instead.  To get a de-fragmented frame, use `newframe = frame.copy()`\n",
      "  train_data[5986, 'budget'] = 1\n",
      "/var/folders/nl/pxf72qk574l1rzzh347l6x2w0000gn/T/ipykernel_94912/1242867337.py:127: PerformanceWarning: DataFrame is highly fragmented.  This is usually the result of calling `frame.insert` many times, which has poor performance.  Consider joining all columns at once using pd.concat(axis=1) instead.  To get a de-fragmented frame, use `newframe = frame.copy()`\n",
      "  train_data[6053, 'budget'] = 20\n",
      "/var/folders/nl/pxf72qk574l1rzzh347l6x2w0000gn/T/ipykernel_94912/1242867337.py:128: PerformanceWarning: DataFrame is highly fragmented.  This is usually the result of calling `frame.insert` many times, which has poor performance.  Consider joining all columns at once using pd.concat(axis=1) instead.  To get a de-fragmented frame, use `newframe = frame.copy()`\n",
      "  train_data[6104, 'budget'] = 1\n",
      "/var/folders/nl/pxf72qk574l1rzzh347l6x2w0000gn/T/ipykernel_94912/1242867337.py:129: PerformanceWarning: DataFrame is highly fragmented.  This is usually the result of calling `frame.insert` many times, which has poor performance.  Consider joining all columns at once using pd.concat(axis=1) instead.  To get a de-fragmented frame, use `newframe = frame.copy()`\n",
      "  train_data[6130, 'budget'] = 30\n",
      "/var/folders/nl/pxf72qk574l1rzzh347l6x2w0000gn/T/ipykernel_94912/1242867337.py:130: PerformanceWarning: DataFrame is highly fragmented.  This is usually the result of calling `frame.insert` many times, which has poor performance.  Consider joining all columns at once using pd.concat(axis=1) instead.  To get a de-fragmented frame, use `newframe = frame.copy()`\n",
      "  train_data[6301, 'budget'] = 150\n",
      "/var/folders/nl/pxf72qk574l1rzzh347l6x2w0000gn/T/ipykernel_94912/1242867337.py:131: PerformanceWarning: DataFrame is highly fragmented.  This is usually the result of calling `frame.insert` many times, which has poor performance.  Consider joining all columns at once using pd.concat(axis=1) instead.  To get a de-fragmented frame, use `newframe = frame.copy()`\n",
      "  train_data[6276, 'budget'] = 100\n",
      "/var/folders/nl/pxf72qk574l1rzzh347l6x2w0000gn/T/ipykernel_94912/1242867337.py:132: PerformanceWarning: DataFrame is highly fragmented.  This is usually the result of calling `frame.insert` many times, which has poor performance.  Consider joining all columns at once using pd.concat(axis=1) instead.  To get a de-fragmented frame, use `newframe = frame.copy()`\n",
      "  train_data[6473, 'budget'] = 100\n",
      "/var/folders/nl/pxf72qk574l1rzzh347l6x2w0000gn/T/ipykernel_94912/1242867337.py:133: PerformanceWarning: DataFrame is highly fragmented.  This is usually the result of calling `frame.insert` many times, which has poor performance.  Consider joining all columns at once using pd.concat(axis=1) instead.  To get a de-fragmented frame, use `newframe = frame.copy()`\n",
      "  train_data[6842, 'budget'] = 30\n"
     ]
    }
   ],
   "source": [
    "# # Revenue\n",
    "# train_data[16, 'revenue'] = 192864\n",
    "# train_data[313, 'revenue'] = 12000000\n",
    "# train_data[451, 'revenue'] = 12000000\n",
    "# train_data[1865, 'revenue'] = 25000000\n",
    "\n",
    "# # Budget\n",
    "# train_data[90, 'budget'] = 30000000\n",
    "# train_data[118, 'budget'] = 60000000\n",
    "# train_data[149, 'budget'] = 18000000\n",
    "# train_data[464, 'budget'] = 20000000\n",
    "# train_data[470, 'budget'] = 13000000\n",
    "# train_data[513, 'budget'] = 930000\n",
    "# train_data[797, 'budget'] = 8000000\n",
    "# train_data[819, 'budget'] = 90000000\n",
    "# train_data[850, 'budget'] = 90000000\n",
    "# train_data[1007, 'budget'] = 2\n",
    "# train_data[1112, 'budget'] = 7500000\n",
    "# train_data[1131, 'budget'] = 4300000\n",
    "# train_data[1359, 'budget'] = 10000000\n",
    "# train_data[1542, 'budget'] = 1\n",
    "# train_data[1570, 'budget'] = 15800000\n",
    "# train_data[1571, 'budget'] = 4000000\n",
    "# train_data[1714, 'budget'] = 46000000\n",
    "# train_data[1721, 'budget'] = 17500000\n",
    "# train_data[1885, 'budget'] = 12\n",
    "# train_data[2091, 'budget'] = 10\n",
    "# train_data[2268, 'budget'] = 17500000\n",
    "# train_data[2491, 'budget'] = 6\n",
    "# train_data[2602, 'budget'] = 31000000\n",
    "# train_data[2612, 'budget'] = 15000000\n",
    "# train_data[2696, 'budget'] = 10000000\n",
    "# train_data[2801, 'budget'] = 10000000\n",
    "# train_data[335, 'budget'] = 2\n",
    "# train_data[348, 'budget'] = 12\n",
    "# train_data[470, 'budget'] = 13000000\n",
    "# train_data[513, 'budget'] = 1100000\n",
    "# train_data[640, 'budget'] = 6\n",
    "# train_data[696, 'budget'] = 1\n",
    "# train_data[797, 'budget'] = 8000000\n",
    "# train_data[850, 'budget'] = 1500000\n",
    "# train_data[1199, 'budget'] = 5\n",
    "# train_data[1282, 'budget'] = 9\n",
    "# train_data[1347, 'budget'] = 1\n",
    "# train_data[1755, 'budget'] = 2\n",
    "# train_data[1801, 'budget'] = 5\n",
    "# train_data[1918, 'budget'] = 592\n",
    "# train_data[2033, 'budget'] = 4\n",
    "# train_data[2118, 'budget'] = 344\n",
    "# train_data[2252, 'budget'] = 130\n",
    "# train_data[2256, 'budget'] = 1\n",
    "# train_data[2696, 'budget'] = 10000000\n",
    "# train_data[3033, 'budget'] = 250\n",
    "# train_data[3051, 'budget'] = 50\n",
    "# train_data[3084, 'budget'] = 337\n",
    "# train_data[3224, 'budget'] = 4\n",
    "# train_data[3594, 'budget'] = 25\n",
    "# train_data[3619, 'budget'] = 500\n",
    "# train_data[3831, 'budget'] = 3\n",
    "# train_data[3935, 'budget'] = 500\n",
    "# train_data[4049, 'budget'] = 995946\n",
    "# train_data[4424, 'budget'] = 3\n",
    "# train_data[4460, 'budget'] = 8\n",
    "# train_data[4555, 'budget'] = 1200000\n",
    "# train_data[4624, 'budget'] = 30\n",
    "# train_data[4645, 'budget'] = 500\n",
    "# train_data[4709, 'budget'] = 450\n",
    "# train_data[4839, 'budget'] = 7\n",
    "# train_data[3125, 'budget'] = 25\n",
    "# train_data[3142, 'budget'] = 1\n",
    "# train_data[3201, 'budget'] = 450\n",
    "# train_data[3222, 'budget'] = 6\n",
    "# train_data[3545, 'budget'] = 38\n",
    "# train_data[3670, 'budget'] = 18\n",
    "# train_data[3792, 'budget'] = 19\n",
    "# train_data[3881, 'budget'] = 7\n",
    "# train_data[3969, 'budget'] = 400\n",
    "# train_data[4196, 'budget'] = 6\n",
    "# train_data[4221, 'budget'] = 11\n",
    "# train_data[4222, 'budget'] = 500\n",
    "# train_data[4285, 'budget'] = 11\n",
    "# train_data[4319, 'budget'] = 1\n",
    "# train_data[4639, 'budget'] = 10\n",
    "# train_data[4719, 'budget'] = 45\n",
    "# train_data[4822, 'budget'] = 22\n",
    "# train_data[4829, 'budget'] = 20\n",
    "# train_data[4969, 'budget'] = 20\n",
    "# train_data[5021, 'budget'] = 40\n",
    "# train_data[5035, 'budget'] = 1\n",
    "# train_data[5063, 'budget'] = 14\n",
    "# train_data[5119, 'budget'] = 2\n",
    "# train_data[5214, 'budget'] = 30\n",
    "# train_data[5221, 'budget'] = 50\n",
    "# train_data[4903, 'budget'] = 15\n",
    "# train_data[4983, 'budget'] = 3\n",
    "# train_data[5102, 'budget'] = 28\n",
    "# train_data[5217, 'budget'] = 75\n",
    "# train_data[5224, 'budget'] = 3\n",
    "# train_data[5469, 'budget'] = 20\n",
    "# train_data[5840, 'budget'] = 1\n",
    "# train_data[5960, 'budget'] = 30\n",
    "# train_data[6506, 'budget'] = 11\n",
    "# train_data[6553, 'budget'] = 280\n",
    "# train_data[6561, 'budget'] = 7\n",
    "# train_data[6582, 'budget'] = 218\n",
    "# train_data[6638, 'budget'] = 5\n",
    "# train_data[6749, 'budget'] = 8\n",
    "# train_data[6759, 'budget'] = 50\n",
    "# train_data[6856, 'budget'] = 10\n",
    "# train_data[6858, 'budget'] = 100\n",
    "# train_data[6876, 'budget'] = 250\n",
    "# train_data[6972, 'budget'] = 1\n",
    "# train_data[7079, 'budget'] = 8000000\n",
    "# train_data[7150, 'budget'] = 118\n",
    "# train_data[6506, 'budget'] = 118\n",
    "# train_data[7225, 'budget'] = 6\n",
    "# train_data[7231, 'budget'] = 85\n",
    "# train_data[5222, 'budget'] = 5\n",
    "# train_data[5322, 'budget'] = 90\n",
    "# train_data[5350, 'budget'] = 70\n",
    "# train_data[5378, 'budget'] = 10\n",
    "# train_data[5545, 'budget'] = 80\n",
    "# train_data[5810, 'budget'] = 8\n",
    "# train_data[5926, 'budget'] = 300\n",
    "# train_data[5927, 'budget'] = 4\n",
    "# train_data[5986, 'budget'] = 1\n",
    "# train_data[6053, 'budget'] = 20\n",
    "# train_data[6104, 'budget'] = 1\n",
    "# train_data[6130, 'budget'] = 30\n",
    "# train_data[6301, 'budget'] = 150\n",
    "# train_data[6276, 'budget'] = 100\n",
    "# train_data[6473, 'budget'] = 100\n",
    "# train_data[6842, 'budget'] = 30"
   ]
  },
  {
   "cell_type": "markdown",
   "id": "9461b2de-25c8-4d66-a908-882ea5314bc7",
   "metadata": {},
   "source": [
    "## Missing Value Analysis"
   ]
  },
  {
   "cell_type": "code",
   "execution_count": 6,
   "id": "3a36dbbb-98e7-448e-bd59-611e5e777700",
   "metadata": {},
   "outputs": [
    {
     "data": {
      "text/plain": [
       "belongs_to_collection    79.9\n",
       "homepage                 68.5\n",
       "tagline                  19.9\n",
       "Keywords                  9.2\n",
       "production_companies      5.2\n",
       "production_countries      1.8\n",
       "spoken_languages          0.7\n",
       "crew                      0.5\n",
       "cast                      0.4\n",
       "overview                  0.3\n",
       "genres                    0.2\n",
       "runtime                   0.1\n",
       "title                     0.0\n",
       "status                    0.0\n",
       "id                        0.0\n",
       "release_date              0.0\n",
       "poster_path               0.0\n",
       "popularity                0.0\n",
       "original_title            0.0\n",
       "original_language         0.0\n",
       "imdb_id                   0.0\n",
       "budget                    0.0\n",
       "revenue                   0.0\n",
       "dtype: float64"
      ]
     },
     "execution_count": 6,
     "metadata": {},
     "output_type": "execute_result"
    }
   ],
   "source": [
    "np.round(100*train_data.isna().sum()/train_data.shape[0],1).sort_values(ascending=False)"
   ]
  },
  {
   "cell_type": "markdown",
   "id": "35cac056-df04-48c1-8a5f-33d5f99ba3a5",
   "metadata": {},
   "source": [
    "## Features\n",
    "\n",
    "- id: no relation to revenue\n",
    "- belongs_to_collection: useful for sequels, prequels, remakes. but how to encode it?\n",
    "    - use collection_id with OHE, if null set it to 'original'\n",
    "- budget: use as it is / log transform?; numerical; used in base estimator\n",
    "- genres: use id, how to encode multivalue attributes?\n",
    "    - create as many columns as there are unique ids, if a movie belongs to a genre, its column is set to 1\n",
    "    - what happens during test time? - unseen genre? - ignore it\n",
    "    - quickly increases the feature space dimensionality - use dimensionality reduction?\n",
    "        - use dimensionality reduction on just genres or on all features?\n",
    "        - there is not much correlation between genres, dimensionality reduction isn't effective - prove this\n",
    "- homepage: has homepage or not?\n",
    "- imdb_id: not relevant - see if any null? if it doesn't have an IMDB page, not a very popular movie\n",
    "- original_language - OHE\n",
    "- original_title - how to encode text? n - grams? - embedding?\n",
    "- overview - how to encode text?\n",
    "- popularity: numerical; used in base estimator\n",
    "- poster_path: how to use images?\n",
    "- production_companies: use the same approach as genres\n",
    "- production_countries: use the same approach as genres\n",
    "- release date: split into date, month, year; numerical; used in base estimator\n",
    "- runtime: numerical; used in base estimator\n",
    "- spoken_languages: use the same approach as genres\n",
    "- status: OHE\n",
    "- tagline: how to encode text\n",
    "    - presence\n",
    "- title: how to encode text\n",
    "- keywords: use the same approach as genres\n",
    "- cast:\n",
    "    - number of members\n",
    "    - number by gender\n",
    "    - presence of a cast member (same approach as genre) - multinomial attribute\n",
    "    - presence of a character (same approach as genre) - multinomial attribute\n",
    "- crew:\n",
    "    - number of members\n",
    "    - number by gender\n",
    "    - presence of a crew member (same approach as genre) - multinomial attribute\n",
    "    - presence of a role (same approach as genre) - multinomial attribute\n",
    "    - number of people in a department\n",
    "- revenue: log transform; used in base estimator"
   ]
  },
  {
   "cell_type": "markdown",
   "id": "73764524-f110-4e5a-9c63-ba7fa5dd8da6",
   "metadata": {
    "tags": []
   },
   "source": [
    "### Features to One Hot Encode\n",
    "- No transformation\n",
    "    - original_language\n",
    "    - status\n",
    "- Needs Transformation (presence Y/N)\n",
    "    - homepage\n",
    "    - tagline\n",
    "\n",
    "### Counts (of multinomial attributes)\n",
    "- genres\n",
    "- cast\n",
    "- crew\n",
    "- keywords\n",
    "- spoken_languages\n",
    "- production_countries\n",
    "- production_companies\n",
    "\n",
    "\n",
    "\n",
    "### Multinomial Name Extraction:\n",
    "- genres\n",
    "- keywords\n",
    "- spoken_languages\n",
    "- production_countries\n",
    "- production_companies\n",
    "\n",
    "### Custom Features\n",
    "- belongs_to_collection\n",
    "- Cast\n",
    "- Crew\n",
    "\n",
    "### Text Analysis\n",
    "- original_title\n",
    "- overview\n",
    "- tagline (only presence was used)\n",
    "- title\n",
    "\n",
    "### Discarded Features\n",
    "- id\n",
    "- imdb_id\n",
    "- poster_path\n"
   ]
  },
  {
   "cell_type": "markdown",
   "id": "096a9fc2-789b-4f32-ad7b-8e00a0bee7ea",
   "metadata": {
    "tags": []
   },
   "source": [
    "## Data Exploration"
   ]
  },
  {
   "cell_type": "code",
   "execution_count": 154,
   "id": "a488e474-010f-49ca-aca5-8b5dc69faac6",
   "metadata": {},
   "outputs": [],
   "source": [
    "y = np.log(train_data['revenue'])\n",
    "X = train_data.drop(['revenue'], axis=1)\n",
    "X_train, X_test, y_train, y_test = train_test_split(X, y, test_size=0.2, random_state=0, shuffle=True)"
   ]
  },
  {
   "cell_type": "markdown",
   "id": "ad3ba731-2c4c-45a4-b999-8dba0ecbefb1",
   "metadata": {
    "tags": []
   },
   "source": [
    "### Popularity"
   ]
  },
  {
   "cell_type": "code",
   "execution_count": 155,
   "id": "ed727a73-51ae-4234-989e-d97e9e6fa631",
   "metadata": {},
   "outputs": [
    {
     "data": {
      "text/plain": [
       "<AxesSubplot:>"
      ]
     },
     "execution_count": 155,
     "metadata": {},
     "output_type": "execute_result"
    },
    {
     "data": {
      "image/png": "[encoded data removed]",
      "text/plain": [
       "<Figure size 432x288 with 1 Axes>"
      ]
     },
     "metadata": {
      "needs_background": "light"
     },
     "output_type": "display_data"
    }
   ],
   "source": [
    "np.log1p(X['popularity']).hist()"
   ]
  },
  {
   "cell_type": "code",
   "execution_count": 156,
   "id": "2ebbfef7-27a1-4ef4-9962-1d406850e364",
   "metadata": {},
   "outputs": [
    {
     "data": {
      "text/plain": [
       "[<matplotlib.lines.Line2D at 0x282d90dc0>]"
      ]
     },
     "execution_count": 156,
     "metadata": {},
     "output_type": "execute_result"
    },
    {
     "data": {
      "image/png": "[encoded data removed]",
      "text/plain": [
       "<Figure size 432x288 with 1 Axes>"
      ]
     },
     "metadata": {
      "needs_background": "light"
     },
     "output_type": "display_data"
    }
   ],
   "source": [
    "plt.plot(np.log1p(X['popularity']), y, '.')"
   ]
  },
  {
   "cell_type": "markdown",
   "id": "2b538493-083f-4185-ad43-6003823d6fca",
   "metadata": {
    "jp-MarkdownHeadingCollapsed": true,
    "tags": []
   },
   "source": [
    "### Release Year"
   ]
  },
  {
   "cell_type": "code",
   "execution_count": 30,
   "id": "a406158b-4313-40b9-915e-2eda63f73281",
   "metadata": {},
   "outputs": [],
   "source": [
    "pipeline = make_pipeline(\n",
    "    SimpleImputer(strategy='most_frequent'), \n",
    "    ReleaseDateTransformer()\n",
    ")\n",
    "\n",
    "release_data = pipeline.fit_transform(X[['release_date']])"
   ]
  },
  {
   "cell_type": "code",
   "execution_count": 24,
   "id": "a373b40f-9666-49f7-bdcd-219e00160d7a",
   "metadata": {},
   "outputs": [
    {
     "data": {
      "text/plain": [
       "[<matplotlib.lines.Line2D at 0x16b13e4c0>]"
      ]
     },
     "execution_count": 24,
     "metadata": {},
     "output_type": "execute_result"
    },
    {
     "data": {
      "image/png": "[encoded data removed]",
      "text/plain": [
       "<Figure size 432x288 with 1 Axes>"
      ]
     },
     "metadata": {
      "needs_background": "light"
     },
     "output_type": "display_data"
    }
   ],
   "source": [
    "plt.plot(release_data['release_year'], y, '.')"
   ]
  },
  {
   "cell_type": "code",
   "execution_count": 36,
   "id": "29a770bb-a21e-4ae6-b135-a0b9bba45b4a",
   "metadata": {},
   "outputs": [
    {
     "data": {
      "text/plain": [
       "[<matplotlib.lines.Line2D at 0x16b263400>]"
      ]
     },
     "execution_count": 36,
     "metadata": {},
     "output_type": "execute_result"
    },
    {
     "data": {
      "image/png": "[encoded data removed]",
      "text/plain": [
       "<Figure size 432x288 with 1 Axes>"
      ]
     },
     "metadata": {
      "needs_background": "light"
     },
     "output_type": "display_data"
    }
   ],
   "source": [
    "plt.plot(release_data['release_month'], y, '.')"
   ]
  },
  {
   "cell_type": "markdown",
   "id": "8ffeed1b-1523-4c3b-91e8-4cc99b1e43bb",
   "metadata": {
    "jp-MarkdownHeadingCollapsed": true,
    "tags": []
   },
   "source": [
    "### Runtime"
   ]
  },
  {
   "cell_type": "code",
   "execution_count": 39,
   "id": "a162c7d3-736e-4f34-963a-5b8d76e701dd",
   "metadata": {},
   "outputs": [],
   "source": [
    "runtime = RuntimeImputer.fit_transform(X[['runtime']])"
   ]
  },
  {
   "cell_type": "code",
   "execution_count": 52,
   "id": "de448532-e544-4e6e-80a4-29a417463479",
   "metadata": {},
   "outputs": [
    {
     "data": {
      "text/plain": [
       "<AxesSubplot:>"
      ]
     },
     "execution_count": 52,
     "metadata": {},
     "output_type": "execute_result"
    },
    {
     "data": {
      "image/png": "[encoded data removed]",
      "text/plain": [
       "<Figure size 432x288 with 1 Axes>"
      ]
     },
     "metadata": {
      "needs_background": "light"
     },
     "output_type": "display_data"
    }
   ],
   "source": [
    "pd.Series(runtime[:,0]).hist()"
   ]
  },
  {
   "cell_type": "code",
   "execution_count": 51,
   "id": "fc798748-196c-42c2-8487-dafbcae40dbf",
   "metadata": {},
   "outputs": [
    {
     "data": {
      "text/plain": [
       "<AxesSubplot:>"
      ]
     },
     "execution_count": 51,
     "metadata": {},
     "output_type": "execute_result"
    },
    {
     "data": {
      "image/png": "[encoded data removed]",
      "text/plain": [
       "<Figure size 432x288 with 1 Axes>"
      ]
     },
     "metadata": {
      "needs_background": "light"
     },
     "output_type": "display_data"
    }
   ],
   "source": [
    "pd.Series(np.log1p(runtime[:,0])).hist()"
   ]
  },
  {
   "cell_type": "code",
   "execution_count": 50,
   "id": "2159a1af-89e2-40d6-a27f-0ca760b79530",
   "metadata": {},
   "outputs": [
    {
     "data": {
      "text/plain": [
       "<AxesSubplot:>"
      ]
     },
     "execution_count": 50,
     "metadata": {},
     "output_type": "execute_result"
    },
    {
     "data": {
      "image/png": "[encoded data removed]",
      "text/plain": [
       "<Figure size 432x288 with 1 Axes>"
      ]
     },
     "metadata": {
      "needs_background": "light"
     },
     "output_type": "display_data"
    }
   ],
   "source": [
    "pd.Series(np.sqrt(runtime[:,0])).hist()"
   ]
  },
  {
   "cell_type": "code",
   "execution_count": 62,
   "id": "83bec9b8-c6ab-437c-b50c-3de4c8b6f18b",
   "metadata": {},
   "outputs": [
    {
     "data": {
      "text/plain": [
       "(4.3, 5.3)"
      ]
     },
     "execution_count": 62,
     "metadata": {},
     "output_type": "execute_result"
    },
    {
     "data": {
      "image/png": "[encoded data removed]",
      "text/plain": [
       "<Figure size 432x288 with 1 Axes>"
      ]
     },
     "metadata": {
      "needs_background": "light"
     },
     "output_type": "display_data"
    }
   ],
   "source": [
    "plt.plot(np.log1p(runtime[:,0]), y, '.')\n",
    "plt.xlim((4.3, 5.3))"
   ]
  },
  {
   "cell_type": "markdown",
   "id": "eb3a31d7-e4a4-4315-b2ed-f2e3d1e7c809",
   "metadata": {
    "jp-MarkdownHeadingCollapsed": true,
    "tags": []
   },
   "source": [
    "### Keywords"
   ]
  },
  {
   "cell_type": "code",
   "execution_count": 43,
   "id": "ce26a836-aede-4280-8139-f7090725f57c",
   "metadata": {},
   "outputs": [
    {
     "data": {
      "text/plain": [
       "woman_director          175.0\n",
       "independent_film        155.0\n",
       "duringcreditsstinger    134.0\n",
       "murder                  123.0\n",
       "based_on_novel          111.0\n",
       "violence                 87.0\n",
       "sport                    82.0\n",
       "biography                77.0\n",
       "aftercreditsstinger      75.0\n",
       "dystopia                 73.0\n",
       "revenge                  73.0\n",
       "friendship               72.0\n",
       "sex                      71.0\n",
       "suspense                 67.0\n",
       "sequel                   66.0\n",
       "police                   64.0\n",
       "love                     64.0\n",
       "teenager                 61.0\n",
       "nudity                   57.0\n",
       "female_nudity            53.0\n",
       "drug                     52.0\n",
       "prison                   50.0\n",
       "high_school              49.0\n",
       "musical                  49.0\n",
       "los_angeles              48.0\n",
       "dtype: float64"
      ]
     },
     "execution_count": 43,
     "metadata": {},
     "output_type": "execute_result"
    }
   ],
   "source": [
    "pipeline = make_name_extraction_pipeline()\n",
    "tf = pipeline.fit_transform(X[['Keywords']])\n",
    "columns = pipeline.named_steps['multinomialattributetransformer'].categories_\n",
    "tf_df = pd.DataFrame(tf, columns=columns)\n",
    "tf_df.sum().sort_values(ascending=False).iloc[:25]"
   ]
  },
  {
   "cell_type": "code",
   "execution_count": 44,
   "id": "b9febed6-1755-4ce8-80cb-75019f405522",
   "metadata": {},
   "outputs": [
    {
     "data": {
      "text/plain": [
       "(3000, 7400)"
      ]
     },
     "execution_count": 44,
     "metadata": {},
     "output_type": "execute_result"
    }
   ],
   "source": [
    "tf_df.shape"
   ]
  },
  {
   "cell_type": "code",
   "execution_count": 47,
   "id": "595c4242-8e37-4347-9395-5d59f8a56f26",
   "metadata": {},
   "outputs": [
    {
     "data": {
      "text/plain": [
       "52"
      ]
     },
     "execution_count": 47,
     "metadata": {},
     "output_type": "execute_result"
    }
   ],
   "source": [
    "np.sum(tf_df.var() > 0.01)"
   ]
  },
  {
   "cell_type": "code",
   "execution_count": 57,
   "id": "ef768346-e4f3-42ca-bf4b-b4ac3dc36541",
   "metadata": {},
   "outputs": [
    {
     "data": {
      "text/plain": [
       "0.0099999985857975"
      ]
     },
     "execution_count": 57,
     "metadata": {},
     "output_type": "execute_result"
    }
   ],
   "source": [
    "p=0.01010205\n",
    "p*(1-p)"
   ]
  },
  {
   "cell_type": "code",
   "execution_count": 50,
   "id": "74cc006c-8fb1-46ad-aef5-72b11f6ef059",
   "metadata": {},
   "outputs": [
    {
     "data": {
      "text/plain": [
       "(0.010102051443364402, 0.9898979485566356)"
      ]
     },
     "execution_count": 50,
     "metadata": {},
     "output_type": "execute_result"
    }
   ],
   "source": [
    "def quad_root(a,b,c):\n",
    "    t = np.sqrt(b**2-4*a*c)\n",
    "    return (-b-t)/(2*a), (-b+t)/(2*a)\n",
    "quad_root(1, -1, 0.01)"
   ]
  },
  {
   "cell_type": "code",
   "execution_count": 63,
   "id": "6ac0e5f3-df2d-4f62-8cab-730d8c7170c8",
   "metadata": {},
   "outputs": [],
   "source": [
    "pca = PCA(n_components=1000)\n",
    "\n",
    "tf2 = pca.fit_transform(tf_df)"
   ]
  },
  {
   "cell_type": "code",
   "execution_count": 69,
   "id": "90433eb5-206e-4c61-96f9-22413401f708",
   "metadata": {},
   "outputs": [
    {
     "data": {
      "text/plain": [
       "124"
      ]
     },
     "execution_count": 69,
     "metadata": {},
     "output_type": "execute_result"
    }
   ],
   "source": [
    "np.sum(np.var(tf2, axis=0)>0.01)"
   ]
  },
  {
   "cell_type": "markdown",
   "id": "b8e34888-89f6-4785-8c12-da1fa82074a9",
   "metadata": {
    "jp-MarkdownHeadingCollapsed": true,
    "tags": []
   },
   "source": [
    "### spoken_languages"
   ]
  },
  {
   "cell_type": "code",
   "execution_count": 11,
   "id": "1453b67f-9650-4941-8d15-3e3ec00b6f6e",
   "metadata": {},
   "outputs": [
    {
     "data": {
      "text/plain": [
       "English      2618.0\n",
       "Français      288.0\n",
       "Español       239.0\n",
       "Deutsch       169.0\n",
       "Pусский       152.0\n",
       "Italiano      124.0\n",
       "日本語            89.0\n",
       "普通话            68.0\n",
       "हिन्दी         56.0\n",
       "               43.0\n",
       "Português      43.0\n",
       "العربية        40.0\n",
       "한국어/조선말        37.0\n",
       "广州话_/_廣州話      36.0\n",
       "தமிழ்          27.0\n",
       "Polski         25.0\n",
       "Magyar         24.0\n",
       "Latin          23.0\n",
       "svenska        22.0\n",
       "ภาษาไทย        22.0\n",
       "Český          20.0\n",
       "עִבְרִית       15.0\n",
       "ελληνικά       15.0\n",
       "Dansk          13.0\n",
       "Türkçe         13.0\n",
       "dtype: float64"
      ]
     },
     "execution_count": 11,
     "metadata": {},
     "output_type": "execute_result"
    }
   ],
   "source": [
    "pipeline = make_name_extraction_pipeline()\n",
    "tf = pipeline.fit_transform(X[['spoken_languages']])\n",
    "columns = pipeline.named_steps['multinomialattributetransformer'].categories_\n",
    "tf_df = pd.DataFrame(tf, columns=columns)\n",
    "tf_df.sum().sort_values(ascending=False).iloc[:25]"
   ]
  },
  {
   "cell_type": "code",
   "execution_count": 12,
   "id": "af974efe-8b1a-4c55-97ea-a430d6562f48",
   "metadata": {},
   "outputs": [
    {
     "data": {
      "text/plain": [
       "(3000, 56)"
      ]
     },
     "execution_count": 12,
     "metadata": {},
     "output_type": "execute_result"
    }
   ],
   "source": [
    "tf_df.shape"
   ]
  },
  {
   "cell_type": "markdown",
   "id": "c35b4387-b88e-4ee1-9ced-c97367eae442",
   "metadata": {
    "jp-MarkdownHeadingCollapsed": true,
    "tags": []
   },
   "source": [
    "### production_countries"
   ]
  },
  {
   "cell_type": "code",
   "execution_count": 13,
   "id": "622ba112-55d0-4ab7-aab2-8a4a700d6393",
   "metadata": {},
   "outputs": [
    {
     "data": {
      "text/plain": [
       "United_States_of_America    2282.0\n",
       "United_Kingdom               380.0\n",
       "France                       222.0\n",
       "Germany                      167.0\n",
       "Canada                       120.0\n",
       "India                         81.0\n",
       "Italy                         64.0\n",
       "Australia                     61.0\n",
       "Japan                         61.0\n",
       "Russia                        58.0\n",
       "Spain                         54.0\n",
       "Hong_Kong                     42.0\n",
       "China                         42.0\n",
       "Belgium                       23.0\n",
       "Ireland                       23.0\n",
       "South_Korea                   22.0\n",
       "Mexico                        19.0\n",
       "Sweden                        18.0\n",
       "New_Zealand                   17.0\n",
       "Netherlands                   15.0\n",
       "Czech_Republic                14.0\n",
       "Denmark                       13.0\n",
       "Brazil                        12.0\n",
       "South_Africa                  10.0\n",
       "Luxembourg                    10.0\n",
       "dtype: float64"
      ]
     },
     "execution_count": 13,
     "metadata": {},
     "output_type": "execute_result"
    }
   ],
   "source": [
    "pipeline = make_name_extraction_pipeline()\n",
    "tf = pipeline.fit_transform(X[['production_countries']])\n",
    "columns = pipeline.named_steps['multinomialattributetransformer'].categories_\n",
    "tf_df = pd.DataFrame(tf, columns=columns)\n",
    "tf_df.sum().sort_values(ascending=False).iloc[:25]"
   ]
  },
  {
   "cell_type": "code",
   "execution_count": 14,
   "id": "88e61226-fe8e-41a2-8c75-a6b6dbfd9fd6",
   "metadata": {},
   "outputs": [
    {
     "data": {
      "text/plain": [
       "(3000, 74)"
      ]
     },
     "execution_count": 14,
     "metadata": {},
     "output_type": "execute_result"
    }
   ],
   "source": [
    "tf_df.shape"
   ]
  },
  {
   "cell_type": "markdown",
   "id": "5a478480-9d5b-466b-8b27-e93c6afad8e8",
   "metadata": {
    "jp-MarkdownHeadingCollapsed": true,
    "tags": []
   },
   "source": [
    "### production_companies"
   ]
  },
  {
   "cell_type": "code",
   "execution_count": 15,
   "id": "8c2a79a9-22ef-4321-8f31-dbfc16ef6e0a",
   "metadata": {},
   "outputs": [
    {
     "data": {
      "text/plain": [
       "Warner_Bros.                              202.0\n",
       "Universal_Pictures                        188.0\n",
       "Paramount_Pictures                        161.0\n",
       "Twentieth_Century_Fox_Film_Corporation    138.0\n",
       "Columbia_Pictures                          91.0\n",
       "Metro-Goldwyn-Mayer_(MGM)                  84.0\n",
       "New_Line_Cinema                            75.0\n",
       "Touchstone_Pictures                        63.0\n",
       "Walt_Disney_Pictures                       62.0\n",
       "Columbia_Pictures_Corporation              61.0\n",
       "TriStar_Pictures                           53.0\n",
       "Relativity_Media                           48.0\n",
       "Canal+                                     46.0\n",
       "United_Artists                             44.0\n",
       "Miramax_Films                              40.0\n",
       "Village_Roadshow_Pictures                  36.0\n",
       "Regency_Enterprises                        31.0\n",
       "BBC_Films                                  30.0\n",
       "Dune_Entertainment                         30.0\n",
       "Working_Title_Films                        30.0\n",
       "Fox_Searchlight_Pictures                   29.0\n",
       "Lionsgate                                  28.0\n",
       "StudioCanal                                28.0\n",
       "DreamWorks_SKG                             27.0\n",
       "Fox_2000_Pictures                          25.0\n",
       "dtype: float64"
      ]
     },
     "execution_count": 15,
     "metadata": {},
     "output_type": "execute_result"
    }
   ],
   "source": [
    "pipeline = make_name_extraction_pipeline()\n",
    "tf = pipeline.fit_transform(X[['production_companies']])\n",
    "columns = pipeline.named_steps['multinomialattributetransformer'].categories_\n",
    "tf_df = pd.DataFrame(tf, columns=columns)\n",
    "tf_df.sum().sort_values(ascending=False).iloc[:25]"
   ]
  },
  {
   "cell_type": "code",
   "execution_count": 16,
   "id": "9193713e-b25b-4390-957b-011f2d81e4f9",
   "metadata": {},
   "outputs": [
    {
     "data": {
      "text/plain": [
       "(3000, 3695)"
      ]
     },
     "execution_count": 16,
     "metadata": {},
     "output_type": "execute_result"
    }
   ],
   "source": [
    "tf_df.shape"
   ]
  },
  {
   "cell_type": "markdown",
   "id": "e608495b-a4af-4904-8e0b-ed17a4c9a464",
   "metadata": {},
   "source": [
    "### belongs_to_collection"
   ]
  },
  {
   "cell_type": "code",
   "execution_count": 144,
   "id": "078b2116-18b6-4068-b889-0cfd60f428c3",
   "metadata": {},
   "outputs": [
    {
     "data": {
      "text/html": [
       "<div>\n",
       "<style scoped>\n",
       "    .dataframe tbody tr th:only-of-type {\n",
       "        vertical-align: middle;\n",
       "    }\n",
       "\n",
       "    .dataframe tbody tr th {\n",
       "        vertical-align: top;\n",
       "    }\n",
       "\n",
       "    .dataframe thead th {\n",
       "        text-align: right;\n",
       "    }\n",
       "</style>\n",
       "<table border=\"1\" class=\"dataframe\">\n",
       "  <thead>\n",
       "    <tr style=\"text-align: right;\">\n",
       "      <th></th>\n",
       "      <th>belongs_to_collection</th>\n",
       "    </tr>\n",
       "  </thead>\n",
       "  <tbody>\n",
       "    <tr>\n",
       "      <th>0</th>\n",
       "      <td>1</td>\n",
       "    </tr>\n",
       "    <tr>\n",
       "      <th>1</th>\n",
       "      <td>1</td>\n",
       "    </tr>\n",
       "    <tr>\n",
       "      <th>2</th>\n",
       "      <td>0</td>\n",
       "    </tr>\n",
       "    <tr>\n",
       "      <th>3</th>\n",
       "      <td>0</td>\n",
       "    </tr>\n",
       "    <tr>\n",
       "      <th>4</th>\n",
       "      <td>0</td>\n",
       "    </tr>\n",
       "    <tr>\n",
       "      <th>...</th>\n",
       "      <td>...</td>\n",
       "    </tr>\n",
       "    <tr>\n",
       "      <th>2995</th>\n",
       "      <td>0</td>\n",
       "    </tr>\n",
       "    <tr>\n",
       "      <th>2996</th>\n",
       "      <td>0</td>\n",
       "    </tr>\n",
       "    <tr>\n",
       "      <th>2997</th>\n",
       "      <td>0</td>\n",
       "    </tr>\n",
       "    <tr>\n",
       "      <th>2998</th>\n",
       "      <td>0</td>\n",
       "    </tr>\n",
       "    <tr>\n",
       "      <th>2999</th>\n",
       "      <td>0</td>\n",
       "    </tr>\n",
       "  </tbody>\n",
       "</table>\n",
       "<p>3000 rows × 1 columns</p>\n",
       "</div>"
      ],
      "text/plain": [
       "     belongs_to_collection\n",
       "0                        1\n",
       "1                        1\n",
       "2                        0\n",
       "3                        0\n",
       "4                        0\n",
       "...                    ...\n",
       "2995                     0\n",
       "2996                     0\n",
       "2997                     0\n",
       "2998                     0\n",
       "2999                     0\n",
       "\n",
       "[3000 rows x 1 columns]"
      ]
     },
     "execution_count": 144,
     "metadata": {},
     "output_type": "execute_result"
    }
   ],
   "source": [
    "presenceBinarizer.transform(X[['belongs_to_collection']])"
   ]
  },
  {
   "cell_type": "markdown",
   "id": "f5f7b7c4-440f-4b8e-b95f-641109346d2c",
   "metadata": {},
   "source": [
    "### Cast - names"
   ]
  },
  {
   "cell_type": "code",
   "execution_count": 17,
   "id": "99ea67e4-81ad-41a2-8d70-7ec8998c5dfc",
   "metadata": {},
   "outputs": [
    {
     "data": {
      "text/plain": [
       "Robert_De_Niro        30.0\n",
       "Samuel_L._Jackson     30.0\n",
       "Morgan_Freeman        27.0\n",
       "Susan_Sarandon        25.0\n",
       "Bruce_Willis          25.0\n",
       "Liam_Neeson           25.0\n",
       "J.K._Simmons          25.0\n",
       "Bruce_McGill          24.0\n",
       "John_Turturro         24.0\n",
       "Forest_Whitaker       23.0\n",
       "Willem_Dafoe          23.0\n",
       "Nicolas_Cage          22.0\n",
       "Bill_Murray           22.0\n",
       "Owen_Wilson           22.0\n",
       "Mel_Gibson            21.0\n",
       "Sigourney_Weaver      21.0\n",
       "John_Goodman          21.0\n",
       "Sylvester_Stallone    21.0\n",
       "Jason_Statham         21.0\n",
       "Keith_David           21.0\n",
       "Matt_Damon            20.0\n",
       "Dennis_Quaid          20.0\n",
       "Richard_Jenkins       20.0\n",
       "Ed_Harris             20.0\n",
       "Michael_Caine         20.0\n",
       "dtype: float64"
      ]
     },
     "execution_count": 17,
     "metadata": {},
     "output_type": "execute_result"
    }
   ],
   "source": [
    "pipeline = make_name_extraction_pipeline()\n",
    "tf = pipeline.fit_transform(X[['cast']])\n",
    "columns = pipeline.named_steps['multinomialattributetransformer'].categories_\n",
    "tf_df = pd.DataFrame(tf, columns=columns)\n",
    "tf_df.sum().sort_values(ascending=False).iloc[:25]"
   ]
  },
  {
   "cell_type": "code",
   "execution_count": 18,
   "id": "61607d7a-9bbd-401d-8291-a5caa9c3c32f",
   "metadata": {},
   "outputs": [
    {
     "data": {
      "text/plain": [
       "(3000, 38588)"
      ]
     },
     "execution_count": 18,
     "metadata": {},
     "output_type": "execute_result"
    }
   ],
   "source": [
    "tf_df.shape"
   ]
  },
  {
   "cell_type": "markdown",
   "id": "d6cbf50b-3724-4f69-a726-9dc340920b79",
   "metadata": {},
   "source": [
    "### cast - gender"
   ]
  },
  {
   "cell_type": "code",
   "execution_count": 19,
   "id": "f68113b4-cd94-4697-9b5c-b1ff5c036991",
   "metadata": {},
   "outputs": [],
   "source": [
    "class UniqueCountTransformer(BaseEstimator, TransformerMixin):\n",
    "    def __init__(self):\n",
    "        self.categories_ = None\n",
    "    def fit(self, X, y=None):\n",
    "        return self\n",
    "    def transform(self, X):\n",
    "        res =  pd.DataFrame(map(lambda c: dict(zip(*np.unique(c, return_counts=True))), X))\n",
    "        self.categories_ = list(res.columns)\n",
    "        return res"
   ]
  },
  {
   "cell_type": "code",
   "execution_count": 20,
   "id": "a300850a-15e1-48ed-8556-920c4d3d9a43",
   "metadata": {},
   "outputs": [],
   "source": [
    "pipe = make_pipeline(\n",
    "        SimpleImputer(strategy='constant', fill_value='[]'), \n",
    "        ExtractionTransformer('gender'),\n",
    "        # FunctionTransformer(lambda x: pd.DataFrame(list(x.apply(lambda c: dict(zip(*np.unique(c, return_counts=True))))))),\n",
    "        UniqueCountTransformer(),\n",
    "        SimpleImputer(strategy='constant', fill_value=0)\n",
    "    )\n",
    "\n",
    "x = pipe.fit_transform(X[['cast']])"
   ]
  },
  {
   "cell_type": "code",
   "execution_count": 21,
   "id": "02fa7f8a-592c-4829-a44f-a78fa754a21c",
   "metadata": {},
   "outputs": [
    {
     "data": {
      "text/plain": [
       "(3000, 3)"
      ]
     },
     "execution_count": 21,
     "metadata": {},
     "output_type": "execute_result"
    }
   ],
   "source": [
    "x.shape"
   ]
  },
  {
   "cell_type": "code",
   "execution_count": 22,
   "id": "055bb519-53f2-4696-b9b0-d4becafba59f",
   "metadata": {},
   "outputs": [
    {
     "data": {
      "text/plain": [
       "[0, 1, 2]"
      ]
     },
     "execution_count": 22,
     "metadata": {},
     "output_type": "execute_result"
    }
   ],
   "source": [
    "pipe.named_steps['uniquecounttransformer'].categories_"
   ]
  },
  {
   "cell_type": "markdown",
   "id": "e8a080b3-37fc-49ca-9ff0-21c27dd4b1eb",
   "metadata": {},
   "source": [
    "### cast - characters"
   ]
  },
  {
   "cell_type": "code",
   "execution_count": 23,
   "id": "5af69691-5c2f-45e6-b37d-3b6ea3231195",
   "metadata": {},
   "outputs": [
    {
     "data": {
      "text/plain": [
       "                  208.0\n",
       "Himself           162.0\n",
       "Doctor             77.0\n",
       "Herself            66.0\n",
       "Waitress           66.0\n",
       "Nurse              59.0\n",
       "Bartender          53.0\n",
       "Jack               53.0\n",
       "Paul               48.0\n",
       "Security_Guard     48.0\n",
       "Reporter           45.0\n",
       "Frank              44.0\n",
       "Charlie            41.0\n",
       "Priest             40.0\n",
       "Waiter             39.0\n",
       "Tony               38.0\n",
       "David              38.0\n",
       "Mary               38.0\n",
       "Sam                37.0\n",
       "Tommy              37.0\n",
       "John               36.0\n",
       "Sarah              36.0\n",
       "Judge              35.0\n",
       "Anna               35.0\n",
       "Cop                35.0\n",
       "dtype: float64"
      ]
     },
     "execution_count": 23,
     "metadata": {},
     "output_type": "execute_result"
    }
   ],
   "source": [
    "pipeline = make_pipeline(\n",
    "        SimpleImputer(strategy='constant', fill_value='[]'), \n",
    "        ExtractionTransformer('character'),\n",
    "        MultinomialAttributeTransformer()\n",
    "    )\n",
    "tf = pipeline.fit_transform(X[['cast']])\n",
    "columns = pipeline.named_steps['multinomialattributetransformer'].categories_\n",
    "tf_df = pd.DataFrame(tf, columns=columns)\n",
    "tf_df.sum().sort_values(ascending=False).iloc[:25]"
   ]
  },
  {
   "cell_type": "code",
   "execution_count": 24,
   "id": "f5220a5f-390b-4371-a4a6-d0f7c207c2e3",
   "metadata": {},
   "outputs": [
    {
     "data": {
      "text/plain": [
       "(3000, 44422)"
      ]
     },
     "execution_count": 24,
     "metadata": {},
     "output_type": "execute_result"
    }
   ],
   "source": [
    "tf_df.shape"
   ]
  },
  {
   "cell_type": "markdown",
   "id": "86bdf1e9-6dbe-4735-920a-9c3b1b1b9a8a",
   "metadata": {
    "tags": []
   },
   "source": [
    "### Crew - names"
   ]
  },
  {
   "cell_type": "code",
   "execution_count": 25,
   "id": "c72cd4f8-5ffd-485d-bff4-be065571953c",
   "metadata": {},
   "outputs": [
    {
     "data": {
      "text/plain": [
       "Avy_Kaufman            50.0\n",
       "Deborah_Aquila         40.0\n",
       "James_Newton_Howard    39.0\n",
       "Jerry_Goldsmith        37.0\n",
       "Mary_Vernieu           37.0\n",
       "Francine_Maisler       35.0\n",
       "Tricia_Wood            35.0\n",
       "James_Horner           33.0\n",
       "Kerry_Barden           32.0\n",
       "Steven_Spielberg       31.0\n",
       "Janet_Hirshenson       30.0\n",
       "Harvey_Weinstein       30.0\n",
       "Bob_Weinstein          30.0\n",
       "Jane_Jenkins           29.0\n",
       "Hans_Zimmer            28.0\n",
       "John_Papsidera         28.0\n",
       "John_Debney            28.0\n",
       "Billy_Hopkins          27.0\n",
       "Hans_Bjerno            26.0\n",
       "Mark_Isham             26.0\n",
       "Danny_Elfman           26.0\n",
       "Mindy_Marin            26.0\n",
       "Neal_H._Moritz         26.0\n",
       "Tim_Bevan              26.0\n",
       "Sarah_Finn             25.0\n",
       "dtype: float64"
      ]
     },
     "execution_count": 25,
     "metadata": {},
     "output_type": "execute_result"
    }
   ],
   "source": [
    "pipeline = make_name_extraction_pipeline()\n",
    "tf = pipeline.fit_transform(X[['crew']])\n",
    "columns = pipeline.named_steps['multinomialattributetransformer'].categories_\n",
    "tf_df = pd.DataFrame(tf, columns=columns)\n",
    "tf_df.sum().sort_values(ascending=False).iloc[:25]"
   ]
  },
  {
   "cell_type": "code",
   "execution_count": 26,
   "id": "08d5520b-4131-400a-ba79-bf66ec70ad70",
   "metadata": {},
   "outputs": [
    {
     "data": {
      "text/plain": [
       "(3000, 38554)"
      ]
     },
     "execution_count": 26,
     "metadata": {},
     "output_type": "execute_result"
    }
   ],
   "source": [
    "tf_df.shape"
   ]
  },
  {
   "cell_type": "markdown",
   "id": "f2bef438-48d5-4a5b-9200-c24de8cd1af4",
   "metadata": {},
   "source": [
    "### crew - job"
   ]
  },
  {
   "cell_type": "code",
   "execution_count": 70,
   "id": "41eb2f26-316f-4933-bfc7-2e665dee69e4",
   "metadata": {},
   "outputs": [
    {
     "data": {
      "text/plain": [
       "Director                    2984.0\n",
       "Producer                    2373.0\n",
       "Editor                      2195.0\n",
       "Director_of_Photography     2177.0\n",
       "Screenplay                  1797.0\n",
       "Original_Music_Composer     1732.0\n",
       "Production_Design           1582.0\n",
       "Casting                     1504.0\n",
       "Costume_Design              1449.0\n",
       "Executive_Producer          1318.0\n",
       "Art_Direction               1242.0\n",
       "Set_Decoration              1154.0\n",
       "Writer                      1029.0\n",
       "Script_Supervisor            781.0\n",
       "Makeup_Artist                650.0\n",
       "Still_Photographer           622.0\n",
       "Music                        541.0\n",
       "Music_Editor                 533.0\n",
       "Stunt_Coordinator            521.0\n",
       "Supervising_Sound_Editor     503.0\n",
       "Sound_Re-Recording_Mixer     499.0\n",
       "Camera_Operator              487.0\n",
       "Hairstylist                  484.0\n",
       "Costume_Supervisor           463.0\n",
       "Novel                        443.0\n",
       "dtype: float64"
      ]
     },
     "execution_count": 70,
     "metadata": {},
     "output_type": "execute_result"
    }
   ],
   "source": [
    "pipeline = make_pipeline(\n",
    "        SimpleImputer(strategy='constant', fill_value='[]'), \n",
    "        ExtractionTransformer('job'),\n",
    "        MultinomialAttributeTransformer()\n",
    "    )\n",
    "tf = pipeline.fit_transform(X[['crew']])\n",
    "columns = pipeline.named_steps['multinomialattributetransformer'].categories_\n",
    "tf_df = pd.DataFrame(tf, columns=columns)\n",
    "tf_df.sum().sort_values(ascending=False).iloc[:25]"
   ]
  },
  {
   "cell_type": "code",
   "execution_count": 28,
   "id": "6ded04f6-7750-4e0a-acb5-f604713de63a",
   "metadata": {},
   "outputs": [
    {
     "data": {
      "text/plain": [
       "(3000, 412)"
      ]
     },
     "execution_count": 28,
     "metadata": {},
     "output_type": "execute_result"
    }
   ],
   "source": [
    "tf_df.shape"
   ]
  },
  {
   "cell_type": "markdown",
   "id": "13c37996-ef6a-4cdc-8434-0ec6b5d7ab6b",
   "metadata": {
    "tags": []
   },
   "source": [
    "### crew - gender"
   ]
  },
  {
   "cell_type": "code",
   "execution_count": 29,
   "id": "712ecc6c-7304-4384-8636-bf50e60f27be",
   "metadata": {},
   "outputs": [],
   "source": [
    "pipe = make_pipeline(\n",
    "        SimpleImputer(strategy='constant', fill_value='[]'), \n",
    "        ExtractionTransformer('gender'),\n",
    "        # FunctionTransformer(lambda x: pd.DataFrame(list(x.apply(lambda c: dict(zip(*np.unique(c, return_counts=True))))))),\n",
    "        UniqueCountTransformer(),\n",
    "        SimpleImputer(strategy='constant', fill_value=0)\n",
    "    )\n",
    "\n",
    "x = pipe.fit_transform(X[['crew']])"
   ]
  },
  {
   "cell_type": "code",
   "execution_count": 30,
   "id": "bde22a95-f24c-4edb-8123-50bc3734286f",
   "metadata": {},
   "outputs": [
    {
     "data": {
      "text/plain": [
       "array([[<AxesSubplot:title={'center':'0'}>,\n",
       "        <AxesSubplot:title={'center':'1'}>],\n",
       "       [<AxesSubplot:title={'center':'2'}>, <AxesSubplot:>]], dtype=object)"
      ]
     },
     "execution_count": 30,
     "metadata": {},
     "output_type": "execute_result"
    },
    {
     "data": {
      "image/png": "[encoded data removed]",
      "text/plain": [
       "<Figure size 432x288 with 4 Axes>"
      ]
     },
     "metadata": {
      "needs_background": "light"
     },
     "output_type": "display_data"
    }
   ],
   "source": [
    "pd.DataFrame(x, columns=[0,1,2]).hist()"
   ]
  },
  {
   "cell_type": "markdown",
   "id": "38597d97-2bb6-4251-a998-7d6067b41a28",
   "metadata": {
    "tags": []
   },
   "source": [
    "### crew - department"
   ]
  },
  {
   "cell_type": "code",
   "execution_count": 31,
   "id": "7871fe84-b1ce-48f3-a59f-b3f80ed290c5",
   "metadata": {},
   "outputs": [],
   "source": [
    "pipe = make_pipeline(\n",
    "        SimpleImputer(strategy='constant', fill_value='[]'), \n",
    "        ExtractionTransformer('department'),\n",
    "        # FunctionTransformer(lambda x: pd.DataFrame(list(x.apply(lambda c: dict(zip(*np.unique(c, return_counts=True))))))),\n",
    "        UniqueCountTransformer(),\n",
    "        SimpleImputer(strategy='constant', fill_value=0)\n",
    "    )\n",
    "\n",
    "x = pipe.fit_transform(X[['crew']])"
   ]
  },
  {
   "cell_type": "code",
   "execution_count": 32,
   "id": "01c87ce3-51fb-4a32-a98e-2baa17fd42bd",
   "metadata": {},
   "outputs": [
    {
     "data": {
      "text/plain": [
       "(3000, 12)"
      ]
     },
     "execution_count": 32,
     "metadata": {},
     "output_type": "execute_result"
    }
   ],
   "source": [
    "x.shape"
   ]
  },
  {
   "cell_type": "code",
   "execution_count": 33,
   "id": "d35c34c4-b264-48fb-b57a-da0a1d75c040",
   "metadata": {},
   "outputs": [
    {
     "data": {
      "text/plain": [
       "['Art',\n",
       " 'Camera',\n",
       " 'Costume & Make-Up',\n",
       " 'Crew',\n",
       " 'Directing',\n",
       " 'Editing',\n",
       " 'Lighting',\n",
       " 'Production',\n",
       " 'Sound',\n",
       " 'Visual Effects',\n",
       " 'Writing',\n",
       " 'Actors']"
      ]
     },
     "execution_count": 33,
     "metadata": {},
     "output_type": "execute_result"
    }
   ],
   "source": [
    "pipe.named_steps['uniquecounttransformer'].categories_"
   ]
  },
  {
   "cell_type": "code",
   "execution_count": 34,
   "id": "4c170ed4-4df7-478f-bee4-f8cba71ab937",
   "metadata": {},
   "outputs": [
    {
     "data": {
      "text/plain": [
       "array([[<AxesSubplot:title={'center':'Art'}>,\n",
       "        <AxesSubplot:title={'center':'Camera'}>,\n",
       "        <AxesSubplot:title={'center':'Costume & Make-Up'}>],\n",
       "       [<AxesSubplot:title={'center':'Crew'}>,\n",
       "        <AxesSubplot:title={'center':'Directing'}>,\n",
       "        <AxesSubplot:title={'center':'Editing'}>],\n",
       "       [<AxesSubplot:title={'center':'Lighting'}>,\n",
       "        <AxesSubplot:title={'center':'Production'}>,\n",
       "        <AxesSubplot:title={'center':'Sound'}>],\n",
       "       [<AxesSubplot:title={'center':'Visual Effects'}>,\n",
       "        <AxesSubplot:title={'center':'Writing'}>,\n",
       "        <AxesSubplot:title={'center':'Actors'}>]], dtype=object)"
      ]
     },
     "execution_count": 34,
     "metadata": {},
     "output_type": "execute_result"
    },
    {
     "data": {
      "image/png": "[encoded data removed]",
      "text/plain": [
       "<Figure size 432x288 with 12 Axes>"
      ]
     },
     "metadata": {
      "needs_background": "light"
     },
     "output_type": "display_data"
    }
   ],
   "source": [
    "pd.DataFrame(x, columns=pipe.named_steps['uniquecounttransformer'].categories_).hist()"
   ]
  },
  {
   "cell_type": "markdown",
   "id": "25471868-a4ea-4cad-af18-7511ae314ff8",
   "metadata": {
    "tags": []
   },
   "source": [
    "## SelectMostKFrequent"
   ]
  },
  {
   "cell_type": "code",
   "execution_count": 35,
   "id": "35d61e01-6fd3-43e6-8cb8-716d18436604",
   "metadata": {},
   "outputs": [],
   "source": [
    "class SelectMostKFrequent(BaseEstimator, TransformerMixin):\n",
    "    def __init__(self, k):\n",
    "        self.k = k\n",
    "        self.k_frequent_ = None\n",
    "    def fit(self, X, y=None):\n",
    "        return self\n",
    "    def transform(self, X):\n",
    "        X_df = pd.DataFrame(X)\n",
    "        self.k_frequent_ = list(X_df.sum().sort_values(ascending=False).iloc[:self.k].index)\n",
    "        \n",
    "        return X_df.iloc[:, self.k_frequent_]\n",
    "    \n",
    "pipeline = make_pipeline(\n",
    "        SimpleImputer(strategy='constant', fill_value='[]'), \n",
    "        ExtractionTransformer('job'),\n",
    "        MultinomialAttributeTransformer(),\n",
    "        SelectMostKFrequent(25)\n",
    "    )\n",
    "\n",
    "tf = pipeline.fit_transform(X[['crew']])"
   ]
  },
  {
   "cell_type": "code",
   "execution_count": 36,
   "id": "b40a0f33-cf1d-4c31-8155-c0a659acbf28",
   "metadata": {},
   "outputs": [
    {
     "data": {
      "text/plain": [
       "Director                    2984.0\n",
       "Producer                    2373.0\n",
       "Editor                      2195.0\n",
       "Director_of_Photography     2177.0\n",
       "Screenplay                  1797.0\n",
       "Original_Music_Composer     1732.0\n",
       "Production_Design           1582.0\n",
       "Casting                     1504.0\n",
       "Costume_Design              1449.0\n",
       "Executive_Producer          1318.0\n",
       "Art_Direction               1242.0\n",
       "Set_Decoration              1154.0\n",
       "Writer                      1029.0\n",
       "Script_Supervisor            781.0\n",
       "Makeup_Artist                650.0\n",
       "Still_Photographer           622.0\n",
       "Music                        541.0\n",
       "Music_Editor                 533.0\n",
       "Stunt_Coordinator            521.0\n",
       "Supervising_Sound_Editor     503.0\n",
       "Sound_Re-Recording_Mixer     499.0\n",
       "Camera_Operator              487.0\n",
       "Hairstylist                  484.0\n",
       "Costume_Supervisor           463.0\n",
       "Novel                        443.0\n",
       "dtype: float64"
      ]
     },
     "execution_count": 36,
     "metadata": {},
     "output_type": "execute_result"
    }
   ],
   "source": [
    "columns = np.array(pipeline.named_steps['multinomialattributetransformer'].categories_)\n",
    "k_frequent = pipeline.named_steps['selectmostkfrequent'].k_frequent_\n",
    "\n",
    "tf.columns = columns[k_frequent]\n",
    "tf.sum()"
   ]
  },
  {
   "cell_type": "markdown",
   "id": "6efdeffe-37c9-4c82-8fdd-f6f6e94cf618",
   "metadata": {
    "tags": []
   },
   "source": [
    "## Base Estimator\n",
    "\n",
    "Conditional Pipelien: Train two models, one on data where a meaningful budget is present, other without the budget feature"
   ]
  },
  {
   "cell_type": "code",
   "execution_count": 174,
   "id": "f31367c3-9c53-4762-adbc-bf08d00e4775",
   "metadata": {},
   "outputs": [],
   "source": [
    "y = np.log(train_data['revenue'])\n",
    "X = train_data.drop(['revenue'], axis=1)\n",
    "X_train, X_test, y_train, y_test = train_test_split(X, y, test_size=0.2, random_state=0, shuffle=True)\n",
    "\n",
    "def make_mask(X, thresh=500):\n",
    "    return X['budget'] < thresh"
   ]
  },
  {
   "cell_type": "code",
   "execution_count": 175,
   "id": "9f2b04e7-37e2-4738-b6f5-9f16cff7820d",
   "metadata": {},
   "outputs": [],
   "source": [
    "class FeaturePipelines():\n",
    "    def __init__(self):\n",
    "        pass\n",
    "        \n",
    "    def get_config(self, include_budget=True):\n",
    "        common_config = [\n",
    "            ('popularity', make_pipeline(\n",
    "                SimpleImputer(strategy='median'), \n",
    "                FunctionTransformer(np.log1p),\n",
    "                StandardScaler()\n",
    "            ), ['popularity']),\n",
    "\n",
    "            ('runtime', make_pipeline(\n",
    "                RuntimeImputer, \n",
    "                StandardScaler()\n",
    "            ), ['runtime']),\n",
    "\n",
    "            ('release_date', make_pipeline(\n",
    "                SimpleImputer(strategy='most_frequent'), \n",
    "                ReleaseDateTransformer()\n",
    "            ), ['release_date']), \n",
    "            \n",
    "            # ('original_language+status', make_pipeline(\n",
    "            #     SimpleImputer(strategy='most_frequent'), \n",
    "            #     OneHotEncoder(handle_unknown='ignore')\n",
    "            # ), ['original_language', 'status']),\n",
    "            \n",
    "            ('homepage+tagline+belongs_to_collection', presenceBinarizer\n",
    "             , ['homepage', 'tagline', 'belongs_to_collection']),\n",
    "            \n",
    "            ('genres_counts', make_attribute_count_pipeline(), ['genres']),\n",
    "            ('cast_counts', make_attribute_count_pipeline(), ['cast']),\n",
    "            ('crew_counts', make_attribute_count_pipeline(), ['crew']),\n",
    "            ('keywords_counts', make_attribute_count_pipeline(), ['Keywords']),\n",
    "            ('production_companies_counts', make_attribute_count_pipeline(), ['production_companies']),\n",
    "            ('production_countries_counts', make_attribute_count_pipeline(), ['production_countries']),\n",
    "            ('spoken_languages_counts', make_attribute_count_pipeline(), ['spoken_languages']),\n",
    "            \n",
    "            ('genres', make_name_extraction_pipeline(), ['genres']),\n",
    "            \n",
    "            ('cast_gender', make_pipeline(\n",
    "                SimpleImputer(strategy='constant', fill_value='[]'), \n",
    "                ExtractionTransformer('gender'),\n",
    "                UniqueCountTransformer(),\n",
    "                SimpleImputer(strategy='constant', fill_value=0)\n",
    "            ), ['cast']), \n",
    "            \n",
    "            ('crew_gender', make_pipeline(\n",
    "                SimpleImputer(strategy='constant', fill_value='[]'), \n",
    "                ExtractionTransformer('gender'),\n",
    "                UniqueCountTransformer(),\n",
    "                SimpleImputer(strategy='constant', fill_value=0)\n",
    "            ), ['crew']),\n",
    "            \n",
    "            ('crew_department', make_pipeline(\n",
    "                SimpleImputer(strategy='constant', fill_value='[]'), \n",
    "                ExtractionTransformer('department'),\n",
    "                UniqueCountTransformer(),\n",
    "                SimpleImputer(strategy='constant', fill_value=0)\n",
    "            ), ['crew']),\n",
    "            \n",
    "            ('crew_jobs', make_pipeline(\n",
    "                SimpleImputer(strategy='constant', fill_value='[]'), \n",
    "                ExtractionTransformer('job'),\n",
    "                MultinomialAttributeTransformer(),\n",
    "                # SelectMostKFrequent(25)\n",
    "            ), ['crew']),\n",
    "            \n",
    "             ('crew_names', make_pipeline(\n",
    "                SimpleImputer(strategy='constant', fill_value='[]'), \n",
    "                ExtractionTransformer('name'),\n",
    "                MultinomialAttributeTransformer(),\n",
    "                # SelectMostKFrequent(50)\n",
    "                PCA(100)\n",
    "            ), ['crew']),\n",
    "            \n",
    "            ('cast_names', make_pipeline(\n",
    "                SimpleImputer(strategy='constant', fill_value='[]'), \n",
    "                ExtractionTransformer('name'),\n",
    "                MultinomialAttributeTransformer(),\n",
    "                # SelectMostKFrequent(50)\n",
    "                PCA(100)\n",
    "            ), ['cast']),\n",
    "            \n",
    "            ('cast_characters', make_pipeline(\n",
    "                SimpleImputer(strategy='constant', fill_value='[]'), \n",
    "                ExtractionTransformer('character'),\n",
    "                MultinomialAttributeTransformer(),\n",
    "                # SelectMostKFrequent(50)\n",
    "                PCA(100)\n",
    "            ), ['cast']),\n",
    "            \n",
    "            ('keywords', make_pipeline(\n",
    "                SimpleImputer(strategy='constant', fill_value='[]'), \n",
    "                ExtractionTransformer('name'),\n",
    "                MultinomialAttributeTransformer(),\n",
    "                # SelectMostKFrequent(50)\n",
    "                PCA(100)\n",
    "            ), ['Keywords']),\n",
    "            \n",
    "            ('spoken_languages', make_pipeline(\n",
    "                SimpleImputer(strategy='constant', fill_value='[]'), \n",
    "                ExtractionTransformer('name'),\n",
    "                MultinomialAttributeTransformer(),\n",
    "                # SelectMostKFrequent(50)\n",
    "            ), ['spoken_languages']),\n",
    "            \n",
    "            ('production_countries', make_pipeline(\n",
    "                SimpleImputer(strategy='constant', fill_value='[]'), \n",
    "                ExtractionTransformer('name'),\n",
    "                MultinomialAttributeTransformer(),\n",
    "                # SelectMostKFrequent(50)\n",
    "            ), ['production_countries']),\n",
    "            \n",
    "            ('production_companies', make_pipeline(\n",
    "                SimpleImputer(strategy='constant', fill_value='[]'), \n",
    "                ExtractionTransformer('name'),\n",
    "                MultinomialAttributeTransformer(),\n",
    "                # SelectMostKFrequent(50)\n",
    "                PCA(100)\n",
    "            ), ['production_companies'])\n",
    "        ]\n",
    "        \n",
    "        budget_config = [\n",
    "            ('budget', make_pipeline(\n",
    "                SimpleImputer(strategy='median'),\n",
    "                FunctionTransformer(np.log1p),\n",
    "                StandardScaler()\n",
    "            ), ['budget'])\n",
    "        ]\n",
    "        \n",
    "        return (budget_config if include_budget else []) + common_config\n",
    "    \n",
    "    def get_features(self, full_pipeline, include_budget=True):\n",
    "        prep_pipeline = full_pipeline.named_steps['prep']\n",
    "        selector_model = full_pipeline.named_steps['L1_selector']\n",
    "        \n",
    "        features = ['popularity', 'runtime', 'release_year', 'release_month', 'release_DOW']\n",
    "        # orig_lang, status = prep_pipeline.named_transformers_['original_language+status'].named_steps['onehotencoder'].categories_\n",
    "        # features += list(orig_lang) + list(status)\n",
    "        features += ['homepage', 'tagline', 'belongs_to_collection']\n",
    "        features += ['genres_counts', 'cast_counts', 'crew_counts', 'keywords_counts', 'production_companies_counts', 'production_countries_counts', 'spoken_languages_counts']\n",
    "        features += prep_pipeline.named_transformers_['genres'].named_steps['multinomialattributetransformer'].categories_\n",
    "        features += ['cast_gender_'+str(f) for f in prep_pipeline.named_transformers_['cast_gender'].named_steps['uniquecounttransformer'].categories_]\n",
    "        features += ['crew_gender_'+str(f) for f in prep_pipeline.named_transformers_['crew_gender'].named_steps['uniquecounttransformer'].categories_]\n",
    "        features += ['crew_dept_'+str(f) for f in prep_pipeline.named_transformers_['crew_department'].named_steps['uniquecounttransformer'].categories_]\n",
    "        \n",
    "        pipeline = prep_pipeline.named_transformers_['crew_jobs']\n",
    "        columns = np.array(pipeline.named_steps['multinomialattributetransformer'].categories_)\n",
    "        # k_frequent = pipeline.named_steps['selectmostkfrequent'].k_frequent_\n",
    "        # features += ['crew_jobs_'+str(f) for f in columns[k_frequent]]\n",
    "        features += ['crew_jobs_'+str(f) for f in columns]\n",
    "        \n",
    "        pipeline = prep_pipeline.named_transformers_['crew_names']\n",
    "        # columns = np.array(pipeline.named_steps['multinomialattributetransformer'].categories_)\n",
    "        # k_frequent = pipeline.named_steps['selectmostkfrequent'].k_frequent_\n",
    "        # features += ['crew_names_'+str(f) for f in columns[k_frequent]]\n",
    "        features += ['crew_names_'+str(i+1) for i in range(pipeline.named_steps['pca'].n_components)]\n",
    "        \n",
    "        pipeline = prep_pipeline.named_transformers_['cast_names']\n",
    "        # columns = np.array(pipeline.named_steps['multinomialattributetransformer'].categories_)\n",
    "        # k_frequent = pipeline.named_steps['selectmostkfrequent'].k_frequent_\n",
    "        # features += ['cast_names_'+str(f) for f in columns[k_frequent]]\n",
    "        features += ['cast_names_'+str(i+1) for i in range(pipeline.named_steps['pca'].n_components)]\n",
    "        \n",
    "        pipeline = prep_pipeline.named_transformers_['cast_characters']\n",
    "        # columns = np.array(pipeline.named_steps['multinomialattributetransformer'].categories_)\n",
    "        # k_frequent = pipeline.named_steps['selectmostkfrequent'].k_frequent_\n",
    "        # features += ['cast_char_'+str(f) for f in columns[k_frequent]]\n",
    "        features += ['cast_char_'+str(i+1) for i in range(pipeline.named_steps['pca'].n_components)]\n",
    "        \n",
    "        pipeline = prep_pipeline.named_transformers_['keywords']\n",
    "        # columns = np.array(pipeline.named_steps['multinomialattributetransformer'].categories_)\n",
    "        # k_frequent = pipeline.named_steps['selectmostkfrequent'].k_frequent_\n",
    "        # features += ['kw_'+str(f) for f in columns[k_frequent]]\n",
    "        features += ['kw_'+str(i+1) for i in range(pipeline.named_steps['pca'].n_components)]\n",
    "        \n",
    "        pipeline = prep_pipeline.named_transformers_['spoken_languages']\n",
    "        columns = np.array(pipeline.named_steps['multinomialattributetransformer'].categories_)\n",
    "        # k_frequent = pipeline.named_steps['selectmostkfrequent'].k_frequent_\n",
    "        # features += ['sl_'+str(f) for f in columns[k_frequent]]\n",
    "        features += ['sl_'+str(f) for f in columns]\n",
    "        \n",
    "        pipeline = prep_pipeline.named_transformers_['production_countries']\n",
    "        columns = np.array(pipeline.named_steps['multinomialattributetransformer'].categories_)\n",
    "        # k_frequent = pipeline.named_steps['selectmostkfrequent'].k_frequent_\n",
    "        # features += ['prod_countries_'+str(f) for f in columns[k_frequent]]\n",
    "        features += ['prod_countries_'+str(f) for f in columns]\n",
    "        \n",
    "        pipeline = prep_pipeline.named_transformers_['production_companies']\n",
    "        # columns = np.array(pipeline.named_steps['multinomialattributetransformer'].categories_)\n",
    "        # k_frequent = pipeline.named_steps['selectmostkfrequent'].k_frequent_\n",
    "        # features += ['prod_compnaies_'+str(f) for f in columns[k_frequent]]\n",
    "        features += ['prod_compnaies_'+str(i+1) for i in range(pipeline.named_steps['pca'].n_components)]\n",
    "        \n",
    "        features = np.array((['budget'] if include_budget else []) + features)\n",
    "        return list(features[selector_model.get_support()])\n",
    "    "
   ]
  },
  {
   "cell_type": "code",
   "execution_count": 176,
   "id": "6227298b-2616-4d06-ac61-5684dd693cae",
   "metadata": {},
   "outputs": [
    {
     "data": {
      "text/html": [
       "<style>#sk-912027c2-19f4-4545-9a58-792f22d1ddb3 {color: black;background-color: white;}#sk-912027c2-19f4-4545-9a58-792f22d1ddb3 pre{padding: 0;}#sk-912027c2-19f4-4545-9a58-792f22d1ddb3 div.sk-toggleable {background-color: white;}#sk-912027c2-19f4-4545-9a58-792f22d1ddb3 label.sk-toggleable__label {cursor: pointer;display: block;width: 100%;margin-bottom: 0;padding: 0.2em 0.3em;box-sizing: border-box;text-align: center;}#sk-912027c2-19f4-4545-9a58-792f22d1ddb3 div.sk-toggleable__content {max-height: 0;max-width: 0;overflow: hidden;text-align: left;background-color: #f0f8ff;}#sk-912027c2-19f4-4545-9a58-792f22d1ddb3 div.sk-toggleable__content pre {margin: 0.2em;color: black;border-radius: 0.25em;background-color: #f0f8ff;}#sk-912027c2-19f4-4545-9a58-792f22d1ddb3 input.sk-toggleable__control:checked~div.sk-toggleable__content {max-height: 200px;max-width: 100%;overflow: auto;}#sk-912027c2-19f4-4545-9a58-792f22d1ddb3 div.sk-estimator input.sk-toggleable__control:checked~label.sk-toggleable__label {background-color: #d4ebff;}#sk-912027c2-19f4-4545-9a58-792f22d1ddb3 div.sk-label input.sk-toggleable__control:checked~label.sk-toggleable__label {background-color: #d4ebff;}#sk-912027c2-19f4-4545-9a58-792f22d1ddb3 input.sk-hidden--visually {border: 0;clip: rect(1px 1px 1px 1px);clip: rect(1px, 1px, 1px, 1px);height: 1px;margin: -1px;overflow: hidden;padding: 0;position: absolute;width: 1px;}#sk-912027c2-19f4-4545-9a58-792f22d1ddb3 div.sk-estimator {font-family: monospace;background-color: #f0f8ff;margin: 0.25em 0.25em;border: 1px dotted black;border-radius: 0.25em;box-sizing: border-box;}#sk-912027c2-19f4-4545-9a58-792f22d1ddb3 div.sk-estimator:hover {background-color: #d4ebff;}#sk-912027c2-19f4-4545-9a58-792f22d1ddb3 div.sk-parallel-item::after {content: \"\";width: 100%;border-bottom: 1px solid gray;flex-grow: 1;}#sk-912027c2-19f4-4545-9a58-792f22d1ddb3 div.sk-label:hover label.sk-toggleable__label {background-color: #d4ebff;}#sk-912027c2-19f4-4545-9a58-792f22d1ddb3 div.sk-serial::before {content: \"\";position: absolute;border-left: 1px solid gray;box-sizing: border-box;top: 2em;bottom: 0;left: 50%;}#sk-912027c2-19f4-4545-9a58-792f22d1ddb3 div.sk-serial {display: flex;flex-direction: column;align-items: center;background-color: white;}#sk-912027c2-19f4-4545-9a58-792f22d1ddb3 div.sk-item {z-index: 1;}#sk-912027c2-19f4-4545-9a58-792f22d1ddb3 div.sk-parallel {display: flex;align-items: stretch;justify-content: center;background-color: white;}#sk-912027c2-19f4-4545-9a58-792f22d1ddb3 div.sk-parallel-item {display: flex;flex-direction: column;position: relative;background-color: white;}#sk-912027c2-19f4-4545-9a58-792f22d1ddb3 div.sk-parallel-item:first-child::after {align-self: flex-end;width: 50%;}#sk-912027c2-19f4-4545-9a58-792f22d1ddb3 div.sk-parallel-item:last-child::after {align-self: flex-start;width: 50%;}#sk-912027c2-19f4-4545-9a58-792f22d1ddb3 div.sk-parallel-item:only-child::after {width: 0;}#sk-912027c2-19f4-4545-9a58-792f22d1ddb3 div.sk-dashed-wrapped {border: 1px dashed gray;margin: 0.2em;box-sizing: border-box;padding-bottom: 0.1em;background-color: white;position: relative;}#sk-912027c2-19f4-4545-9a58-792f22d1ddb3 div.sk-label label {font-family: monospace;font-weight: bold;background-color: white;display: inline-block;line-height: 1.2em;}#sk-912027c2-19f4-4545-9a58-792f22d1ddb3 div.sk-label-container {position: relative;z-index: 2;text-align: center;}#sk-912027c2-19f4-4545-9a58-792f22d1ddb3 div.sk-container {display: inline-block;position: relative;}</style><div id=\"sk-912027c2-19f4-4545-9a58-792f22d1ddb3\" class\"sk-top-container\"><div class=\"sk-container\"><div class=\"sk-item sk-dashed-wrapped\"><div class=\"sk-label-container\"><div class=\"sk-label sk-toggleable\"><input class=\"sk-toggleable__control sk-hidden--visually\" id=\"53663e37-3c1c-48de-9b48-430ea9c4195e\" type=\"checkbox\" ><label class=\"sk-toggleable__label\" for=\"53663e37-3c1c-48de-9b48-430ea9c4195e\">ConditionalPredictor</label><div class=\"sk-toggleable__content\"><pre>ConditionalPredictor(make_mask=<function make_mask at 0x28e1780d0>,\n",
       "                     pipelineA=Pipeline(steps=[('prep',\n",
       "                                                ColumnTransformer(transformers=[('popularity',\n",
       "                                                                                 Pipeline(steps=[('simpleimputer',\n",
       "                                                                                                  SimpleImputer(strategy='median')),\n",
       "                                                                                                 ('functiontransformer',\n",
       "                                                                                                  FunctionTransformer(func=<ufunc 'log1p'>)),\n",
       "                                                                                                 ('standardscaler',\n",
       "                                                                                                  StandardScaler())]),\n",
       "                                                                                 ['popularity']),\n",
       "                                                                                ('runtime',\n",
       "                                                                                 Pipeline(...\n",
       "                                                                                                 ('extractiontransformer',\n",
       "                                                                                                  ExtractionTransformer(key='name')),\n",
       "                                                                                                 ('multinomialattributetransformer',\n",
       "                                                                                                  MultinomialAttributeTransformer()),\n",
       "                                                                                                 ('pca',\n",
       "                                                                                                  PCA(n_components=100))]),\n",
       "                                                                                 ['production_companies'])])),\n",
       "                                               ('L1_selector',\n",
       "                                                SelectFromModel(estimator=LassoCV(max_iter=10000,\n",
       "                                                                                  n_jobs=4))),\n",
       "                                               ('model',\n",
       "                                                RandomForestRegressor(min_samples_leaf=10,\n",
       "                                                                      n_estimators=500,\n",
       "                                                                      n_jobs=4))]),\n",
       "                     thresh=50)</pre></div></div></div><div class=\"sk-parallel\"><div class=\"sk-parallel-item\"><div class=\"sk-item\"><div class=\"sk-serial\"><div class=\"sk-item\"><div class=\"sk-serial\"><div class=\"sk-item sk-dashed-wrapped\"><div class=\"sk-label-container\"><div class=\"sk-label sk-toggleable\"><input class=\"sk-toggleable__control sk-hidden--visually\" id=\"cc5a0f44-6835-418f-902d-cac12b4d946c\" type=\"checkbox\" ><label class=\"sk-toggleable__label\" for=\"cc5a0f44-6835-418f-902d-cac12b4d946c\">prep: ColumnTransformer</label><div class=\"sk-toggleable__content\"><pre>ColumnTransformer(transformers=[('popularity',\n",
       "                                 Pipeline(steps=[('simpleimputer',\n",
       "                                                  SimpleImputer(strategy='median')),\n",
       "                                                 ('functiontransformer',\n",
       "                                                  FunctionTransformer(func=<ufunc 'log1p'>)),\n",
       "                                                 ('standardscaler',\n",
       "                                                  StandardScaler())]),\n",
       "                                 ['popularity']),\n",
       "                                ('runtime',\n",
       "                                 Pipeline(steps=[('pipeline',\n",
       "                                                  Pipeline(steps=[('simpleimputer-1',\n",
       "                                                                   SimpleImputer(strategy='median')),\n",
       "                                                                  ('simpleim...\n",
       "                                                  MultinomialAttributeTransformer())]),\n",
       "                                 ['production_countries']),\n",
       "                                ('production_companies',\n",
       "                                 Pipeline(steps=[('simpleimputer',\n",
       "                                                  SimpleImputer(fill_value='[]',\n",
       "                                                                strategy='constant')),\n",
       "                                                 ('extractiontransformer',\n",
       "                                                  ExtractionTransformer(key='name')),\n",
       "                                                 ('multinomialattributetransformer',\n",
       "                                                  MultinomialAttributeTransformer()),\n",
       "                                                 ('pca',\n",
       "                                                  PCA(n_components=100))]),\n",
       "                                 ['production_companies'])])</pre></div></div></div><div class=\"sk-parallel\"><div class=\"sk-parallel-item\"><div class=\"sk-item\"><div class=\"sk-label-container\"><div class=\"sk-label sk-toggleable\"><input class=\"sk-toggleable__control sk-hidden--visually\" id=\"d3e89979-eea9-4a98-9874-d6baae69a005\" type=\"checkbox\" ><label class=\"sk-toggleable__label\" for=\"d3e89979-eea9-4a98-9874-d6baae69a005\">popularity</label><div class=\"sk-toggleable__content\"><pre>['popularity']</pre></div></div></div><div class=\"sk-serial\"><div class=\"sk-item\"><div class=\"sk-serial\"><div class=\"sk-item\"><div class=\"sk-estimator sk-toggleable\"><input class=\"sk-toggleable__control sk-hidden--visually\" id=\"a374f108-00aa-470e-8544-74d1c302eeec\" type=\"checkbox\" ><label class=\"sk-toggleable__label\" for=\"a374f108-00aa-470e-8544-74d1c302eeec\">SimpleImputer</label><div class=\"sk-toggleable__content\"><pre>SimpleImputer(strategy='median')</pre></div></div></div><div class=\"sk-item\"><div class=\"sk-estimator sk-toggleable\"><input class=\"sk-toggleable__control sk-hidden--visually\" id=\"51ac009a-dff1-4d05-b558-f2142a6ea857\" type=\"checkbox\" ><label class=\"sk-toggleable__label\" for=\"51ac009a-dff1-4d05-b558-f2142a6ea857\">FunctionTransformer</label><div class=\"sk-toggleable__content\"><pre>FunctionTransformer(func=<ufunc 'log1p'>)</pre></div></div></div><div class=\"sk-item\"><div class=\"sk-estimator sk-toggleable\"><input class=\"sk-toggleable__control sk-hidden--visually\" id=\"7fd4edc2-ee1b-4b97-8199-0ab3c0f8009e\" type=\"checkbox\" ><label class=\"sk-toggleable__label\" for=\"7fd4edc2-ee1b-4b97-8199-0ab3c0f8009e\">StandardScaler</label><div class=\"sk-toggleable__content\"><pre>StandardScaler()</pre></div></div></div></div></div></div></div></div><div class=\"sk-parallel-item\"><div class=\"sk-item\"><div class=\"sk-label-container\"><div class=\"sk-label sk-toggleable\"><input class=\"sk-toggleable__control sk-hidden--visually\" id=\"ba54c0c1-715a-4e16-bddc-7cf3610ec9aa\" type=\"checkbox\" ><label class=\"sk-toggleable__label\" for=\"ba54c0c1-715a-4e16-bddc-7cf3610ec9aa\">runtime</label><div class=\"sk-toggleable__content\"><pre>['runtime']</pre></div></div></div><div class=\"sk-serial\"><div class=\"sk-item\"><div class=\"sk-serial\"><div class=\"sk-item\"><div class=\"sk-label-container\"><div class=\"sk-label sk-toggleable\"><input class=\"sk-toggleable__control sk-hidden--visually\" id=\"e6775bd0-42e9-4a5b-a5ce-7976d629575f\" type=\"checkbox\" ><label class=\"sk-toggleable__label\" for=\"e6775bd0-42e9-4a5b-a5ce-7976d629575f\">pipeline: Pipeline</label><div class=\"sk-toggleable__content\"><pre>Pipeline(steps=[('simpleimputer-1', SimpleImputer(strategy='median')),\n",
       "                ('simpleimputer-2',\n",
       "                 SimpleImputer(missing_values=0, strategy='median'))])</pre></div></div></div><div class=\"sk-serial\"><div class=\"sk-item\"><div class=\"sk-estimator sk-toggleable\"><input class=\"sk-toggleable__control sk-hidden--visually\" id=\"a8092374-53f2-482c-a0ef-976ef086b086\" type=\"checkbox\" ><label class=\"sk-toggleable__label\" for=\"a8092374-53f2-482c-a0ef-976ef086b086\">SimpleImputer</label><div class=\"sk-toggleable__content\"><pre>SimpleImputer(strategy='median')</pre></div></div></div><div class=\"sk-item\"><div class=\"sk-estimator sk-toggleable\"><input class=\"sk-toggleable__control sk-hidden--visually\" id=\"cb03c628-3e9f-4228-b731-cf1cd9321b7d\" type=\"checkbox\" ><label class=\"sk-toggleable__label\" for=\"cb03c628-3e9f-4228-b731-cf1cd9321b7d\">SimpleImputer</label><div class=\"sk-toggleable__content\"><pre>SimpleImputer(missing_values=0, strategy='median')</pre></div></div></div></div></div><div class=\"sk-item\"><div class=\"sk-estimator sk-toggleable\"><input class=\"sk-toggleable__control sk-hidden--visually\" id=\"26f63e6e-6a29-4fd0-a940-399a9633137b\" type=\"checkbox\" ><label class=\"sk-toggleable__label\" for=\"26f63e6e-6a29-4fd0-a940-399a9633137b\">StandardScaler</label><div class=\"sk-toggleable__content\"><pre>StandardScaler()</pre></div></div></div></div></div></div></div></div><div class=\"sk-parallel-item\"><div class=\"sk-item\"><div class=\"sk-label-container\"><div class=\"sk-label sk-toggleable\"><input class=\"sk-toggleable__control sk-hidden--visually\" id=\"24748192-3b58-445c-b1df-57fe866adafb\" type=\"checkbox\" ><label class=\"sk-toggleable__label\" for=\"24748192-3b58-445c-b1df-57fe866adafb\">release_date</label><div class=\"sk-toggleable__content\"><pre>['release_date']</pre></div></div></div><div class=\"sk-serial\"><div class=\"sk-item\"><div class=\"sk-serial\"><div class=\"sk-item\"><div class=\"sk-estimator sk-toggleable\"><input class=\"sk-toggleable__control sk-hidden--visually\" id=\"ccee80f0-2e96-470b-93a8-86bbd651204b\" type=\"checkbox\" ><label class=\"sk-toggleable__label\" for=\"ccee80f0-2e96-470b-93a8-86bbd651204b\">SimpleImputer</label><div class=\"sk-toggleable__content\"><pre>SimpleImputer(strategy='most_frequent')</pre></div></div></div><div class=\"sk-item\"><div class=\"sk-estimator sk-toggleable\"><input class=\"sk-toggleable__control sk-hidden--visually\" id=\"f65520eb-6637-40ed-898a-1a8eac299c7a\" type=\"checkbox\" ><label class=\"sk-toggleable__label\" for=\"f65520eb-6637-40ed-898a-1a8eac299c7a\">ReleaseDateTransformer</label><div class=\"sk-toggleable__content\"><pre>ReleaseDateTransformer()</pre></div></div></div></div></div></div></div></div><div class=\"sk-parallel-item\"><div class=\"sk-item\"><div class=\"sk-label-container\"><div class=\"sk-label sk-toggleable\"><input class=\"sk-toggleable__control sk-hidden--visually\" id=\"0e1bf53b-002b-4607-a0f4-a5201328481c\" type=\"checkbox\" ><label class=\"sk-toggleable__label\" for=\"0e1bf53b-002b-4607-a0f4-a5201328481c\">homepage+tagline+belongs_to_collection</label><div class=\"sk-toggleable__content\"><pre>['homepage', 'tagline', 'belongs_to_collection']</pre></div></div></div><div class=\"sk-serial\"><div class=\"sk-item\"><div class=\"sk-estimator sk-toggleable\"><input class=\"sk-toggleable__control sk-hidden--visually\" id=\"caa0cb7b-2d33-46a0-b8b0-152d7e1e7ae4\" type=\"checkbox\" ><label class=\"sk-toggleable__label\" for=\"caa0cb7b-2d33-46a0-b8b0-152d7e1e7ae4\">FunctionTransformer</label><div class=\"sk-toggleable__content\"><pre>FunctionTransformer(func=<function <lambda> at 0x178165820>)</pre></div></div></div></div></div></div><div class=\"sk-parallel-item\"><div class=\"sk-item\"><div class=\"sk-label-container\"><div class=\"sk-label sk-toggleable\"><input class=\"sk-toggleable__control sk-hidden--visually\" id=\"323fb46c-f806-47b8-bd73-1a7178dc4473\" type=\"checkbox\" ><label class=\"sk-toggleable__label\" for=\"323fb46c-f806-47b8-bd73-1a7178dc4473\">genres_counts</label><div class=\"sk-toggleable__content\"><pre>['genres']</pre></div></div></div><div class=\"sk-serial\"><div class=\"sk-item\"><div class=\"sk-serial\"><div class=\"sk-item\"><div class=\"sk-estimator sk-toggleable\"><input class=\"sk-toggleable__control sk-hidden--visually\" id=\"d5fdbc0c-f049-4292-abb8-b6d1684776b4\" type=\"checkbox\" ><label class=\"sk-toggleable__label\" for=\"d5fdbc0c-f049-4292-abb8-b6d1684776b4\">SimpleImputer</label><div class=\"sk-toggleable__content\"><pre>SimpleImputer(fill_value='[]', strategy='constant')</pre></div></div></div><div class=\"sk-item\"><div class=\"sk-estimator sk-toggleable\"><input class=\"sk-toggleable__control sk-hidden--visually\" id=\"4c4e4208-f052-4272-8bde-47aa4f81d0bf\" type=\"checkbox\" ><label class=\"sk-toggleable__label\" for=\"4c4e4208-f052-4272-8bde-47aa4f81d0bf\">AttributeCountTransformer</label><div class=\"sk-toggleable__content\"><pre>AttributeCountTransformer()</pre></div></div></div><div class=\"sk-item\"><div class=\"sk-estimator sk-toggleable\"><input class=\"sk-toggleable__control sk-hidden--visually\" id=\"1775bf85-727a-4338-9cac-0a0fc91e8ef6\" type=\"checkbox\" ><label class=\"sk-toggleable__label\" for=\"1775bf85-727a-4338-9cac-0a0fc91e8ef6\">SimpleImputer</label><div class=\"sk-toggleable__content\"><pre>SimpleImputer(missing_values=0, strategy='median')</pre></div></div></div><div class=\"sk-item\"><div class=\"sk-estimator sk-toggleable\"><input class=\"sk-toggleable__control sk-hidden--visually\" id=\"5dc2b5d6-28f3-49e0-8839-5def17c07ba0\" type=\"checkbox\" ><label class=\"sk-toggleable__label\" for=\"5dc2b5d6-28f3-49e0-8839-5def17c07ba0\">StandardScaler</label><div class=\"sk-toggleable__content\"><pre>StandardScaler()</pre></div></div></div></div></div></div></div></div><div class=\"sk-parallel-item\"><div class=\"sk-item\"><div class=\"sk-label-container\"><div class=\"sk-label sk-toggleable\"><input class=\"sk-toggleable__control sk-hidden--visually\" id=\"2b8c5cb9-86e7-4e62-9b03-f9a969bce8ad\" type=\"checkbox\" ><label class=\"sk-toggleable__label\" for=\"2b8c5cb9-86e7-4e62-9b03-f9a969bce8ad\">cast_counts</label><div class=\"sk-toggleable__content\"><pre>['cast']</pre></div></div></div><div class=\"sk-serial\"><div class=\"sk-item\"><div class=\"sk-serial\"><div class=\"sk-item\"><div class=\"sk-estimator sk-toggleable\"><input class=\"sk-toggleable__control sk-hidden--visually\" id=\"1769e63c-c8f6-4b5a-81d0-ffbb098b4c59\" type=\"checkbox\" ><label class=\"sk-toggleable__label\" for=\"1769e63c-c8f6-4b5a-81d0-ffbb098b4c59\">SimpleImputer</label><div class=\"sk-toggleable__content\"><pre>SimpleImputer(fill_value='[]', strategy='constant')</pre></div></div></div><div class=\"sk-item\"><div class=\"sk-estimator sk-toggleable\"><input class=\"sk-toggleable__control sk-hidden--visually\" id=\"62d286aa-75a0-440a-b1d2-768ed1ba6671\" type=\"checkbox\" ><label class=\"sk-toggleable__label\" for=\"62d286aa-75a0-440a-b1d2-768ed1ba6671\">AttributeCountTransformer</label><div class=\"sk-toggleable__content\"><pre>AttributeCountTransformer()</pre></div></div></div><div class=\"sk-item\"><div class=\"sk-estimator sk-toggleable\"><input class=\"sk-toggleable__control sk-hidden--visually\" id=\"c5bdb92b-2a81-4cad-87d3-9acc77d560ba\" type=\"checkbox\" ><label class=\"sk-toggleable__label\" for=\"c5bdb92b-2a81-4cad-87d3-9acc77d560ba\">SimpleImputer</label><div class=\"sk-toggleable__content\"><pre>SimpleImputer(missing_values=0, strategy='median')</pre></div></div></div><div class=\"sk-item\"><div class=\"sk-estimator sk-toggleable\"><input class=\"sk-toggleable__control sk-hidden--visually\" id=\"77e3e51d-048a-4ee7-93e0-eb5b870fb3eb\" type=\"checkbox\" ><label class=\"sk-toggleable__label\" for=\"77e3e51d-048a-4ee7-93e0-eb5b870fb3eb\">StandardScaler</label><div class=\"sk-toggleable__content\"><pre>StandardScaler()</pre></div></div></div></div></div></div></div></div><div class=\"sk-parallel-item\"><div class=\"sk-item\"><div class=\"sk-label-container\"><div class=\"sk-label sk-toggleable\"><input class=\"sk-toggleable__control sk-hidden--visually\" id=\"f93f6bc4-2112-4dea-a7c1-455b4316a872\" type=\"checkbox\" ><label class=\"sk-toggleable__label\" for=\"f93f6bc4-2112-4dea-a7c1-455b4316a872\">crew_counts</label><div class=\"sk-toggleable__content\"><pre>['crew']</pre></div></div></div><div class=\"sk-serial\"><div class=\"sk-item\"><div class=\"sk-serial\"><div class=\"sk-item\"><div class=\"sk-estimator sk-toggleable\"><input class=\"sk-toggleable__control sk-hidden--visually\" id=\"89428edc-3a6f-442a-8e6e-b83e6a44fa55\" type=\"checkbox\" ><label class=\"sk-toggleable__label\" for=\"89428edc-3a6f-442a-8e6e-b83e6a44fa55\">SimpleImputer</label><div class=\"sk-toggleable__content\"><pre>SimpleImputer(fill_value='[]', strategy='constant')</pre></div></div></div><div class=\"sk-item\"><div class=\"sk-estimator sk-toggleable\"><input class=\"sk-toggleable__control sk-hidden--visually\" id=\"203e7608-983d-44b8-bc51-77e3f28758db\" type=\"checkbox\" ><label class=\"sk-toggleable__label\" for=\"203e7608-983d-44b8-bc51-77e3f28758db\">AttributeCountTransformer</label><div class=\"sk-toggleable__content\"><pre>AttributeCountTransformer()</pre></div></div></div><div class=\"sk-item\"><div class=\"sk-estimator sk-toggleable\"><input class=\"sk-toggleable__control sk-hidden--visually\" id=\"8f7d3065-ce5f-4ee0-91d1-16bc68d67fa1\" type=\"checkbox\" ><label class=\"sk-toggleable__label\" for=\"8f7d3065-ce5f-4ee0-91d1-16bc68d67fa1\">SimpleImputer</label><div class=\"sk-toggleable__content\"><pre>SimpleImputer(missing_values=0, strategy='median')</pre></div></div></div><div class=\"sk-item\"><div class=\"sk-estimator sk-toggleable\"><input class=\"sk-toggleable__control sk-hidden--visually\" id=\"dacff53d-b982-4cb7-a70b-9f2591903882\" type=\"checkbox\" ><label class=\"sk-toggleable__label\" for=\"dacff53d-b982-4cb7-a70b-9f2591903882\">StandardScaler</label><div class=\"sk-toggleable__content\"><pre>StandardScaler()</pre></div></div></div></div></div></div></div></div><div class=\"sk-parallel-item\"><div class=\"sk-item\"><div class=\"sk-label-container\"><div class=\"sk-label sk-toggleable\"><input class=\"sk-toggleable__control sk-hidden--visually\" id=\"1968c13a-61bc-4025-8f05-ca1761c13ea1\" type=\"checkbox\" ><label class=\"sk-toggleable__label\" for=\"1968c13a-61bc-4025-8f05-ca1761c13ea1\">keywords_counts</label><div class=\"sk-toggleable__content\"><pre>['Keywords']</pre></div></div></div><div class=\"sk-serial\"><div class=\"sk-item\"><div class=\"sk-serial\"><div class=\"sk-item\"><div class=\"sk-estimator sk-toggleable\"><input class=\"sk-toggleable__control sk-hidden--visually\" id=\"fd8213c2-6a5c-4824-86a9-de4a7f549c40\" type=\"checkbox\" ><label class=\"sk-toggleable__label\" for=\"fd8213c2-6a5c-4824-86a9-de4a7f549c40\">SimpleImputer</label><div class=\"sk-toggleable__content\"><pre>SimpleImputer(fill_value='[]', strategy='constant')</pre></div></div></div><div class=\"sk-item\"><div class=\"sk-estimator sk-toggleable\"><input class=\"sk-toggleable__control sk-hidden--visually\" id=\"201bda6b-c42a-4a9c-a6f7-24c7e381b012\" type=\"checkbox\" ><label class=\"sk-toggleable__label\" for=\"201bda6b-c42a-4a9c-a6f7-24c7e381b012\">AttributeCountTransformer</label><div class=\"sk-toggleable__content\"><pre>AttributeCountTransformer()</pre></div></div></div><div class=\"sk-item\"><div class=\"sk-estimator sk-toggleable\"><input class=\"sk-toggleable__control sk-hidden--visually\" id=\"d1ba61d0-8c7c-4e27-9dbc-23ee9773f79a\" type=\"checkbox\" ><label class=\"sk-toggleable__label\" for=\"d1ba61d0-8c7c-4e27-9dbc-23ee9773f79a\">SimpleImputer</label><div class=\"sk-toggleable__content\"><pre>SimpleImputer(missing_values=0, strategy='median')</pre></div></div></div><div class=\"sk-item\"><div class=\"sk-estimator sk-toggleable\"><input class=\"sk-toggleable__control sk-hidden--visually\" id=\"2df8904b-b87d-4c04-8f45-71e9614a8a4a\" type=\"checkbox\" ><label class=\"sk-toggleable__label\" for=\"2df8904b-b87d-4c04-8f45-71e9614a8a4a\">StandardScaler</label><div class=\"sk-toggleable__content\"><pre>StandardScaler()</pre></div></div></div></div></div></div></div></div><div class=\"sk-parallel-item\"><div class=\"sk-item\"><div class=\"sk-label-container\"><div class=\"sk-label sk-toggleable\"><input class=\"sk-toggleable__control sk-hidden--visually\" id=\"b3a5312f-f896-48da-bf40-7bf050974cc4\" type=\"checkbox\" ><label class=\"sk-toggleable__label\" for=\"b3a5312f-f896-48da-bf40-7bf050974cc4\">production_companies_counts</label><div class=\"sk-toggleable__content\"><pre>['production_companies']</pre></div></div></div><div class=\"sk-serial\"><div class=\"sk-item\"><div class=\"sk-serial\"><div class=\"sk-item\"><div class=\"sk-estimator sk-toggleable\"><input class=\"sk-toggleable__control sk-hidden--visually\" id=\"9a5f352e-4608-4ef6-977a-f92ca4474c21\" type=\"checkbox\" ><label class=\"sk-toggleable__label\" for=\"9a5f352e-4608-4ef6-977a-f92ca4474c21\">SimpleImputer</label><div class=\"sk-toggleable__content\"><pre>SimpleImputer(fill_value='[]', strategy='constant')</pre></div></div></div><div class=\"sk-item\"><div class=\"sk-estimator sk-toggleable\"><input class=\"sk-toggleable__control sk-hidden--visually\" id=\"597d59df-85d9-4811-9e48-578825bd2c45\" type=\"checkbox\" ><label class=\"sk-toggleable__label\" for=\"597d59df-85d9-4811-9e48-578825bd2c45\">AttributeCountTransformer</label><div class=\"sk-toggleable__content\"><pre>AttributeCountTransformer()</pre></div></div></div><div class=\"sk-item\"><div class=\"sk-estimator sk-toggleable\"><input class=\"sk-toggleable__control sk-hidden--visually\" id=\"bd5c8cf1-678e-4c96-ade1-3a1b65fa1192\" type=\"checkbox\" ><label class=\"sk-toggleable__label\" for=\"bd5c8cf1-678e-4c96-ade1-3a1b65fa1192\">SimpleImputer</label><div class=\"sk-toggleable__content\"><pre>SimpleImputer(missing_values=0, strategy='median')</pre></div></div></div><div class=\"sk-item\"><div class=\"sk-estimator sk-toggleable\"><input class=\"sk-toggleable__control sk-hidden--visually\" id=\"d5576ae6-ee1c-4349-82af-686ff289db7b\" type=\"checkbox\" ><label class=\"sk-toggleable__label\" for=\"d5576ae6-ee1c-4349-82af-686ff289db7b\">StandardScaler</label><div class=\"sk-toggleable__content\"><pre>StandardScaler()</pre></div></div></div></div></div></div></div></div><div class=\"sk-parallel-item\"><div class=\"sk-item\"><div class=\"sk-label-container\"><div class=\"sk-label sk-toggleable\"><input class=\"sk-toggleable__control sk-hidden--visually\" id=\"8fe9f4fd-2279-43d9-ac77-a05052c892db\" type=\"checkbox\" ><label class=\"sk-toggleable__label\" for=\"8fe9f4fd-2279-43d9-ac77-a05052c892db\">production_countries_counts</label><div class=\"sk-toggleable__content\"><pre>['production_countries']</pre></div></div></div><div class=\"sk-serial\"><div class=\"sk-item\"><div class=\"sk-serial\"><div class=\"sk-item\"><div class=\"sk-estimator sk-toggleable\"><input class=\"sk-toggleable__control sk-hidden--visually\" id=\"4b514431-3839-4106-a2da-4df43b55dd56\" type=\"checkbox\" ><label class=\"sk-toggleable__label\" for=\"4b514431-3839-4106-a2da-4df43b55dd56\">SimpleImputer</label><div class=\"sk-toggleable__content\"><pre>SimpleImputer(fill_value='[]', strategy='constant')</pre></div></div></div><div class=\"sk-item\"><div class=\"sk-estimator sk-toggleable\"><input class=\"sk-toggleable__control sk-hidden--visually\" id=\"d57f414a-e768-46a6-ad29-f0e64c791245\" type=\"checkbox\" ><label class=\"sk-toggleable__label\" for=\"d57f414a-e768-46a6-ad29-f0e64c791245\">AttributeCountTransformer</label><div class=\"sk-toggleable__content\"><pre>AttributeCountTransformer()</pre></div></div></div><div class=\"sk-item\"><div class=\"sk-estimator sk-toggleable\"><input class=\"sk-toggleable__control sk-hidden--visually\" id=\"78f02235-5d61-4af8-b41d-804102097269\" type=\"checkbox\" ><label class=\"sk-toggleable__label\" for=\"78f02235-5d61-4af8-b41d-804102097269\">SimpleImputer</label><div class=\"sk-toggleable__content\"><pre>SimpleImputer(missing_values=0, strategy='median')</pre></div></div></div><div class=\"sk-item\"><div class=\"sk-estimator sk-toggleable\"><input class=\"sk-toggleable__control sk-hidden--visually\" id=\"222158d7-9591-47b8-ba00-0dd61613e2bb\" type=\"checkbox\" ><label class=\"sk-toggleable__label\" for=\"222158d7-9591-47b8-ba00-0dd61613e2bb\">StandardScaler</label><div class=\"sk-toggleable__content\"><pre>StandardScaler()</pre></div></div></div></div></div></div></div></div><div class=\"sk-parallel-item\"><div class=\"sk-item\"><div class=\"sk-label-container\"><div class=\"sk-label sk-toggleable\"><input class=\"sk-toggleable__control sk-hidden--visually\" id=\"fc7d74da-71bb-4c95-a9c5-a9564063fd06\" type=\"checkbox\" ><label class=\"sk-toggleable__label\" for=\"fc7d74da-71bb-4c95-a9c5-a9564063fd06\">spoken_languages_counts</label><div class=\"sk-toggleable__content\"><pre>['spoken_languages']</pre></div></div></div><div class=\"sk-serial\"><div class=\"sk-item\"><div class=\"sk-serial\"><div class=\"sk-item\"><div class=\"sk-estimator sk-toggleable\"><input class=\"sk-toggleable__control sk-hidden--visually\" id=\"cd1e53e4-b2cb-4c8f-9faa-97cee786a076\" type=\"checkbox\" ><label class=\"sk-toggleable__label\" for=\"cd1e53e4-b2cb-4c8f-9faa-97cee786a076\">SimpleImputer</label><div class=\"sk-toggleable__content\"><pre>SimpleImputer(fill_value='[]', strategy='constant')</pre></div></div></div><div class=\"sk-item\"><div class=\"sk-estimator sk-toggleable\"><input class=\"sk-toggleable__control sk-hidden--visually\" id=\"9a2d3f13-aa64-4bee-b232-4a772bf089e2\" type=\"checkbox\" ><label class=\"sk-toggleable__label\" for=\"9a2d3f13-aa64-4bee-b232-4a772bf089e2\">AttributeCountTransformer</label><div class=\"sk-toggleable__content\"><pre>AttributeCountTransformer()</pre></div></div></div><div class=\"sk-item\"><div class=\"sk-estimator sk-toggleable\"><input class=\"sk-toggleable__control sk-hidden--visually\" id=\"8c24c73f-d1ae-4954-bae3-15052db56293\" type=\"checkbox\" ><label class=\"sk-toggleable__label\" for=\"8c24c73f-d1ae-4954-bae3-15052db56293\">SimpleImputer</label><div class=\"sk-toggleable__content\"><pre>SimpleImputer(missing_values=0, strategy='median')</pre></div></div></div><div class=\"sk-item\"><div class=\"sk-estimator sk-toggleable\"><input class=\"sk-toggleable__control sk-hidden--visually\" id=\"a28c7430-ed15-44c0-a616-3c34f1ac48e7\" type=\"checkbox\" ><label class=\"sk-toggleable__label\" for=\"a28c7430-ed15-44c0-a616-3c34f1ac48e7\">StandardScaler</label><div class=\"sk-toggleable__content\"><pre>StandardScaler()</pre></div></div></div></div></div></div></div></div><div class=\"sk-parallel-item\"><div class=\"sk-item\"><div class=\"sk-label-container\"><div class=\"sk-label sk-toggleable\"><input class=\"sk-toggleable__control sk-hidden--visually\" id=\"276eaae9-42a8-487d-9d4c-3d85e03e6a13\" type=\"checkbox\" ><label class=\"sk-toggleable__label\" for=\"276eaae9-42a8-487d-9d4c-3d85e03e6a13\">genres</label><div class=\"sk-toggleable__content\"><pre>['genres']</pre></div></div></div><div class=\"sk-serial\"><div class=\"sk-item\"><div class=\"sk-serial\"><div class=\"sk-item\"><div class=\"sk-estimator sk-toggleable\"><input class=\"sk-toggleable__control sk-hidden--visually\" id=\"52c89094-a0e4-44b7-8172-9e227ecd3b21\" type=\"checkbox\" ><label class=\"sk-toggleable__label\" for=\"52c89094-a0e4-44b7-8172-9e227ecd3b21\">SimpleImputer</label><div class=\"sk-toggleable__content\"><pre>SimpleImputer(fill_value='[]', strategy='constant')</pre></div></div></div><div class=\"sk-item\"><div class=\"sk-estimator sk-toggleable\"><input class=\"sk-toggleable__control sk-hidden--visually\" id=\"7e455b0b-60f6-4253-92ad-89add82ac7d1\" type=\"checkbox\" ><label class=\"sk-toggleable__label\" for=\"7e455b0b-60f6-4253-92ad-89add82ac7d1\">ExtractionTransformer</label><div class=\"sk-toggleable__content\"><pre>ExtractionTransformer(key='name')</pre></div></div></div><div class=\"sk-item\"><div class=\"sk-estimator sk-toggleable\"><input class=\"sk-toggleable__control sk-hidden--visually\" id=\"dec11286-4952-4a13-9df6-e4daf667945b\" type=\"checkbox\" ><label class=\"sk-toggleable__label\" for=\"dec11286-4952-4a13-9df6-e4daf667945b\">MultinomialAttributeTransformer</label><div class=\"sk-toggleable__content\"><pre>MultinomialAttributeTransformer()</pre></div></div></div></div></div></div></div></div><div class=\"sk-parallel-item\"><div class=\"sk-item\"><div class=\"sk-label-container\"><div class=\"sk-label sk-toggleable\"><input class=\"sk-toggleable__control sk-hidden--visually\" id=\"4e1cf2fb-4dfb-4ea9-80d3-af5859596ea3\" type=\"checkbox\" ><label class=\"sk-toggleable__label\" for=\"4e1cf2fb-4dfb-4ea9-80d3-af5859596ea3\">cast_gender</label><div class=\"sk-toggleable__content\"><pre>['cast']</pre></div></div></div><div class=\"sk-serial\"><div class=\"sk-item\"><div class=\"sk-serial\"><div class=\"sk-item\"><div class=\"sk-estimator sk-toggleable\"><input class=\"sk-toggleable__control sk-hidden--visually\" id=\"a005c096-8238-45b8-877f-e25592cbf4d7\" type=\"checkbox\" ><label class=\"sk-toggleable__label\" for=\"a005c096-8238-45b8-877f-e25592cbf4d7\">SimpleImputer</label><div class=\"sk-toggleable__content\"><pre>SimpleImputer(fill_value='[]', strategy='constant')</pre></div></div></div><div class=\"sk-item\"><div class=\"sk-estimator sk-toggleable\"><input class=\"sk-toggleable__control sk-hidden--visually\" id=\"1b92ece8-f43b-44bd-8718-bb8126c4949b\" type=\"checkbox\" ><label class=\"sk-toggleable__label\" for=\"1b92ece8-f43b-44bd-8718-bb8126c4949b\">ExtractionTransformer</label><div class=\"sk-toggleable__content\"><pre>ExtractionTransformer(key='gender')</pre></div></div></div><div class=\"sk-item\"><div class=\"sk-estimator sk-toggleable\"><input class=\"sk-toggleable__control sk-hidden--visually\" id=\"9ae2b6b7-a713-47ee-a3fc-ce5f06c7bc71\" type=\"checkbox\" ><label class=\"sk-toggleable__label\" for=\"9ae2b6b7-a713-47ee-a3fc-ce5f06c7bc71\">UniqueCountTransformer</label><div class=\"sk-toggleable__content\"><pre>UniqueCountTransformer()</pre></div></div></div><div class=\"sk-item\"><div class=\"sk-estimator sk-toggleable\"><input class=\"sk-toggleable__control sk-hidden--visually\" id=\"1f4fe97b-e881-44bd-bf74-ad6aabd38eda\" type=\"checkbox\" ><label class=\"sk-toggleable__label\" for=\"1f4fe97b-e881-44bd-bf74-ad6aabd38eda\">SimpleImputer</label><div class=\"sk-toggleable__content\"><pre>SimpleImputer(fill_value=0, strategy='constant')</pre></div></div></div></div></div></div></div></div><div class=\"sk-parallel-item\"><div class=\"sk-item\"><div class=\"sk-label-container\"><div class=\"sk-label sk-toggleable\"><input class=\"sk-toggleable__control sk-hidden--visually\" id=\"bdc30bb0-5137-466e-adf9-d34a5e2a94b6\" type=\"checkbox\" ><label class=\"sk-toggleable__label\" for=\"bdc30bb0-5137-466e-adf9-d34a5e2a94b6\">crew_gender</label><div class=\"sk-toggleable__content\"><pre>['crew']</pre></div></div></div><div class=\"sk-serial\"><div class=\"sk-item\"><div class=\"sk-serial\"><div class=\"sk-item\"><div class=\"sk-estimator sk-toggleable\"><input class=\"sk-toggleable__control sk-hidden--visually\" id=\"bca5d2b2-9db7-4e91-aad7-0b59951e6870\" type=\"checkbox\" ><label class=\"sk-toggleable__label\" for=\"bca5d2b2-9db7-4e91-aad7-0b59951e6870\">SimpleImputer</label><div class=\"sk-toggleable__content\"><pre>SimpleImputer(fill_value='[]', strategy='constant')</pre></div></div></div><div class=\"sk-item\"><div class=\"sk-estimator sk-toggleable\"><input class=\"sk-toggleable__control sk-hidden--visually\" id=\"e0bb1e67-9fe4-4609-84c5-37c742d2fd0d\" type=\"checkbox\" ><label class=\"sk-toggleable__label\" for=\"e0bb1e67-9fe4-4609-84c5-37c742d2fd0d\">ExtractionTransformer</label><div class=\"sk-toggleable__content\"><pre>ExtractionTransformer(key='gender')</pre></div></div></div><div class=\"sk-item\"><div class=\"sk-estimator sk-toggleable\"><input class=\"sk-toggleable__control sk-hidden--visually\" id=\"1563f725-694e-4562-9f2f-19490433e508\" type=\"checkbox\" ><label class=\"sk-toggleable__label\" for=\"1563f725-694e-4562-9f2f-19490433e508\">UniqueCountTransformer</label><div class=\"sk-toggleable__content\"><pre>UniqueCountTransformer()</pre></div></div></div><div class=\"sk-item\"><div class=\"sk-estimator sk-toggleable\"><input class=\"sk-toggleable__control sk-hidden--visually\" id=\"c80b467e-1508-4d0b-afdc-183ca5d77c41\" type=\"checkbox\" ><label class=\"sk-toggleable__label\" for=\"c80b467e-1508-4d0b-afdc-183ca5d77c41\">SimpleImputer</label><div class=\"sk-toggleable__content\"><pre>SimpleImputer(fill_value=0, strategy='constant')</pre></div></div></div></div></div></div></div></div><div class=\"sk-parallel-item\"><div class=\"sk-item\"><div class=\"sk-label-container\"><div class=\"sk-label sk-toggleable\"><input class=\"sk-toggleable__control sk-hidden--visually\" id=\"cf057502-e64a-447c-adc2-ebc1d1db31ad\" type=\"checkbox\" ><label class=\"sk-toggleable__label\" for=\"cf057502-e64a-447c-adc2-ebc1d1db31ad\">crew_department</label><div class=\"sk-toggleable__content\"><pre>['crew']</pre></div></div></div><div class=\"sk-serial\"><div class=\"sk-item\"><div class=\"sk-serial\"><div class=\"sk-item\"><div class=\"sk-estimator sk-toggleable\"><input class=\"sk-toggleable__control sk-hidden--visually\" id=\"5f692c91-b6ac-49fb-9f03-19f7de287012\" type=\"checkbox\" ><label class=\"sk-toggleable__label\" for=\"5f692c91-b6ac-49fb-9f03-19f7de287012\">SimpleImputer</label><div class=\"sk-toggleable__content\"><pre>SimpleImputer(fill_value='[]', strategy='constant')</pre></div></div></div><div class=\"sk-item\"><div class=\"sk-estimator sk-toggleable\"><input class=\"sk-toggleable__control sk-hidden--visually\" id=\"83fabcd8-11f8-4bb4-b838-dc8005fcdbe4\" type=\"checkbox\" ><label class=\"sk-toggleable__label\" for=\"83fabcd8-11f8-4bb4-b838-dc8005fcdbe4\">ExtractionTransformer</label><div class=\"sk-toggleable__content\"><pre>ExtractionTransformer(key='department')</pre></div></div></div><div class=\"sk-item\"><div class=\"sk-estimator sk-toggleable\"><input class=\"sk-toggleable__control sk-hidden--visually\" id=\"efa90c24-43d2-4f53-9bd3-5f5460774057\" type=\"checkbox\" ><label class=\"sk-toggleable__label\" for=\"efa90c24-43d2-4f53-9bd3-5f5460774057\">UniqueCountTransformer</label><div class=\"sk-toggleable__content\"><pre>UniqueCountTransformer()</pre></div></div></div><div class=\"sk-item\"><div class=\"sk-estimator sk-toggleable\"><input class=\"sk-toggleable__control sk-hidden--visually\" id=\"511ce7f5-146e-4c0a-b3b0-bcab25e17d1f\" type=\"checkbox\" ><label class=\"sk-toggleable__label\" for=\"511ce7f5-146e-4c0a-b3b0-bcab25e17d1f\">SimpleImputer</label><div class=\"sk-toggleable__content\"><pre>SimpleImputer(fill_value=0, strategy='constant')</pre></div></div></div></div></div></div></div></div><div class=\"sk-parallel-item\"><div class=\"sk-item\"><div class=\"sk-label-container\"><div class=\"sk-label sk-toggleable\"><input class=\"sk-toggleable__control sk-hidden--visually\" id=\"1d2a5caf-20bc-41b9-bd3c-11f63b97007e\" type=\"checkbox\" ><label class=\"sk-toggleable__label\" for=\"1d2a5caf-20bc-41b9-bd3c-11f63b97007e\">crew_jobs</label><div class=\"sk-toggleable__content\"><pre>['crew']</pre></div></div></div><div class=\"sk-serial\"><div class=\"sk-item\"><div class=\"sk-serial\"><div class=\"sk-item\"><div class=\"sk-estimator sk-toggleable\"><input class=\"sk-toggleable__control sk-hidden--visually\" id=\"5560d399-6d6f-4ece-af75-a6ec8e30e2a2\" type=\"checkbox\" ><label class=\"sk-toggleable__label\" for=\"5560d399-6d6f-4ece-af75-a6ec8e30e2a2\">SimpleImputer</label><div class=\"sk-toggleable__content\"><pre>SimpleImputer(fill_value='[]', strategy='constant')</pre></div></div></div><div class=\"sk-item\"><div class=\"sk-estimator sk-toggleable\"><input class=\"sk-toggleable__control sk-hidden--visually\" id=\"c0e33a2b-e0b4-4a68-b951-b667f41c9bc4\" type=\"checkbox\" ><label class=\"sk-toggleable__label\" for=\"c0e33a2b-e0b4-4a68-b951-b667f41c9bc4\">ExtractionTransformer</label><div class=\"sk-toggleable__content\"><pre>ExtractionTransformer(key='job')</pre></div></div></div><div class=\"sk-item\"><div class=\"sk-estimator sk-toggleable\"><input class=\"sk-toggleable__control sk-hidden--visually\" id=\"a0a0ee79-f3ba-460a-add5-6423587992e3\" type=\"checkbox\" ><label class=\"sk-toggleable__label\" for=\"a0a0ee79-f3ba-460a-add5-6423587992e3\">MultinomialAttributeTransformer</label><div class=\"sk-toggleable__content\"><pre>MultinomialAttributeTransformer()</pre></div></div></div></div></div></div></div></div><div class=\"sk-parallel-item\"><div class=\"sk-item\"><div class=\"sk-label-container\"><div class=\"sk-label sk-toggleable\"><input class=\"sk-toggleable__control sk-hidden--visually\" id=\"6723675f-fab7-4417-95a4-70db1719b357\" type=\"checkbox\" ><label class=\"sk-toggleable__label\" for=\"6723675f-fab7-4417-95a4-70db1719b357\">crew_names</label><div class=\"sk-toggleable__content\"><pre>['crew']</pre></div></div></div><div class=\"sk-serial\"><div class=\"sk-item\"><div class=\"sk-serial\"><div class=\"sk-item\"><div class=\"sk-estimator sk-toggleable\"><input class=\"sk-toggleable__control sk-hidden--visually\" id=\"6920eeed-f0b3-49d0-8ceb-dfc782344695\" type=\"checkbox\" ><label class=\"sk-toggleable__label\" for=\"6920eeed-f0b3-49d0-8ceb-dfc782344695\">SimpleImputer</label><div class=\"sk-toggleable__content\"><pre>SimpleImputer(fill_value='[]', strategy='constant')</pre></div></div></div><div class=\"sk-item\"><div class=\"sk-estimator sk-toggleable\"><input class=\"sk-toggleable__control sk-hidden--visually\" id=\"fdeff469-7792-42ae-89c0-ee541cac4ecb\" type=\"checkbox\" ><label class=\"sk-toggleable__label\" for=\"fdeff469-7792-42ae-89c0-ee541cac4ecb\">ExtractionTransformer</label><div class=\"sk-toggleable__content\"><pre>ExtractionTransformer(key='name')</pre></div></div></div><div class=\"sk-item\"><div class=\"sk-estimator sk-toggleable\"><input class=\"sk-toggleable__control sk-hidden--visually\" id=\"d2b81bf1-42c1-49c9-9072-9dabb01cdd8c\" type=\"checkbox\" ><label class=\"sk-toggleable__label\" for=\"d2b81bf1-42c1-49c9-9072-9dabb01cdd8c\">MultinomialAttributeTransformer</label><div class=\"sk-toggleable__content\"><pre>MultinomialAttributeTransformer()</pre></div></div></div><div class=\"sk-item\"><div class=\"sk-estimator sk-toggleable\"><input class=\"sk-toggleable__control sk-hidden--visually\" id=\"65661ca6-c965-4ce3-b2ba-d7cd35b01050\" type=\"checkbox\" ><label class=\"sk-toggleable__label\" for=\"65661ca6-c965-4ce3-b2ba-d7cd35b01050\">PCA</label><div class=\"sk-toggleable__content\"><pre>PCA(n_components=100)</pre></div></div></div></div></div></div></div></div><div class=\"sk-parallel-item\"><div class=\"sk-item\"><div class=\"sk-label-container\"><div class=\"sk-label sk-toggleable\"><input class=\"sk-toggleable__control sk-hidden--visually\" id=\"eb4111e8-2581-42c5-ae55-8322a9d79562\" type=\"checkbox\" ><label class=\"sk-toggleable__label\" for=\"eb4111e8-2581-42c5-ae55-8322a9d79562\">cast_names</label><div class=\"sk-toggleable__content\"><pre>['cast']</pre></div></div></div><div class=\"sk-serial\"><div class=\"sk-item\"><div class=\"sk-serial\"><div class=\"sk-item\"><div class=\"sk-estimator sk-toggleable\"><input class=\"sk-toggleable__control sk-hidden--visually\" id=\"ede182d2-a5fb-4e96-ae33-5cfc7747e7bf\" type=\"checkbox\" ><label class=\"sk-toggleable__label\" for=\"ede182d2-a5fb-4e96-ae33-5cfc7747e7bf\">SimpleImputer</label><div class=\"sk-toggleable__content\"><pre>SimpleImputer(fill_value='[]', strategy='constant')</pre></div></div></div><div class=\"sk-item\"><div class=\"sk-estimator sk-toggleable\"><input class=\"sk-toggleable__control sk-hidden--visually\" id=\"b9112f63-e478-4712-b610-6e3d905e69de\" type=\"checkbox\" ><label class=\"sk-toggleable__label\" for=\"b9112f63-e478-4712-b610-6e3d905e69de\">ExtractionTransformer</label><div class=\"sk-toggleable__content\"><pre>ExtractionTransformer(key='name')</pre></div></div></div><div class=\"sk-item\"><div class=\"sk-estimator sk-toggleable\"><input class=\"sk-toggleable__control sk-hidden--visually\" id=\"91346e69-9213-4926-a120-1e25c6489599\" type=\"checkbox\" ><label class=\"sk-toggleable__label\" for=\"91346e69-9213-4926-a120-1e25c6489599\">MultinomialAttributeTransformer</label><div class=\"sk-toggleable__content\"><pre>MultinomialAttributeTransformer()</pre></div></div></div><div class=\"sk-item\"><div class=\"sk-estimator sk-toggleable\"><input class=\"sk-toggleable__control sk-hidden--visually\" id=\"74407133-b6e1-4c7e-9b5f-797c35d6fd27\" type=\"checkbox\" ><label class=\"sk-toggleable__label\" for=\"74407133-b6e1-4c7e-9b5f-797c35d6fd27\">PCA</label><div class=\"sk-toggleable__content\"><pre>PCA(n_components=100)</pre></div></div></div></div></div></div></div></div><div class=\"sk-parallel-item\"><div class=\"sk-item\"><div class=\"sk-label-container\"><div class=\"sk-label sk-toggleable\"><input class=\"sk-toggleable__control sk-hidden--visually\" id=\"8b1ce4ed-258b-4c23-9a36-424118fca3ba\" type=\"checkbox\" ><label class=\"sk-toggleable__label\" for=\"8b1ce4ed-258b-4c23-9a36-424118fca3ba\">cast_characters</label><div class=\"sk-toggleable__content\"><pre>['cast']</pre></div></div></div><div class=\"sk-serial\"><div class=\"sk-item\"><div class=\"sk-serial\"><div class=\"sk-item\"><div class=\"sk-estimator sk-toggleable\"><input class=\"sk-toggleable__control sk-hidden--visually\" id=\"905a5e30-dc17-4b16-98dc-150a57955c88\" type=\"checkbox\" ><label class=\"sk-toggleable__label\" for=\"905a5e30-dc17-4b16-98dc-150a57955c88\">SimpleImputer</label><div class=\"sk-toggleable__content\"><pre>SimpleImputer(fill_value='[]', strategy='constant')</pre></div></div></div><div class=\"sk-item\"><div class=\"sk-estimator sk-toggleable\"><input class=\"sk-toggleable__control sk-hidden--visually\" id=\"f0e2648c-8bb1-4cbe-8e3d-945e8f575b6a\" type=\"checkbox\" ><label class=\"sk-toggleable__label\" for=\"f0e2648c-8bb1-4cbe-8e3d-945e8f575b6a\">ExtractionTransformer</label><div class=\"sk-toggleable__content\"><pre>ExtractionTransformer(key='character')</pre></div></div></div><div class=\"sk-item\"><div class=\"sk-estimator sk-toggleable\"><input class=\"sk-toggleable__control sk-hidden--visually\" id=\"cfe7e055-065d-470e-bf10-34e08d3d402c\" type=\"checkbox\" ><label class=\"sk-toggleable__label\" for=\"cfe7e055-065d-470e-bf10-34e08d3d402c\">MultinomialAttributeTransformer</label><div class=\"sk-toggleable__content\"><pre>MultinomialAttributeTransformer()</pre></div></div></div><div class=\"sk-item\"><div class=\"sk-estimator sk-toggleable\"><input class=\"sk-toggleable__control sk-hidden--visually\" id=\"0cc19877-4b16-45b4-9f8a-2f92f5cc7471\" type=\"checkbox\" ><label class=\"sk-toggleable__label\" for=\"0cc19877-4b16-45b4-9f8a-2f92f5cc7471\">PCA</label><div class=\"sk-toggleable__content\"><pre>PCA(n_components=100)</pre></div></div></div></div></div></div></div></div><div class=\"sk-parallel-item\"><div class=\"sk-item\"><div class=\"sk-label-container\"><div class=\"sk-label sk-toggleable\"><input class=\"sk-toggleable__control sk-hidden--visually\" id=\"6ab93c88-d8b6-4ed0-9dec-7a1f7606e5e9\" type=\"checkbox\" ><label class=\"sk-toggleable__label\" for=\"6ab93c88-d8b6-4ed0-9dec-7a1f7606e5e9\">keywords</label><div class=\"sk-toggleable__content\"><pre>['Keywords']</pre></div></div></div><div class=\"sk-serial\"><div class=\"sk-item\"><div class=\"sk-serial\"><div class=\"sk-item\"><div class=\"sk-estimator sk-toggleable\"><input class=\"sk-toggleable__control sk-hidden--visually\" id=\"11007501-3f2a-44fb-9c1a-7dc287095178\" type=\"checkbox\" ><label class=\"sk-toggleable__label\" for=\"11007501-3f2a-44fb-9c1a-7dc287095178\">SimpleImputer</label><div class=\"sk-toggleable__content\"><pre>SimpleImputer(fill_value='[]', strategy='constant')</pre></div></div></div><div class=\"sk-item\"><div class=\"sk-estimator sk-toggleable\"><input class=\"sk-toggleable__control sk-hidden--visually\" id=\"2c468a86-5c10-41f4-99d2-7e1d312ec177\" type=\"checkbox\" ><label class=\"sk-toggleable__label\" for=\"2c468a86-5c10-41f4-99d2-7e1d312ec177\">ExtractionTransformer</label><div class=\"sk-toggleable__content\"><pre>ExtractionTransformer(key='name')</pre></div></div></div><div class=\"sk-item\"><div class=\"sk-estimator sk-toggleable\"><input class=\"sk-toggleable__control sk-hidden--visually\" id=\"50a10588-c739-48d2-93f7-7fa0cfd03cd7\" type=\"checkbox\" ><label class=\"sk-toggleable__label\" for=\"50a10588-c739-48d2-93f7-7fa0cfd03cd7\">MultinomialAttributeTransformer</label><div class=\"sk-toggleable__content\"><pre>MultinomialAttributeTransformer()</pre></div></div></div><div class=\"sk-item\"><div class=\"sk-estimator sk-toggleable\"><input class=\"sk-toggleable__control sk-hidden--visually\" id=\"0fee571a-15ef-410b-b683-6040abd829cb\" type=\"checkbox\" ><label class=\"sk-toggleable__label\" for=\"0fee571a-15ef-410b-b683-6040abd829cb\">PCA</label><div class=\"sk-toggleable__content\"><pre>PCA(n_components=100)</pre></div></div></div></div></div></div></div></div><div class=\"sk-parallel-item\"><div class=\"sk-item\"><div class=\"sk-label-container\"><div class=\"sk-label sk-toggleable\"><input class=\"sk-toggleable__control sk-hidden--visually\" id=\"25811269-9f23-4902-ba04-55fa74b03a5b\" type=\"checkbox\" ><label class=\"sk-toggleable__label\" for=\"25811269-9f23-4902-ba04-55fa74b03a5b\">spoken_languages</label><div class=\"sk-toggleable__content\"><pre>['spoken_languages']</pre></div></div></div><div class=\"sk-serial\"><div class=\"sk-item\"><div class=\"sk-serial\"><div class=\"sk-item\"><div class=\"sk-estimator sk-toggleable\"><input class=\"sk-toggleable__control sk-hidden--visually\" id=\"f0ba02e2-3227-443b-a3df-6e9a791aaf1a\" type=\"checkbox\" ><label class=\"sk-toggleable__label\" for=\"f0ba02e2-3227-443b-a3df-6e9a791aaf1a\">SimpleImputer</label><div class=\"sk-toggleable__content\"><pre>SimpleImputer(fill_value='[]', strategy='constant')</pre></div></div></div><div class=\"sk-item\"><div class=\"sk-estimator sk-toggleable\"><input class=\"sk-toggleable__control sk-hidden--visually\" id=\"eba8998b-40be-4756-b303-c24ca6f0df8d\" type=\"checkbox\" ><label class=\"sk-toggleable__label\" for=\"eba8998b-40be-4756-b303-c24ca6f0df8d\">ExtractionTransformer</label><div class=\"sk-toggleable__content\"><pre>ExtractionTransformer(key='name')</pre></div></div></div><div class=\"sk-item\"><div class=\"sk-estimator sk-toggleable\"><input class=\"sk-toggleable__control sk-hidden--visually\" id=\"dba19ade-631e-430d-a0bc-0ed43e4685ab\" type=\"checkbox\" ><label class=\"sk-toggleable__label\" for=\"dba19ade-631e-430d-a0bc-0ed43e4685ab\">MultinomialAttributeTransformer</label><div class=\"sk-toggleable__content\"><pre>MultinomialAttributeTransformer()</pre></div></div></div></div></div></div></div></div><div class=\"sk-parallel-item\"><div class=\"sk-item\"><div class=\"sk-label-container\"><div class=\"sk-label sk-toggleable\"><input class=\"sk-toggleable__control sk-hidden--visually\" id=\"0a739006-2514-4cbd-9d5d-be2baa3567b8\" type=\"checkbox\" ><label class=\"sk-toggleable__label\" for=\"0a739006-2514-4cbd-9d5d-be2baa3567b8\">production_countries</label><div class=\"sk-toggleable__content\"><pre>['production_countries']</pre></div></div></div><div class=\"sk-serial\"><div class=\"sk-item\"><div class=\"sk-serial\"><div class=\"sk-item\"><div class=\"sk-estimator sk-toggleable\"><input class=\"sk-toggleable__control sk-hidden--visually\" id=\"9e44414e-da66-47d0-b64a-54c7bdb257e2\" type=\"checkbox\" ><label class=\"sk-toggleable__label\" for=\"9e44414e-da66-47d0-b64a-54c7bdb257e2\">SimpleImputer</label><div class=\"sk-toggleable__content\"><pre>SimpleImputer(fill_value='[]', strategy='constant')</pre></div></div></div><div class=\"sk-item\"><div class=\"sk-estimator sk-toggleable\"><input class=\"sk-toggleable__control sk-hidden--visually\" id=\"8bad92dd-ff5c-4a16-8d10-aeadfe156f67\" type=\"checkbox\" ><label class=\"sk-toggleable__label\" for=\"8bad92dd-ff5c-4a16-8d10-aeadfe156f67\">ExtractionTransformer</label><div class=\"sk-toggleable__content\"><pre>ExtractionTransformer(key='name')</pre></div></div></div><div class=\"sk-item\"><div class=\"sk-estimator sk-toggleable\"><input class=\"sk-toggleable__control sk-hidden--visually\" id=\"860c24c6-8a41-45d9-b482-30ef90b5df51\" type=\"checkbox\" ><label class=\"sk-toggleable__label\" for=\"860c24c6-8a41-45d9-b482-30ef90b5df51\">MultinomialAttributeTransformer</label><div class=\"sk-toggleable__content\"><pre>MultinomialAttributeTransformer()</pre></div></div></div></div></div></div></div></div><div class=\"sk-parallel-item\"><div class=\"sk-item\"><div class=\"sk-label-container\"><div class=\"sk-label sk-toggleable\"><input class=\"sk-toggleable__control sk-hidden--visually\" id=\"dd858280-b9ef-46b2-87f1-47e54703049c\" type=\"checkbox\" ><label class=\"sk-toggleable__label\" for=\"dd858280-b9ef-46b2-87f1-47e54703049c\">production_companies</label><div class=\"sk-toggleable__content\"><pre>['production_companies']</pre></div></div></div><div class=\"sk-serial\"><div class=\"sk-item\"><div class=\"sk-serial\"><div class=\"sk-item\"><div class=\"sk-estimator sk-toggleable\"><input class=\"sk-toggleable__control sk-hidden--visually\" id=\"252ec970-3232-46a3-9862-4a67cd6a389c\" type=\"checkbox\" ><label class=\"sk-toggleable__label\" for=\"252ec970-3232-46a3-9862-4a67cd6a389c\">SimpleImputer</label><div class=\"sk-toggleable__content\"><pre>SimpleImputer(fill_value='[]', strategy='constant')</pre></div></div></div><div class=\"sk-item\"><div class=\"sk-estimator sk-toggleable\"><input class=\"sk-toggleable__control sk-hidden--visually\" id=\"15d80974-cd8d-4938-9552-63fb16cbe0aa\" type=\"checkbox\" ><label class=\"sk-toggleable__label\" for=\"15d80974-cd8d-4938-9552-63fb16cbe0aa\">ExtractionTransformer</label><div class=\"sk-toggleable__content\"><pre>ExtractionTransformer(key='name')</pre></div></div></div><div class=\"sk-item\"><div class=\"sk-estimator sk-toggleable\"><input class=\"sk-toggleable__control sk-hidden--visually\" id=\"9501c4eb-481d-4c59-84f0-2bccdbab6a7f\" type=\"checkbox\" ><label class=\"sk-toggleable__label\" for=\"9501c4eb-481d-4c59-84f0-2bccdbab6a7f\">MultinomialAttributeTransformer</label><div class=\"sk-toggleable__content\"><pre>MultinomialAttributeTransformer()</pre></div></div></div><div class=\"sk-item\"><div class=\"sk-estimator sk-toggleable\"><input class=\"sk-toggleable__control sk-hidden--visually\" id=\"eb98d395-0f61-4485-acc5-88c4ec5dbd6e\" type=\"checkbox\" ><label class=\"sk-toggleable__label\" for=\"eb98d395-0f61-4485-acc5-88c4ec5dbd6e\">PCA</label><div class=\"sk-toggleable__content\"><pre>PCA(n_components=100)</pre></div></div></div></div></div></div></div></div></div></div><div class=\"sk-item sk-dashed-wrapped\"><div class=\"sk-label-container\"><div class=\"sk-label sk-toggleable\"><input class=\"sk-toggleable__control sk-hidden--visually\" id=\"a328446a-5681-4ffd-bd1b-bf2d381c5682\" type=\"checkbox\" ><label class=\"sk-toggleable__label\" for=\"a328446a-5681-4ffd-bd1b-bf2d381c5682\">L1_selector: SelectFromModel</label><div class=\"sk-toggleable__content\"><pre>SelectFromModel(estimator=LassoCV(max_iter=10000, n_jobs=4))</pre></div></div></div><div class=\"sk-parallel\"><div class=\"sk-parallel-item\"><div class=\"sk-item\"><div class=\"sk-serial\"><div class=\"sk-item\"><div class=\"sk-estimator sk-toggleable\"><input class=\"sk-toggleable__control sk-hidden--visually\" id=\"ec42cf93-3134-4709-ab88-12e20d08aa9a\" type=\"checkbox\" ><label class=\"sk-toggleable__label\" for=\"ec42cf93-3134-4709-ab88-12e20d08aa9a\">LassoCV</label><div class=\"sk-toggleable__content\"><pre>LassoCV(max_iter=10000, n_jobs=4)</pre></div></div></div></div></div></div></div></div><div class=\"sk-item\"><div class=\"sk-estimator sk-toggleable\"><input class=\"sk-toggleable__control sk-hidden--visually\" id=\"b5dbed02-0d72-4798-92e3-c8300492195e\" type=\"checkbox\" ><label class=\"sk-toggleable__label\" for=\"b5dbed02-0d72-4798-92e3-c8300492195e\">RandomForestRegressor</label><div class=\"sk-toggleable__content\"><pre>RandomForestRegressor(min_samples_leaf=10, n_estimators=500, n_jobs=4)</pre></div></div></div></div></div></div></div></div><div class=\"sk-parallel-item\"><div class=\"sk-item\"><div class=\"sk-serial\"><div class=\"sk-item\"><div class=\"sk-serial\"><div class=\"sk-item sk-dashed-wrapped\"><div class=\"sk-label-container\"><div class=\"sk-label sk-toggleable\"><input class=\"sk-toggleable__control sk-hidden--visually\" id=\"5481d0c4-e4a6-4f43-9a8d-d480c525c92c\" type=\"checkbox\" ><label class=\"sk-toggleable__label\" for=\"5481d0c4-e4a6-4f43-9a8d-d480c525c92c\">prep: ColumnTransformer</label><div class=\"sk-toggleable__content\"><pre>ColumnTransformer(transformers=[('budget',\n",
       "                                 Pipeline(steps=[('simpleimputer',\n",
       "                                                  SimpleImputer(strategy='median')),\n",
       "                                                 ('functiontransformer',\n",
       "                                                  FunctionTransformer(func=<ufunc 'log1p'>)),\n",
       "                                                 ('standardscaler',\n",
       "                                                  StandardScaler())]),\n",
       "                                 ['budget']),\n",
       "                                ('popularity',\n",
       "                                 Pipeline(steps=[('simpleimputer',\n",
       "                                                  SimpleImputer(strategy='median')),\n",
       "                                                 ('functiontransformer',\n",
       "                                                  FunctionTransformer(fu...\n",
       "                                                  MultinomialAttributeTransformer())]),\n",
       "                                 ['production_countries']),\n",
       "                                ('production_companies',\n",
       "                                 Pipeline(steps=[('simpleimputer',\n",
       "                                                  SimpleImputer(fill_value='[]',\n",
       "                                                                strategy='constant')),\n",
       "                                                 ('extractiontransformer',\n",
       "                                                  ExtractionTransformer(key='name')),\n",
       "                                                 ('multinomialattributetransformer',\n",
       "                                                  MultinomialAttributeTransformer()),\n",
       "                                                 ('pca',\n",
       "                                                  PCA(n_components=100))]),\n",
       "                                 ['production_companies'])])</pre></div></div></div><div class=\"sk-parallel\"><div class=\"sk-parallel-item\"><div class=\"sk-item\"><div class=\"sk-label-container\"><div class=\"sk-label sk-toggleable\"><input class=\"sk-toggleable__control sk-hidden--visually\" id=\"9f30c0e9-b6b6-44b9-95cd-145690f41dc8\" type=\"checkbox\" ><label class=\"sk-toggleable__label\" for=\"9f30c0e9-b6b6-44b9-95cd-145690f41dc8\">budget</label><div class=\"sk-toggleable__content\"><pre>['budget']</pre></div></div></div><div class=\"sk-serial\"><div class=\"sk-item\"><div class=\"sk-serial\"><div class=\"sk-item\"><div class=\"sk-estimator sk-toggleable\"><input class=\"sk-toggleable__control sk-hidden--visually\" id=\"0ba4e756-5289-4f18-8522-93820d927aaf\" type=\"checkbox\" ><label class=\"sk-toggleable__label\" for=\"0ba4e756-5289-4f18-8522-93820d927aaf\">SimpleImputer</label><div class=\"sk-toggleable__content\"><pre>SimpleImputer(strategy='median')</pre></div></div></div><div class=\"sk-item\"><div class=\"sk-estimator sk-toggleable\"><input class=\"sk-toggleable__control sk-hidden--visually\" id=\"f1f9e583-add6-4e1a-b019-61cc1d44146b\" type=\"checkbox\" ><label class=\"sk-toggleable__label\" for=\"f1f9e583-add6-4e1a-b019-61cc1d44146b\">FunctionTransformer</label><div class=\"sk-toggleable__content\"><pre>FunctionTransformer(func=<ufunc 'log1p'>)</pre></div></div></div><div class=\"sk-item\"><div class=\"sk-estimator sk-toggleable\"><input class=\"sk-toggleable__control sk-hidden--visually\" id=\"cc6c00dc-bbb8-4e6f-9301-2332c32b663b\" type=\"checkbox\" ><label class=\"sk-toggleable__label\" for=\"cc6c00dc-bbb8-4e6f-9301-2332c32b663b\">StandardScaler</label><div class=\"sk-toggleable__content\"><pre>StandardScaler()</pre></div></div></div></div></div></div></div></div><div class=\"sk-parallel-item\"><div class=\"sk-item\"><div class=\"sk-label-container\"><div class=\"sk-label sk-toggleable\"><input class=\"sk-toggleable__control sk-hidden--visually\" id=\"00602cac-4953-43f4-bdc4-5a31c72b91b8\" type=\"checkbox\" ><label class=\"sk-toggleable__label\" for=\"00602cac-4953-43f4-bdc4-5a31c72b91b8\">popularity</label><div class=\"sk-toggleable__content\"><pre>['popularity']</pre></div></div></div><div class=\"sk-serial\"><div class=\"sk-item\"><div class=\"sk-serial\"><div class=\"sk-item\"><div class=\"sk-estimator sk-toggleable\"><input class=\"sk-toggleable__control sk-hidden--visually\" id=\"c6254eb9-a8b9-4d73-b145-5aab445ca0f3\" type=\"checkbox\" ><label class=\"sk-toggleable__label\" for=\"c6254eb9-a8b9-4d73-b145-5aab445ca0f3\">SimpleImputer</label><div class=\"sk-toggleable__content\"><pre>SimpleImputer(strategy='median')</pre></div></div></div><div class=\"sk-item\"><div class=\"sk-estimator sk-toggleable\"><input class=\"sk-toggleable__control sk-hidden--visually\" id=\"f2bb41bf-2c44-497b-bfe0-0689dd5e48ab\" type=\"checkbox\" ><label class=\"sk-toggleable__label\" for=\"f2bb41bf-2c44-497b-bfe0-0689dd5e48ab\">FunctionTransformer</label><div class=\"sk-toggleable__content\"><pre>FunctionTransformer(func=<ufunc 'log1p'>)</pre></div></div></div><div class=\"sk-item\"><div class=\"sk-estimator sk-toggleable\"><input class=\"sk-toggleable__control sk-hidden--visually\" id=\"38bb6369-a388-4007-b6ac-0f2e98f8b04a\" type=\"checkbox\" ><label class=\"sk-toggleable__label\" for=\"38bb6369-a388-4007-b6ac-0f2e98f8b04a\">StandardScaler</label><div class=\"sk-toggleable__content\"><pre>StandardScaler()</pre></div></div></div></div></div></div></div></div><div class=\"sk-parallel-item\"><div class=\"sk-item\"><div class=\"sk-label-container\"><div class=\"sk-label sk-toggleable\"><input class=\"sk-toggleable__control sk-hidden--visually\" id=\"a25dd723-d438-42c1-bb56-43c55c099e3e\" type=\"checkbox\" ><label class=\"sk-toggleable__label\" for=\"a25dd723-d438-42c1-bb56-43c55c099e3e\">runtime</label><div class=\"sk-toggleable__content\"><pre>['runtime']</pre></div></div></div><div class=\"sk-serial\"><div class=\"sk-item\"><div class=\"sk-serial\"><div class=\"sk-item\"><div class=\"sk-label-container\"><div class=\"sk-label sk-toggleable\"><input class=\"sk-toggleable__control sk-hidden--visually\" id=\"dc221b36-850a-4b10-878d-9236a5e83763\" type=\"checkbox\" ><label class=\"sk-toggleable__label\" for=\"dc221b36-850a-4b10-878d-9236a5e83763\">pipeline: Pipeline</label><div class=\"sk-toggleable__content\"><pre>Pipeline(steps=[('simpleimputer-1', SimpleImputer(strategy='median')),\n",
       "                ('simpleimputer-2',\n",
       "                 SimpleImputer(missing_values=0, strategy='median'))])</pre></div></div></div><div class=\"sk-serial\"><div class=\"sk-item\"><div class=\"sk-estimator sk-toggleable\"><input class=\"sk-toggleable__control sk-hidden--visually\" id=\"743a6f17-925e-408f-8f37-4de4e68f28d2\" type=\"checkbox\" ><label class=\"sk-toggleable__label\" for=\"743a6f17-925e-408f-8f37-4de4e68f28d2\">SimpleImputer</label><div class=\"sk-toggleable__content\"><pre>SimpleImputer(strategy='median')</pre></div></div></div><div class=\"sk-item\"><div class=\"sk-estimator sk-toggleable\"><input class=\"sk-toggleable__control sk-hidden--visually\" id=\"b1ec01be-58e9-4092-bf6f-265a5e355702\" type=\"checkbox\" ><label class=\"sk-toggleable__label\" for=\"b1ec01be-58e9-4092-bf6f-265a5e355702\">SimpleImputer</label><div class=\"sk-toggleable__content\"><pre>SimpleImputer(missing_values=0, strategy='median')</pre></div></div></div></div></div><div class=\"sk-item\"><div class=\"sk-estimator sk-toggleable\"><input class=\"sk-toggleable__control sk-hidden--visually\" id=\"4a267ce4-fc40-47ba-9804-605708160ecf\" type=\"checkbox\" ><label class=\"sk-toggleable__label\" for=\"4a267ce4-fc40-47ba-9804-605708160ecf\">StandardScaler</label><div class=\"sk-toggleable__content\"><pre>StandardScaler()</pre></div></div></div></div></div></div></div></div><div class=\"sk-parallel-item\"><div class=\"sk-item\"><div class=\"sk-label-container\"><div class=\"sk-label sk-toggleable\"><input class=\"sk-toggleable__control sk-hidden--visually\" id=\"7f63b1c1-3b69-4705-88ff-f0814f25aedb\" type=\"checkbox\" ><label class=\"sk-toggleable__label\" for=\"7f63b1c1-3b69-4705-88ff-f0814f25aedb\">release_date</label><div class=\"sk-toggleable__content\"><pre>['release_date']</pre></div></div></div><div class=\"sk-serial\"><div class=\"sk-item\"><div class=\"sk-serial\"><div class=\"sk-item\"><div class=\"sk-estimator sk-toggleable\"><input class=\"sk-toggleable__control sk-hidden--visually\" id=\"d344883d-0899-4f8d-abb1-b366d1eab2fa\" type=\"checkbox\" ><label class=\"sk-toggleable__label\" for=\"d344883d-0899-4f8d-abb1-b366d1eab2fa\">SimpleImputer</label><div class=\"sk-toggleable__content\"><pre>SimpleImputer(strategy='most_frequent')</pre></div></div></div><div class=\"sk-item\"><div class=\"sk-estimator sk-toggleable\"><input class=\"sk-toggleable__control sk-hidden--visually\" id=\"49d9d8d0-139f-4da8-8429-047b111bc850\" type=\"checkbox\" ><label class=\"sk-toggleable__label\" for=\"49d9d8d0-139f-4da8-8429-047b111bc850\">ReleaseDateTransformer</label><div class=\"sk-toggleable__content\"><pre>ReleaseDateTransformer()</pre></div></div></div></div></div></div></div></div><div class=\"sk-parallel-item\"><div class=\"sk-item\"><div class=\"sk-label-container\"><div class=\"sk-label sk-toggleable\"><input class=\"sk-toggleable__control sk-hidden--visually\" id=\"34db1e1e-c810-4b66-a293-4b1b57c49747\" type=\"checkbox\" ><label class=\"sk-toggleable__label\" for=\"34db1e1e-c810-4b66-a293-4b1b57c49747\">homepage+tagline+belongs_to_collection</label><div class=\"sk-toggleable__content\"><pre>['homepage', 'tagline', 'belongs_to_collection']</pre></div></div></div><div class=\"sk-serial\"><div class=\"sk-item\"><div class=\"sk-estimator sk-toggleable\"><input class=\"sk-toggleable__control sk-hidden--visually\" id=\"5be94b5c-17a1-4433-b6db-715d46a55b2d\" type=\"checkbox\" ><label class=\"sk-toggleable__label\" for=\"5be94b5c-17a1-4433-b6db-715d46a55b2d\">FunctionTransformer</label><div class=\"sk-toggleable__content\"><pre>FunctionTransformer(func=<function <lambda> at 0x178165820>)</pre></div></div></div></div></div></div><div class=\"sk-parallel-item\"><div class=\"sk-item\"><div class=\"sk-label-container\"><div class=\"sk-label sk-toggleable\"><input class=\"sk-toggleable__control sk-hidden--visually\" id=\"ecba4784-d7fe-4985-959a-559c65d49d75\" type=\"checkbox\" ><label class=\"sk-toggleable__label\" for=\"ecba4784-d7fe-4985-959a-559c65d49d75\">genres_counts</label><div class=\"sk-toggleable__content\"><pre>['genres']</pre></div></div></div><div class=\"sk-serial\"><div class=\"sk-item\"><div class=\"sk-serial\"><div class=\"sk-item\"><div class=\"sk-estimator sk-toggleable\"><input class=\"sk-toggleable__control sk-hidden--visually\" id=\"906c8cf4-565f-4e8a-8105-449b529daa7f\" type=\"checkbox\" ><label class=\"sk-toggleable__label\" for=\"906c8cf4-565f-4e8a-8105-449b529daa7f\">SimpleImputer</label><div class=\"sk-toggleable__content\"><pre>SimpleImputer(fill_value='[]', strategy='constant')</pre></div></div></div><div class=\"sk-item\"><div class=\"sk-estimator sk-toggleable\"><input class=\"sk-toggleable__control sk-hidden--visually\" id=\"c085335b-f7eb-4597-b42a-cdb8687f6020\" type=\"checkbox\" ><label class=\"sk-toggleable__label\" for=\"c085335b-f7eb-4597-b42a-cdb8687f6020\">AttributeCountTransformer</label><div class=\"sk-toggleable__content\"><pre>AttributeCountTransformer()</pre></div></div></div><div class=\"sk-item\"><div class=\"sk-estimator sk-toggleable\"><input class=\"sk-toggleable__control sk-hidden--visually\" id=\"8c86fd71-5ad9-4ee7-829f-aafd0249dccb\" type=\"checkbox\" ><label class=\"sk-toggleable__label\" for=\"8c86fd71-5ad9-4ee7-829f-aafd0249dccb\">SimpleImputer</label><div class=\"sk-toggleable__content\"><pre>SimpleImputer(missing_values=0, strategy='median')</pre></div></div></div><div class=\"sk-item\"><div class=\"sk-estimator sk-toggleable\"><input class=\"sk-toggleable__control sk-hidden--visually\" id=\"a122d483-61df-4633-9a6a-e9d16ed5fdea\" type=\"checkbox\" ><label class=\"sk-toggleable__label\" for=\"a122d483-61df-4633-9a6a-e9d16ed5fdea\">StandardScaler</label><div class=\"sk-toggleable__content\"><pre>StandardScaler()</pre></div></div></div></div></div></div></div></div><div class=\"sk-parallel-item\"><div class=\"sk-item\"><div class=\"sk-label-container\"><div class=\"sk-label sk-toggleable\"><input class=\"sk-toggleable__control sk-hidden--visually\" id=\"0082ebf9-5744-4dd0-8d22-85197c1bc21a\" type=\"checkbox\" ><label class=\"sk-toggleable__label\" for=\"0082ebf9-5744-4dd0-8d22-85197c1bc21a\">cast_counts</label><div class=\"sk-toggleable__content\"><pre>['cast']</pre></div></div></div><div class=\"sk-serial\"><div class=\"sk-item\"><div class=\"sk-serial\"><div class=\"sk-item\"><div class=\"sk-estimator sk-toggleable\"><input class=\"sk-toggleable__control sk-hidden--visually\" id=\"b19f0378-a945-40ba-a6a9-08b4ad120b4e\" type=\"checkbox\" ><label class=\"sk-toggleable__label\" for=\"b19f0378-a945-40ba-a6a9-08b4ad120b4e\">SimpleImputer</label><div class=\"sk-toggleable__content\"><pre>SimpleImputer(fill_value='[]', strategy='constant')</pre></div></div></div><div class=\"sk-item\"><div class=\"sk-estimator sk-toggleable\"><input class=\"sk-toggleable__control sk-hidden--visually\" id=\"8d32f7b3-1c12-42fd-9830-b8cff5319b32\" type=\"checkbox\" ><label class=\"sk-toggleable__label\" for=\"8d32f7b3-1c12-42fd-9830-b8cff5319b32\">AttributeCountTransformer</label><div class=\"sk-toggleable__content\"><pre>AttributeCountTransformer()</pre></div></div></div><div class=\"sk-item\"><div class=\"sk-estimator sk-toggleable\"><input class=\"sk-toggleable__control sk-hidden--visually\" id=\"d58ac035-dd8e-43bd-b675-79e0e0e15aad\" type=\"checkbox\" ><label class=\"sk-toggleable__label\" for=\"d58ac035-dd8e-43bd-b675-79e0e0e15aad\">SimpleImputer</label><div class=\"sk-toggleable__content\"><pre>SimpleImputer(missing_values=0, strategy='median')</pre></div></div></div><div class=\"sk-item\"><div class=\"sk-estimator sk-toggleable\"><input class=\"sk-toggleable__control sk-hidden--visually\" id=\"3e4b0dbe-7398-4153-851e-3d94a44bed30\" type=\"checkbox\" ><label class=\"sk-toggleable__label\" for=\"3e4b0dbe-7398-4153-851e-3d94a44bed30\">StandardScaler</label><div class=\"sk-toggleable__content\"><pre>StandardScaler()</pre></div></div></div></div></div></div></div></div><div class=\"sk-parallel-item\"><div class=\"sk-item\"><div class=\"sk-label-container\"><div class=\"sk-label sk-toggleable\"><input class=\"sk-toggleable__control sk-hidden--visually\" id=\"e8d76963-3512-4868-94fa-70beaba32348\" type=\"checkbox\" ><label class=\"sk-toggleable__label\" for=\"e8d76963-3512-4868-94fa-70beaba32348\">crew_counts</label><div class=\"sk-toggleable__content\"><pre>['crew']</pre></div></div></div><div class=\"sk-serial\"><div class=\"sk-item\"><div class=\"sk-serial\"><div class=\"sk-item\"><div class=\"sk-estimator sk-toggleable\"><input class=\"sk-toggleable__control sk-hidden--visually\" id=\"8089e645-8cf9-4611-bc85-c2487441d803\" type=\"checkbox\" ><label class=\"sk-toggleable__label\" for=\"8089e645-8cf9-4611-bc85-c2487441d803\">SimpleImputer</label><div class=\"sk-toggleable__content\"><pre>SimpleImputer(fill_value='[]', strategy='constant')</pre></div></div></div><div class=\"sk-item\"><div class=\"sk-estimator sk-toggleable\"><input class=\"sk-toggleable__control sk-hidden--visually\" id=\"1270ce00-1424-44b9-8f5e-1a237d07062c\" type=\"checkbox\" ><label class=\"sk-toggleable__label\" for=\"1270ce00-1424-44b9-8f5e-1a237d07062c\">AttributeCountTransformer</label><div class=\"sk-toggleable__content\"><pre>AttributeCountTransformer()</pre></div></div></div><div class=\"sk-item\"><div class=\"sk-estimator sk-toggleable\"><input class=\"sk-toggleable__control sk-hidden--visually\" id=\"7ceb76d9-e61f-4957-822e-508f5bdc391d\" type=\"checkbox\" ><label class=\"sk-toggleable__label\" for=\"7ceb76d9-e61f-4957-822e-508f5bdc391d\">SimpleImputer</label><div class=\"sk-toggleable__content\"><pre>SimpleImputer(missing_values=0, strategy='median')</pre></div></div></div><div class=\"sk-item\"><div class=\"sk-estimator sk-toggleable\"><input class=\"sk-toggleable__control sk-hidden--visually\" id=\"d24bb316-34de-4120-bea1-7fe7222b9bc1\" type=\"checkbox\" ><label class=\"sk-toggleable__label\" for=\"d24bb316-34de-4120-bea1-7fe7222b9bc1\">StandardScaler</label><div class=\"sk-toggleable__content\"><pre>StandardScaler()</pre></div></div></div></div></div></div></div></div><div class=\"sk-parallel-item\"><div class=\"sk-item\"><div class=\"sk-label-container\"><div class=\"sk-label sk-toggleable\"><input class=\"sk-toggleable__control sk-hidden--visually\" id=\"599ef476-a17c-4321-811a-3198246806eb\" type=\"checkbox\" ><label class=\"sk-toggleable__label\" for=\"599ef476-a17c-4321-811a-3198246806eb\">keywords_counts</label><div class=\"sk-toggleable__content\"><pre>['Keywords']</pre></div></div></div><div class=\"sk-serial\"><div class=\"sk-item\"><div class=\"sk-serial\"><div class=\"sk-item\"><div class=\"sk-estimator sk-toggleable\"><input class=\"sk-toggleable__control sk-hidden--visually\" id=\"67dea43e-4ee0-4672-bd98-c89995f3a0f3\" type=\"checkbox\" ><label class=\"sk-toggleable__label\" for=\"67dea43e-4ee0-4672-bd98-c89995f3a0f3\">SimpleImputer</label><div class=\"sk-toggleable__content\"><pre>SimpleImputer(fill_value='[]', strategy='constant')</pre></div></div></div><div class=\"sk-item\"><div class=\"sk-estimator sk-toggleable\"><input class=\"sk-toggleable__control sk-hidden--visually\" id=\"580b8f0f-7329-4d1e-97e8-88ae3cefa73b\" type=\"checkbox\" ><label class=\"sk-toggleable__label\" for=\"580b8f0f-7329-4d1e-97e8-88ae3cefa73b\">AttributeCountTransformer</label><div class=\"sk-toggleable__content\"><pre>AttributeCountTransformer()</pre></div></div></div><div class=\"sk-item\"><div class=\"sk-estimator sk-toggleable\"><input class=\"sk-toggleable__control sk-hidden--visually\" id=\"bcfa9bd5-3dca-4fba-9689-a26ab624c08d\" type=\"checkbox\" ><label class=\"sk-toggleable__label\" for=\"bcfa9bd5-3dca-4fba-9689-a26ab624c08d\">SimpleImputer</label><div class=\"sk-toggleable__content\"><pre>SimpleImputer(missing_values=0, strategy='median')</pre></div></div></div><div class=\"sk-item\"><div class=\"sk-estimator sk-toggleable\"><input class=\"sk-toggleable__control sk-hidden--visually\" id=\"f9237cda-29da-40e4-9e26-60f7c530f335\" type=\"checkbox\" ><label class=\"sk-toggleable__label\" for=\"f9237cda-29da-40e4-9e26-60f7c530f335\">StandardScaler</label><div class=\"sk-toggleable__content\"><pre>StandardScaler()</pre></div></div></div></div></div></div></div></div><div class=\"sk-parallel-item\"><div class=\"sk-item\"><div class=\"sk-label-container\"><div class=\"sk-label sk-toggleable\"><input class=\"sk-toggleable__control sk-hidden--visually\" id=\"f81f281c-9373-4d73-8d9e-49c6199736c0\" type=\"checkbox\" ><label class=\"sk-toggleable__label\" for=\"f81f281c-9373-4d73-8d9e-49c6199736c0\">production_companies_counts</label><div class=\"sk-toggleable__content\"><pre>['production_companies']</pre></div></div></div><div class=\"sk-serial\"><div class=\"sk-item\"><div class=\"sk-serial\"><div class=\"sk-item\"><div class=\"sk-estimator sk-toggleable\"><input class=\"sk-toggleable__control sk-hidden--visually\" id=\"3908c1f5-5f08-433e-a11f-6371a588f12c\" type=\"checkbox\" ><label class=\"sk-toggleable__label\" for=\"3908c1f5-5f08-433e-a11f-6371a588f12c\">SimpleImputer</label><div class=\"sk-toggleable__content\"><pre>SimpleImputer(fill_value='[]', strategy='constant')</pre></div></div></div><div class=\"sk-item\"><div class=\"sk-estimator sk-toggleable\"><input class=\"sk-toggleable__control sk-hidden--visually\" id=\"7e34d3b1-4040-48e1-b61b-f9773088876a\" type=\"checkbox\" ><label class=\"sk-toggleable__label\" for=\"7e34d3b1-4040-48e1-b61b-f9773088876a\">AttributeCountTransformer</label><div class=\"sk-toggleable__content\"><pre>AttributeCountTransformer()</pre></div></div></div><div class=\"sk-item\"><div class=\"sk-estimator sk-toggleable\"><input class=\"sk-toggleable__control sk-hidden--visually\" id=\"0f4012d1-d775-4c50-9eaa-76f8d4677c8a\" type=\"checkbox\" ><label class=\"sk-toggleable__label\" for=\"0f4012d1-d775-4c50-9eaa-76f8d4677c8a\">SimpleImputer</label><div class=\"sk-toggleable__content\"><pre>SimpleImputer(missing_values=0, strategy='median')</pre></div></div></div><div class=\"sk-item\"><div class=\"sk-estimator sk-toggleable\"><input class=\"sk-toggleable__control sk-hidden--visually\" id=\"8694275a-ddda-4b08-b151-4afee19fbad8\" type=\"checkbox\" ><label class=\"sk-toggleable__label\" for=\"8694275a-ddda-4b08-b151-4afee19fbad8\">StandardScaler</label><div class=\"sk-toggleable__content\"><pre>StandardScaler()</pre></div></div></div></div></div></div></div></div><div class=\"sk-parallel-item\"><div class=\"sk-item\"><div class=\"sk-label-container\"><div class=\"sk-label sk-toggleable\"><input class=\"sk-toggleable__control sk-hidden--visually\" id=\"6ed08ee9-832f-4b07-9908-aa0453c83745\" type=\"checkbox\" ><label class=\"sk-toggleable__label\" for=\"6ed08ee9-832f-4b07-9908-aa0453c83745\">production_countries_counts</label><div class=\"sk-toggleable__content\"><pre>['production_countries']</pre></div></div></div><div class=\"sk-serial\"><div class=\"sk-item\"><div class=\"sk-serial\"><div class=\"sk-item\"><div class=\"sk-estimator sk-toggleable\"><input class=\"sk-toggleable__control sk-hidden--visually\" id=\"12ad6cd7-5d64-48cb-8d8e-aeaf2bc3b5e7\" type=\"checkbox\" ><label class=\"sk-toggleable__label\" for=\"12ad6cd7-5d64-48cb-8d8e-aeaf2bc3b5e7\">SimpleImputer</label><div class=\"sk-toggleable__content\"><pre>SimpleImputer(fill_value='[]', strategy='constant')</pre></div></div></div><div class=\"sk-item\"><div class=\"sk-estimator sk-toggleable\"><input class=\"sk-toggleable__control sk-hidden--visually\" id=\"6c9e0970-0cb9-44f3-8895-8cf707aedd28\" type=\"checkbox\" ><label class=\"sk-toggleable__label\" for=\"6c9e0970-0cb9-44f3-8895-8cf707aedd28\">AttributeCountTransformer</label><div class=\"sk-toggleable__content\"><pre>AttributeCountTransformer()</pre></div></div></div><div class=\"sk-item\"><div class=\"sk-estimator sk-toggleable\"><input class=\"sk-toggleable__control sk-hidden--visually\" id=\"304d3902-e8b2-41ff-abd1-2eb448f0b10f\" type=\"checkbox\" ><label class=\"sk-toggleable__label\" for=\"304d3902-e8b2-41ff-abd1-2eb448f0b10f\">SimpleImputer</label><div class=\"sk-toggleable__content\"><pre>SimpleImputer(missing_values=0, strategy='median')</pre></div></div></div><div class=\"sk-item\"><div class=\"sk-estimator sk-toggleable\"><input class=\"sk-toggleable__control sk-hidden--visually\" id=\"ff770267-64ca-492c-adf3-6fba3de645dd\" type=\"checkbox\" ><label class=\"sk-toggleable__label\" for=\"ff770267-64ca-492c-adf3-6fba3de645dd\">StandardScaler</label><div class=\"sk-toggleable__content\"><pre>StandardScaler()</pre></div></div></div></div></div></div></div></div><div class=\"sk-parallel-item\"><div class=\"sk-item\"><div class=\"sk-label-container\"><div class=\"sk-label sk-toggleable\"><input class=\"sk-toggleable__control sk-hidden--visually\" id=\"9b529b80-5b0f-4d40-a368-d417153858b7\" type=\"checkbox\" ><label class=\"sk-toggleable__label\" for=\"9b529b80-5b0f-4d40-a368-d417153858b7\">spoken_languages_counts</label><div class=\"sk-toggleable__content\"><pre>['spoken_languages']</pre></div></div></div><div class=\"sk-serial\"><div class=\"sk-item\"><div class=\"sk-serial\"><div class=\"sk-item\"><div class=\"sk-estimator sk-toggleable\"><input class=\"sk-toggleable__control sk-hidden--visually\" id=\"31009319-f1df-4d53-b8c2-16a783e157ef\" type=\"checkbox\" ><label class=\"sk-toggleable__label\" for=\"31009319-f1df-4d53-b8c2-16a783e157ef\">SimpleImputer</label><div class=\"sk-toggleable__content\"><pre>SimpleImputer(fill_value='[]', strategy='constant')</pre></div></div></div><div class=\"sk-item\"><div class=\"sk-estimator sk-toggleable\"><input class=\"sk-toggleable__control sk-hidden--visually\" id=\"0de7b013-8127-4b46-9828-9e0bb764744b\" type=\"checkbox\" ><label class=\"sk-toggleable__label\" for=\"0de7b013-8127-4b46-9828-9e0bb764744b\">AttributeCountTransformer</label><div class=\"sk-toggleable__content\"><pre>AttributeCountTransformer()</pre></div></div></div><div class=\"sk-item\"><div class=\"sk-estimator sk-toggleable\"><input class=\"sk-toggleable__control sk-hidden--visually\" id=\"e5067da0-57c0-4d15-be93-5fea24ed7406\" type=\"checkbox\" ><label class=\"sk-toggleable__label\" for=\"e5067da0-57c0-4d15-be93-5fea24ed7406\">SimpleImputer</label><div class=\"sk-toggleable__content\"><pre>SimpleImputer(missing_values=0, strategy='median')</pre></div></div></div><div class=\"sk-item\"><div class=\"sk-estimator sk-toggleable\"><input class=\"sk-toggleable__control sk-hidden--visually\" id=\"55a34713-dd7a-4136-9287-23fa22178a99\" type=\"checkbox\" ><label class=\"sk-toggleable__label\" for=\"55a34713-dd7a-4136-9287-23fa22178a99\">StandardScaler</label><div class=\"sk-toggleable__content\"><pre>StandardScaler()</pre></div></div></div></div></div></div></div></div><div class=\"sk-parallel-item\"><div class=\"sk-item\"><div class=\"sk-label-container\"><div class=\"sk-label sk-toggleable\"><input class=\"sk-toggleable__control sk-hidden--visually\" id=\"38457e6c-a818-420b-bf40-1b0fbe885366\" type=\"checkbox\" ><label class=\"sk-toggleable__label\" for=\"38457e6c-a818-420b-bf40-1b0fbe885366\">genres</label><div class=\"sk-toggleable__content\"><pre>['genres']</pre></div></div></div><div class=\"sk-serial\"><div class=\"sk-item\"><div class=\"sk-serial\"><div class=\"sk-item\"><div class=\"sk-estimator sk-toggleable\"><input class=\"sk-toggleable__control sk-hidden--visually\" id=\"432a8480-7c5b-4d35-81d6-e517c77f83f7\" type=\"checkbox\" ><label class=\"sk-toggleable__label\" for=\"432a8480-7c5b-4d35-81d6-e517c77f83f7\">SimpleImputer</label><div class=\"sk-toggleable__content\"><pre>SimpleImputer(fill_value='[]', strategy='constant')</pre></div></div></div><div class=\"sk-item\"><div class=\"sk-estimator sk-toggleable\"><input class=\"sk-toggleable__control sk-hidden--visually\" id=\"04af1135-0f38-46f4-985d-6ef1b871645a\" type=\"checkbox\" ><label class=\"sk-toggleable__label\" for=\"04af1135-0f38-46f4-985d-6ef1b871645a\">ExtractionTransformer</label><div class=\"sk-toggleable__content\"><pre>ExtractionTransformer(key='name')</pre></div></div></div><div class=\"sk-item\"><div class=\"sk-estimator sk-toggleable\"><input class=\"sk-toggleable__control sk-hidden--visually\" id=\"137924ca-ec57-4db3-bcc9-b3b21ccf2a60\" type=\"checkbox\" ><label class=\"sk-toggleable__label\" for=\"137924ca-ec57-4db3-bcc9-b3b21ccf2a60\">MultinomialAttributeTransformer</label><div class=\"sk-toggleable__content\"><pre>MultinomialAttributeTransformer()</pre></div></div></div></div></div></div></div></div><div class=\"sk-parallel-item\"><div class=\"sk-item\"><div class=\"sk-label-container\"><div class=\"sk-label sk-toggleable\"><input class=\"sk-toggleable__control sk-hidden--visually\" id=\"fd238cf8-bc1e-41fb-9cea-f1f2a81c3a47\" type=\"checkbox\" ><label class=\"sk-toggleable__label\" for=\"fd238cf8-bc1e-41fb-9cea-f1f2a81c3a47\">cast_gender</label><div class=\"sk-toggleable__content\"><pre>['cast']</pre></div></div></div><div class=\"sk-serial\"><div class=\"sk-item\"><div class=\"sk-serial\"><div class=\"sk-item\"><div class=\"sk-estimator sk-toggleable\"><input class=\"sk-toggleable__control sk-hidden--visually\" id=\"4183723c-7240-4a43-806e-a42f2e25749d\" type=\"checkbox\" ><label class=\"sk-toggleable__label\" for=\"4183723c-7240-4a43-806e-a42f2e25749d\">SimpleImputer</label><div class=\"sk-toggleable__content\"><pre>SimpleImputer(fill_value='[]', strategy='constant')</pre></div></div></div><div class=\"sk-item\"><div class=\"sk-estimator sk-toggleable\"><input class=\"sk-toggleable__control sk-hidden--visually\" id=\"b7bc79bd-c24f-4ec3-a112-078e51944d62\" type=\"checkbox\" ><label class=\"sk-toggleable__label\" for=\"b7bc79bd-c24f-4ec3-a112-078e51944d62\">ExtractionTransformer</label><div class=\"sk-toggleable__content\"><pre>ExtractionTransformer(key='gender')</pre></div></div></div><div class=\"sk-item\"><div class=\"sk-estimator sk-toggleable\"><input class=\"sk-toggleable__control sk-hidden--visually\" id=\"560fd4ce-bb62-42c2-b97a-0f50d1216b9c\" type=\"checkbox\" ><label class=\"sk-toggleable__label\" for=\"560fd4ce-bb62-42c2-b97a-0f50d1216b9c\">UniqueCountTransformer</label><div class=\"sk-toggleable__content\"><pre>UniqueCountTransformer()</pre></div></div></div><div class=\"sk-item\"><div class=\"sk-estimator sk-toggleable\"><input class=\"sk-toggleable__control sk-hidden--visually\" id=\"b255ae9e-5a4c-4653-ba5d-61464547730e\" type=\"checkbox\" ><label class=\"sk-toggleable__label\" for=\"b255ae9e-5a4c-4653-ba5d-61464547730e\">SimpleImputer</label><div class=\"sk-toggleable__content\"><pre>SimpleImputer(fill_value=0, strategy='constant')</pre></div></div></div></div></div></div></div></div><div class=\"sk-parallel-item\"><div class=\"sk-item\"><div class=\"sk-label-container\"><div class=\"sk-label sk-toggleable\"><input class=\"sk-toggleable__control sk-hidden--visually\" id=\"1299c8fc-f87b-4591-ae1c-dbc7cc663858\" type=\"checkbox\" ><label class=\"sk-toggleable__label\" for=\"1299c8fc-f87b-4591-ae1c-dbc7cc663858\">crew_gender</label><div class=\"sk-toggleable__content\"><pre>['crew']</pre></div></div></div><div class=\"sk-serial\"><div class=\"sk-item\"><div class=\"sk-serial\"><div class=\"sk-item\"><div class=\"sk-estimator sk-toggleable\"><input class=\"sk-toggleable__control sk-hidden--visually\" id=\"aebfe85e-a102-40b7-b5e9-edcf9b45b6a6\" type=\"checkbox\" ><label class=\"sk-toggleable__label\" for=\"aebfe85e-a102-40b7-b5e9-edcf9b45b6a6\">SimpleImputer</label><div class=\"sk-toggleable__content\"><pre>SimpleImputer(fill_value='[]', strategy='constant')</pre></div></div></div><div class=\"sk-item\"><div class=\"sk-estimator sk-toggleable\"><input class=\"sk-toggleable__control sk-hidden--visually\" id=\"ac674a85-78f5-44df-a84a-46361e1ddf3d\" type=\"checkbox\" ><label class=\"sk-toggleable__label\" for=\"ac674a85-78f5-44df-a84a-46361e1ddf3d\">ExtractionTransformer</label><div class=\"sk-toggleable__content\"><pre>ExtractionTransformer(key='gender')</pre></div></div></div><div class=\"sk-item\"><div class=\"sk-estimator sk-toggleable\"><input class=\"sk-toggleable__control sk-hidden--visually\" id=\"88e41551-8792-4ebd-a48c-fdcf0ad6118c\" type=\"checkbox\" ><label class=\"sk-toggleable__label\" for=\"88e41551-8792-4ebd-a48c-fdcf0ad6118c\">UniqueCountTransformer</label><div class=\"sk-toggleable__content\"><pre>UniqueCountTransformer()</pre></div></div></div><div class=\"sk-item\"><div class=\"sk-estimator sk-toggleable\"><input class=\"sk-toggleable__control sk-hidden--visually\" id=\"a6176ed8-fd50-496e-a76c-557bd3157ec6\" type=\"checkbox\" ><label class=\"sk-toggleable__label\" for=\"a6176ed8-fd50-496e-a76c-557bd3157ec6\">SimpleImputer</label><div class=\"sk-toggleable__content\"><pre>SimpleImputer(fill_value=0, strategy='constant')</pre></div></div></div></div></div></div></div></div><div class=\"sk-parallel-item\"><div class=\"sk-item\"><div class=\"sk-label-container\"><div class=\"sk-label sk-toggleable\"><input class=\"sk-toggleable__control sk-hidden--visually\" id=\"ac2862ff-3648-4d4c-baaf-2a5f465520f3\" type=\"checkbox\" ><label class=\"sk-toggleable__label\" for=\"ac2862ff-3648-4d4c-baaf-2a5f465520f3\">crew_department</label><div class=\"sk-toggleable__content\"><pre>['crew']</pre></div></div></div><div class=\"sk-serial\"><div class=\"sk-item\"><div class=\"sk-serial\"><div class=\"sk-item\"><div class=\"sk-estimator sk-toggleable\"><input class=\"sk-toggleable__control sk-hidden--visually\" id=\"e3e9398c-7412-460d-b0da-2ba50c133f38\" type=\"checkbox\" ><label class=\"sk-toggleable__label\" for=\"e3e9398c-7412-460d-b0da-2ba50c133f38\">SimpleImputer</label><div class=\"sk-toggleable__content\"><pre>SimpleImputer(fill_value='[]', strategy='constant')</pre></div></div></div><div class=\"sk-item\"><div class=\"sk-estimator sk-toggleable\"><input class=\"sk-toggleable__control sk-hidden--visually\" id=\"1bd651f7-3c20-4fac-bf1d-310539b7db07\" type=\"checkbox\" ><label class=\"sk-toggleable__label\" for=\"1bd651f7-3c20-4fac-bf1d-310539b7db07\">ExtractionTransformer</label><div class=\"sk-toggleable__content\"><pre>ExtractionTransformer(key='department')</pre></div></div></div><div class=\"sk-item\"><div class=\"sk-estimator sk-toggleable\"><input class=\"sk-toggleable__control sk-hidden--visually\" id=\"239e930f-e257-4a98-a50d-ca21e696c940\" type=\"checkbox\" ><label class=\"sk-toggleable__label\" for=\"239e930f-e257-4a98-a50d-ca21e696c940\">UniqueCountTransformer</label><div class=\"sk-toggleable__content\"><pre>UniqueCountTransformer()</pre></div></div></div><div class=\"sk-item\"><div class=\"sk-estimator sk-toggleable\"><input class=\"sk-toggleable__control sk-hidden--visually\" id=\"620b5bed-6ca1-4718-8267-a6ec037bdf37\" type=\"checkbox\" ><label class=\"sk-toggleable__label\" for=\"620b5bed-6ca1-4718-8267-a6ec037bdf37\">SimpleImputer</label><div class=\"sk-toggleable__content\"><pre>SimpleImputer(fill_value=0, strategy='constant')</pre></div></div></div></div></div></div></div></div><div class=\"sk-parallel-item\"><div class=\"sk-item\"><div class=\"sk-label-container\"><div class=\"sk-label sk-toggleable\"><input class=\"sk-toggleable__control sk-hidden--visually\" id=\"26522c5f-dde6-495a-985a-e90b66dba09d\" type=\"checkbox\" ><label class=\"sk-toggleable__label\" for=\"26522c5f-dde6-495a-985a-e90b66dba09d\">crew_jobs</label><div class=\"sk-toggleable__content\"><pre>['crew']</pre></div></div></div><div class=\"sk-serial\"><div class=\"sk-item\"><div class=\"sk-serial\"><div class=\"sk-item\"><div class=\"sk-estimator sk-toggleable\"><input class=\"sk-toggleable__control sk-hidden--visually\" id=\"523b9b17-41b2-4c19-b276-c0433950283b\" type=\"checkbox\" ><label class=\"sk-toggleable__label\" for=\"523b9b17-41b2-4c19-b276-c0433950283b\">SimpleImputer</label><div class=\"sk-toggleable__content\"><pre>SimpleImputer(fill_value='[]', strategy='constant')</pre></div></div></div><div class=\"sk-item\"><div class=\"sk-estimator sk-toggleable\"><input class=\"sk-toggleable__control sk-hidden--visually\" id=\"38835649-18a8-4c62-916c-806c7df3043c\" type=\"checkbox\" ><label class=\"sk-toggleable__label\" for=\"38835649-18a8-4c62-916c-806c7df3043c\">ExtractionTransformer</label><div class=\"sk-toggleable__content\"><pre>ExtractionTransformer(key='job')</pre></div></div></div><div class=\"sk-item\"><div class=\"sk-estimator sk-toggleable\"><input class=\"sk-toggleable__control sk-hidden--visually\" id=\"6938daa6-ab82-4060-9e39-a918e7de1050\" type=\"checkbox\" ><label class=\"sk-toggleable__label\" for=\"6938daa6-ab82-4060-9e39-a918e7de1050\">MultinomialAttributeTransformer</label><div class=\"sk-toggleable__content\"><pre>MultinomialAttributeTransformer()</pre></div></div></div></div></div></div></div></div><div class=\"sk-parallel-item\"><div class=\"sk-item\"><div class=\"sk-label-container\"><div class=\"sk-label sk-toggleable\"><input class=\"sk-toggleable__control sk-hidden--visually\" id=\"9608cdb7-8c68-458a-94ff-5efb81724d21\" type=\"checkbox\" ><label class=\"sk-toggleable__label\" for=\"9608cdb7-8c68-458a-94ff-5efb81724d21\">crew_names</label><div class=\"sk-toggleable__content\"><pre>['crew']</pre></div></div></div><div class=\"sk-serial\"><div class=\"sk-item\"><div class=\"sk-serial\"><div class=\"sk-item\"><div class=\"sk-estimator sk-toggleable\"><input class=\"sk-toggleable__control sk-hidden--visually\" id=\"e5cad369-3920-403b-b2bf-ef8ed6e6e412\" type=\"checkbox\" ><label class=\"sk-toggleable__label\" for=\"e5cad369-3920-403b-b2bf-ef8ed6e6e412\">SimpleImputer</label><div class=\"sk-toggleable__content\"><pre>SimpleImputer(fill_value='[]', strategy='constant')</pre></div></div></div><div class=\"sk-item\"><div class=\"sk-estimator sk-toggleable\"><input class=\"sk-toggleable__control sk-hidden--visually\" id=\"f6d9e673-893c-4336-aadd-59c460409d8f\" type=\"checkbox\" ><label class=\"sk-toggleable__label\" for=\"f6d9e673-893c-4336-aadd-59c460409d8f\">ExtractionTransformer</label><div class=\"sk-toggleable__content\"><pre>ExtractionTransformer(key='name')</pre></div></div></div><div class=\"sk-item\"><div class=\"sk-estimator sk-toggleable\"><input class=\"sk-toggleable__control sk-hidden--visually\" id=\"a00433f8-231d-4ddc-b517-2a6d3f8a920f\" type=\"checkbox\" ><label class=\"sk-toggleable__label\" for=\"a00433f8-231d-4ddc-b517-2a6d3f8a920f\">MultinomialAttributeTransformer</label><div class=\"sk-toggleable__content\"><pre>MultinomialAttributeTransformer()</pre></div></div></div><div class=\"sk-item\"><div class=\"sk-estimator sk-toggleable\"><input class=\"sk-toggleable__control sk-hidden--visually\" id=\"b2868eff-d3f9-4dd2-8003-de28b58526d0\" type=\"checkbox\" ><label class=\"sk-toggleable__label\" for=\"b2868eff-d3f9-4dd2-8003-de28b58526d0\">PCA</label><div class=\"sk-toggleable__content\"><pre>PCA(n_components=100)</pre></div></div></div></div></div></div></div></div><div class=\"sk-parallel-item\"><div class=\"sk-item\"><div class=\"sk-label-container\"><div class=\"sk-label sk-toggleable\"><input class=\"sk-toggleable__control sk-hidden--visually\" id=\"15a7beac-569d-49bb-bcfe-27a73c1fae66\" type=\"checkbox\" ><label class=\"sk-toggleable__label\" for=\"15a7beac-569d-49bb-bcfe-27a73c1fae66\">cast_names</label><div class=\"sk-toggleable__content\"><pre>['cast']</pre></div></div></div><div class=\"sk-serial\"><div class=\"sk-item\"><div class=\"sk-serial\"><div class=\"sk-item\"><div class=\"sk-estimator sk-toggleable\"><input class=\"sk-toggleable__control sk-hidden--visually\" id=\"40700325-273d-435c-a17e-f4a04d3ee9a0\" type=\"checkbox\" ><label class=\"sk-toggleable__label\" for=\"40700325-273d-435c-a17e-f4a04d3ee9a0\">SimpleImputer</label><div class=\"sk-toggleable__content\"><pre>SimpleImputer(fill_value='[]', strategy='constant')</pre></div></div></div><div class=\"sk-item\"><div class=\"sk-estimator sk-toggleable\"><input class=\"sk-toggleable__control sk-hidden--visually\" id=\"bd72b222-f068-4118-96aa-d849923799b6\" type=\"checkbox\" ><label class=\"sk-toggleable__label\" for=\"bd72b222-f068-4118-96aa-d849923799b6\">ExtractionTransformer</label><div class=\"sk-toggleable__content\"><pre>ExtractionTransformer(key='name')</pre></div></div></div><div class=\"sk-item\"><div class=\"sk-estimator sk-toggleable\"><input class=\"sk-toggleable__control sk-hidden--visually\" id=\"34433377-51ad-4df8-8ae8-bb8e2426193e\" type=\"checkbox\" ><label class=\"sk-toggleable__label\" for=\"34433377-51ad-4df8-8ae8-bb8e2426193e\">MultinomialAttributeTransformer</label><div class=\"sk-toggleable__content\"><pre>MultinomialAttributeTransformer()</pre></div></div></div><div class=\"sk-item\"><div class=\"sk-estimator sk-toggleable\"><input class=\"sk-toggleable__control sk-hidden--visually\" id=\"f4f81935-7bde-4ed7-8a9d-57b85bcde9e4\" type=\"checkbox\" ><label class=\"sk-toggleable__label\" for=\"f4f81935-7bde-4ed7-8a9d-57b85bcde9e4\">PCA</label><div class=\"sk-toggleable__content\"><pre>PCA(n_components=100)</pre></div></div></div></div></div></div></div></div><div class=\"sk-parallel-item\"><div class=\"sk-item\"><div class=\"sk-label-container\"><div class=\"sk-label sk-toggleable\"><input class=\"sk-toggleable__control sk-hidden--visually\" id=\"a86e8972-4e58-4d52-b9c0-760fa1082b65\" type=\"checkbox\" ><label class=\"sk-toggleable__label\" for=\"a86e8972-4e58-4d52-b9c0-760fa1082b65\">cast_characters</label><div class=\"sk-toggleable__content\"><pre>['cast']</pre></div></div></div><div class=\"sk-serial\"><div class=\"sk-item\"><div class=\"sk-serial\"><div class=\"sk-item\"><div class=\"sk-estimator sk-toggleable\"><input class=\"sk-toggleable__control sk-hidden--visually\" id=\"fcc45db7-2f50-427c-8c97-93824a621989\" type=\"checkbox\" ><label class=\"sk-toggleable__label\" for=\"fcc45db7-2f50-427c-8c97-93824a621989\">SimpleImputer</label><div class=\"sk-toggleable__content\"><pre>SimpleImputer(fill_value='[]', strategy='constant')</pre></div></div></div><div class=\"sk-item\"><div class=\"sk-estimator sk-toggleable\"><input class=\"sk-toggleable__control sk-hidden--visually\" id=\"b145ca07-2593-44b3-a8df-a09af670c84c\" type=\"checkbox\" ><label class=\"sk-toggleable__label\" for=\"b145ca07-2593-44b3-a8df-a09af670c84c\">ExtractionTransformer</label><div class=\"sk-toggleable__content\"><pre>ExtractionTransformer(key='character')</pre></div></div></div><div class=\"sk-item\"><div class=\"sk-estimator sk-toggleable\"><input class=\"sk-toggleable__control sk-hidden--visually\" id=\"ce0b6150-04f4-4954-a927-d4186f24bd8d\" type=\"checkbox\" ><label class=\"sk-toggleable__label\" for=\"ce0b6150-04f4-4954-a927-d4186f24bd8d\">MultinomialAttributeTransformer</label><div class=\"sk-toggleable__content\"><pre>MultinomialAttributeTransformer()</pre></div></div></div><div class=\"sk-item\"><div class=\"sk-estimator sk-toggleable\"><input class=\"sk-toggleable__control sk-hidden--visually\" id=\"304fe710-f831-47fe-b65c-64b6f5b0bc41\" type=\"checkbox\" ><label class=\"sk-toggleable__label\" for=\"304fe710-f831-47fe-b65c-64b6f5b0bc41\">PCA</label><div class=\"sk-toggleable__content\"><pre>PCA(n_components=100)</pre></div></div></div></div></div></div></div></div><div class=\"sk-parallel-item\"><div class=\"sk-item\"><div class=\"sk-label-container\"><div class=\"sk-label sk-toggleable\"><input class=\"sk-toggleable__control sk-hidden--visually\" id=\"8b4d3e2e-59ce-47eb-8191-f81ef65c3b28\" type=\"checkbox\" ><label class=\"sk-toggleable__label\" for=\"8b4d3e2e-59ce-47eb-8191-f81ef65c3b28\">keywords</label><div class=\"sk-toggleable__content\"><pre>['Keywords']</pre></div></div></div><div class=\"sk-serial\"><div class=\"sk-item\"><div class=\"sk-serial\"><div class=\"sk-item\"><div class=\"sk-estimator sk-toggleable\"><input class=\"sk-toggleable__control sk-hidden--visually\" id=\"4a1168cb-0beb-423b-890d-74af3751f2fd\" type=\"checkbox\" ><label class=\"sk-toggleable__label\" for=\"4a1168cb-0beb-423b-890d-74af3751f2fd\">SimpleImputer</label><div class=\"sk-toggleable__content\"><pre>SimpleImputer(fill_value='[]', strategy='constant')</pre></div></div></div><div class=\"sk-item\"><div class=\"sk-estimator sk-toggleable\"><input class=\"sk-toggleable__control sk-hidden--visually\" id=\"5e77e258-b3ba-4d8b-8556-e85f83af684f\" type=\"checkbox\" ><label class=\"sk-toggleable__label\" for=\"5e77e258-b3ba-4d8b-8556-e85f83af684f\">ExtractionTransformer</label><div class=\"sk-toggleable__content\"><pre>ExtractionTransformer(key='name')</pre></div></div></div><div class=\"sk-item\"><div class=\"sk-estimator sk-toggleable\"><input class=\"sk-toggleable__control sk-hidden--visually\" id=\"eea4ab5b-0419-45b1-a7e0-e348c420e125\" type=\"checkbox\" ><label class=\"sk-toggleable__label\" for=\"eea4ab5b-0419-45b1-a7e0-e348c420e125\">MultinomialAttributeTransformer</label><div class=\"sk-toggleable__content\"><pre>MultinomialAttributeTransformer()</pre></div></div></div><div class=\"sk-item\"><div class=\"sk-estimator sk-toggleable\"><input class=\"sk-toggleable__control sk-hidden--visually\" id=\"605d9b59-54bf-40fe-a677-2f5dd7c98f5c\" type=\"checkbox\" ><label class=\"sk-toggleable__label\" for=\"605d9b59-54bf-40fe-a677-2f5dd7c98f5c\">PCA</label><div class=\"sk-toggleable__content\"><pre>PCA(n_components=100)</pre></div></div></div></div></div></div></div></div><div class=\"sk-parallel-item\"><div class=\"sk-item\"><div class=\"sk-label-container\"><div class=\"sk-label sk-toggleable\"><input class=\"sk-toggleable__control sk-hidden--visually\" id=\"69c060e9-fc0e-4a6c-8a7c-685e65fa83d3\" type=\"checkbox\" ><label class=\"sk-toggleable__label\" for=\"69c060e9-fc0e-4a6c-8a7c-685e65fa83d3\">spoken_languages</label><div class=\"sk-toggleable__content\"><pre>['spoken_languages']</pre></div></div></div><div class=\"sk-serial\"><div class=\"sk-item\"><div class=\"sk-serial\"><div class=\"sk-item\"><div class=\"sk-estimator sk-toggleable\"><input class=\"sk-toggleable__control sk-hidden--visually\" id=\"ec02dbb4-05f8-45ae-9500-d58858871f66\" type=\"checkbox\" ><label class=\"sk-toggleable__label\" for=\"ec02dbb4-05f8-45ae-9500-d58858871f66\">SimpleImputer</label><div class=\"sk-toggleable__content\"><pre>SimpleImputer(fill_value='[]', strategy='constant')</pre></div></div></div><div class=\"sk-item\"><div class=\"sk-estimator sk-toggleable\"><input class=\"sk-toggleable__control sk-hidden--visually\" id=\"87e6a0f3-4be3-4e2a-a84b-c0e13b320bcd\" type=\"checkbox\" ><label class=\"sk-toggleable__label\" for=\"87e6a0f3-4be3-4e2a-a84b-c0e13b320bcd\">ExtractionTransformer</label><div class=\"sk-toggleable__content\"><pre>ExtractionTransformer(key='name')</pre></div></div></div><div class=\"sk-item\"><div class=\"sk-estimator sk-toggleable\"><input class=\"sk-toggleable__control sk-hidden--visually\" id=\"0b3d4f68-e04b-4e91-960a-bc8bb1ee5155\" type=\"checkbox\" ><label class=\"sk-toggleable__label\" for=\"0b3d4f68-e04b-4e91-960a-bc8bb1ee5155\">MultinomialAttributeTransformer</label><div class=\"sk-toggleable__content\"><pre>MultinomialAttributeTransformer()</pre></div></div></div></div></div></div></div></div><div class=\"sk-parallel-item\"><div class=\"sk-item\"><div class=\"sk-label-container\"><div class=\"sk-label sk-toggleable\"><input class=\"sk-toggleable__control sk-hidden--visually\" id=\"8cdd2773-e150-4a39-8798-357ba49e2796\" type=\"checkbox\" ><label class=\"sk-toggleable__label\" for=\"8cdd2773-e150-4a39-8798-357ba49e2796\">production_countries</label><div class=\"sk-toggleable__content\"><pre>['production_countries']</pre></div></div></div><div class=\"sk-serial\"><div class=\"sk-item\"><div class=\"sk-serial\"><div class=\"sk-item\"><div class=\"sk-estimator sk-toggleable\"><input class=\"sk-toggleable__control sk-hidden--visually\" id=\"d6ec1719-ccfd-4773-9ccc-a0681171fe7b\" type=\"checkbox\" ><label class=\"sk-toggleable__label\" for=\"d6ec1719-ccfd-4773-9ccc-a0681171fe7b\">SimpleImputer</label><div class=\"sk-toggleable__content\"><pre>SimpleImputer(fill_value='[]', strategy='constant')</pre></div></div></div><div class=\"sk-item\"><div class=\"sk-estimator sk-toggleable\"><input class=\"sk-toggleable__control sk-hidden--visually\" id=\"f044a741-9425-475f-9238-7d3914b18e19\" type=\"checkbox\" ><label class=\"sk-toggleable__label\" for=\"f044a741-9425-475f-9238-7d3914b18e19\">ExtractionTransformer</label><div class=\"sk-toggleable__content\"><pre>ExtractionTransformer(key='name')</pre></div></div></div><div class=\"sk-item\"><div class=\"sk-estimator sk-toggleable\"><input class=\"sk-toggleable__control sk-hidden--visually\" id=\"16e1ff03-e334-428f-a96e-de2bc36b99c5\" type=\"checkbox\" ><label class=\"sk-toggleable__label\" for=\"16e1ff03-e334-428f-a96e-de2bc36b99c5\">MultinomialAttributeTransformer</label><div class=\"sk-toggleable__content\"><pre>MultinomialAttributeTransformer()</pre></div></div></div></div></div></div></div></div><div class=\"sk-parallel-item\"><div class=\"sk-item\"><div class=\"sk-label-container\"><div class=\"sk-label sk-toggleable\"><input class=\"sk-toggleable__control sk-hidden--visually\" id=\"ad2391ef-3ed7-439a-a12b-1fa4cbc69cee\" type=\"checkbox\" ><label class=\"sk-toggleable__label\" for=\"ad2391ef-3ed7-439a-a12b-1fa4cbc69cee\">production_companies</label><div class=\"sk-toggleable__content\"><pre>['production_companies']</pre></div></div></div><div class=\"sk-serial\"><div class=\"sk-item\"><div class=\"sk-serial\"><div class=\"sk-item\"><div class=\"sk-estimator sk-toggleable\"><input class=\"sk-toggleable__control sk-hidden--visually\" id=\"38c246b4-0525-471b-b2e3-7b0230acf21a\" type=\"checkbox\" ><label class=\"sk-toggleable__label\" for=\"38c246b4-0525-471b-b2e3-7b0230acf21a\">SimpleImputer</label><div class=\"sk-toggleable__content\"><pre>SimpleImputer(fill_value='[]', strategy='constant')</pre></div></div></div><div class=\"sk-item\"><div class=\"sk-estimator sk-toggleable\"><input class=\"sk-toggleable__control sk-hidden--visually\" id=\"8d3f5b76-c9ab-44c7-a293-4c1208aadbf2\" type=\"checkbox\" ><label class=\"sk-toggleable__label\" for=\"8d3f5b76-c9ab-44c7-a293-4c1208aadbf2\">ExtractionTransformer</label><div class=\"sk-toggleable__content\"><pre>ExtractionTransformer(key='name')</pre></div></div></div><div class=\"sk-item\"><div class=\"sk-estimator sk-toggleable\"><input class=\"sk-toggleable__control sk-hidden--visually\" id=\"6b8225cc-557d-4cf1-a97e-f47b9dd894ed\" type=\"checkbox\" ><label class=\"sk-toggleable__label\" for=\"6b8225cc-557d-4cf1-a97e-f47b9dd894ed\">MultinomialAttributeTransformer</label><div class=\"sk-toggleable__content\"><pre>MultinomialAttributeTransformer()</pre></div></div></div><div class=\"sk-item\"><div class=\"sk-estimator sk-toggleable\"><input class=\"sk-toggleable__control sk-hidden--visually\" id=\"7a8c2d1f-3dd6-469b-9388-fc10f6a8ff8e\" type=\"checkbox\" ><label class=\"sk-toggleable__label\" for=\"7a8c2d1f-3dd6-469b-9388-fc10f6a8ff8e\">PCA</label><div class=\"sk-toggleable__content\"><pre>PCA(n_components=100)</pre></div></div></div></div></div></div></div></div></div></div><div class=\"sk-item sk-dashed-wrapped\"><div class=\"sk-label-container\"><div class=\"sk-label sk-toggleable\"><input class=\"sk-toggleable__control sk-hidden--visually\" id=\"724464de-7e75-4756-bc75-424e6c46e1fc\" type=\"checkbox\" ><label class=\"sk-toggleable__label\" for=\"724464de-7e75-4756-bc75-424e6c46e1fc\">L1_selector: SelectFromModel</label><div class=\"sk-toggleable__content\"><pre>SelectFromModel(estimator=LassoCV(max_iter=10000, n_jobs=4))</pre></div></div></div><div class=\"sk-parallel\"><div class=\"sk-parallel-item\"><div class=\"sk-item\"><div class=\"sk-serial\"><div class=\"sk-item\"><div class=\"sk-estimator sk-toggleable\"><input class=\"sk-toggleable__control sk-hidden--visually\" id=\"987c104f-7fa1-4762-8f26-85db5ff738a7\" type=\"checkbox\" ><label class=\"sk-toggleable__label\" for=\"987c104f-7fa1-4762-8f26-85db5ff738a7\">LassoCV</label><div class=\"sk-toggleable__content\"><pre>LassoCV(max_iter=10000, n_jobs=4)</pre></div></div></div></div></div></div></div></div><div class=\"sk-item\"><div class=\"sk-estimator sk-toggleable\"><input class=\"sk-toggleable__control sk-hidden--visually\" id=\"b3fb2d04-6289-4ba6-a41a-40d538a166e1\" type=\"checkbox\" ><label class=\"sk-toggleable__label\" for=\"b3fb2d04-6289-4ba6-a41a-40d538a166e1\">RandomForestRegressor</label><div class=\"sk-toggleable__content\"><pre>RandomForestRegressor(min_samples_leaf=10, n_estimators=500, n_jobs=4)</pre></div></div></div></div></div></div></div></div></div></div></div></div>"
      ],
      "text/plain": [
       "ConditionalPredictor(make_mask=<function make_mask at 0x28e1780d0>,\n",
       "                     pipelineA=Pipeline(steps=[('prep',\n",
       "                                                ColumnTransformer(transformers=[('popularity',\n",
       "                                                                                 Pipeline(steps=[('simpleimputer',\n",
       "                                                                                                  SimpleImputer(strategy='median')),\n",
       "                                                                                                 ('functiontransformer',\n",
       "                                                                                                  FunctionTransformer(func=<ufunc 'log1p'>)),\n",
       "                                                                                                 ('standardscaler',\n",
       "                                                                                                  StandardScaler())]),\n",
       "                                                                                 ['popularity']),\n",
       "                                                                                ('runtime',\n",
       "                                                                                 Pipeline(...\n",
       "                                                                                                 ('extractiontransformer',\n",
       "                                                                                                  ExtractionTransformer(key='name')),\n",
       "                                                                                                 ('multinomialattributetransformer',\n",
       "                                                                                                  MultinomialAttributeTransformer()),\n",
       "                                                                                                 ('pca',\n",
       "                                                                                                  PCA(n_components=100))]),\n",
       "                                                                                 ['production_companies'])])),\n",
       "                                               ('L1_selector',\n",
       "                                                SelectFromModel(estimator=LassoCV(max_iter=10000,\n",
       "                                                                                  n_jobs=4))),\n",
       "                                               ('model',\n",
       "                                                RandomForestRegressor(min_samples_leaf=10,\n",
       "                                                                      n_estimators=500,\n",
       "                                                                      n_jobs=4))]),\n",
       "                     thresh=50)"
      ]
     },
     "execution_count": 176,
     "metadata": {},
     "output_type": "execute_result"
    }
   ],
   "source": [
    "featurePipelines = FeaturePipelines()\n",
    "\n",
    "prep_pipeline_A = ColumnTransformer(featurePipelines.get_config(include_budget=False), remainder='drop')\n",
    "prep_pipeline_B = ColumnTransformer(featurePipelines.get_config(), remainder='drop')\n",
    "\n",
    "full_pipeline_A = Pipeline([('prep', prep_pipeline_A), ('L1_selector', SelectFromModel(LassoCV(n_jobs=4, max_iter=10000))), ('model', RandomForestRegressor(n_estimators=500, min_samples_leaf=10, n_jobs=4))])\n",
    "full_pipeline_B = Pipeline([('prep', prep_pipeline_B), ('L1_selector', SelectFromModel(LassoCV(n_jobs=4, max_iter=10000))), ('model', RandomForestRegressor(n_estimators=500, min_samples_leaf=10, n_jobs=4))])\n",
    "\n",
    "base_pipeline = ConditionalPredictor(full_pipeline_A, full_pipeline_B, make_mask, 50)\n",
    "base_pipeline.fit(X_train, y_train)"
   ]
  },
  {
   "cell_type": "code",
   "execution_count": 177,
   "id": "6258854f-d4f9-48f5-ad27-f0b607f78f0f",
   "metadata": {},
   "outputs": [
    {
     "data": {
      "text/plain": [
       "['budget',\n",
       " 'popularity',\n",
       " 'runtime',\n",
       " 'release_year',\n",
       " 'release_month',\n",
       " 'release_DOW',\n",
       " 'homepage',\n",
       " 'tagline',\n",
       " 'belongs_to_collection',\n",
       " 'keywords_counts',\n",
       " 'production_companies_counts',\n",
       " 'production_countries_counts',\n",
       " 'Adventure',\n",
       " 'Comedy',\n",
       " 'Drama',\n",
       " 'Family',\n",
       " 'Romance',\n",
       " 'Thriller',\n",
       " 'cast_gender_0',\n",
       " 'cast_gender_1',\n",
       " 'cast_gender_2',\n",
       " 'crew_gender_1',\n",
       " 'crew_gender_2',\n",
       " 'crew_dept_Art',\n",
       " 'crew_dept_Camera',\n",
       " 'crew_dept_Costume & Make-Up',\n",
       " 'crew_dept_Crew',\n",
       " 'crew_dept_Directing',\n",
       " 'crew_dept_Production',\n",
       " 'crew_dept_Sound',\n",
       " 'crew_dept_Visual Effects',\n",
       " 'crew_dept_Writing',\n",
       " 'crew_dept_Lighting',\n",
       " 'crew_jobs_Editor',\n",
       " 'crew_jobs_Producer',\n",
       " 'crew_jobs_Production_Design',\n",
       " 'crew_jobs_Production_Manager',\n",
       " 'crew_jobs_Screenplay',\n",
       " 'cast_names_57',\n",
       " 'kw_1',\n",
       " 'kw_2',\n",
       " 'kw_7',\n",
       " 'sl_Deutsch',\n",
       " 'sl_English',\n",
       " 'sl_Français',\n",
       " 'prod_countries_India',\n",
       " 'prod_compnaies_4',\n",
       " 'prod_compnaies_5']"
      ]
     },
     "execution_count": 177,
     "metadata": {},
     "output_type": "execute_result"
    }
   ],
   "source": [
    "featurePipelines.get_features(full_pipeline_B, include_budget=True)"
   ]
  },
  {
   "cell_type": "markdown",
   "id": "9847beb2-fe7e-47be-8c8b-5bf02f8f6db7",
   "metadata": {},
   "source": [
    "### Evaluation"
   ]
  },
  {
   "cell_type": "code",
   "execution_count": 75,
   "id": "3eb00b33-e95a-4dee-8cfa-2d9297c669f7",
   "metadata": {},
   "outputs": [],
   "source": [
    "expLog = pd.DataFrame(columns=[\"exp_name\", \n",
    "                               \"Train MSE\",\n",
    "                               \"Train MSE-A\",\n",
    "                               \"Train MSE-B\",\n",
    "                               \"Valid MSE\",\n",
    "                               \"Valid MSE-A\",\n",
    "                               \"Valid MSE-B\",\n",
    "                               \"Test  MSE\",\n",
    "                               \"Test MSE-A\",\n",
    "                               \"Test MSE-B\",\n",
    "                              ])"
   ]
  },
  {
   "cell_type": "code",
   "execution_count": 178,
   "id": "8a3b274b-f546-4e2e-bd07-159e8c989798",
   "metadata": {},
   "outputs": [
    {
     "data": {
      "text/html": [
       "<div>\n",
       "<style scoped>\n",
       "    .dataframe tbody tr th:only-of-type {\n",
       "        vertical-align: middle;\n",
       "    }\n",
       "\n",
       "    .dataframe tbody tr th {\n",
       "        vertical-align: top;\n",
       "    }\n",
       "\n",
       "    .dataframe thead th {\n",
       "        text-align: right;\n",
       "    }\n",
       "</style>\n",
       "<table border=\"1\" class=\"dataframe\">\n",
       "  <thead>\n",
       "    <tr style=\"text-align: right;\">\n",
       "      <th></th>\n",
       "      <th>exp_name</th>\n",
       "      <th>Train MSE</th>\n",
       "      <th>Train MSE-A</th>\n",
       "      <th>Train MSE-B</th>\n",
       "      <th>Valid MSE</th>\n",
       "      <th>Valid MSE-A</th>\n",
       "      <th>Valid MSE-B</th>\n",
       "      <th>Test  MSE</th>\n",
       "      <th>Test MSE-A</th>\n",
       "      <th>Test MSE-B</th>\n",
       "    </tr>\n",
       "  </thead>\n",
       "  <tbody>\n",
       "    <tr>\n",
       "      <th>0</th>\n",
       "      <td>RFC_41_features</td>\n",
       "      <td>1.7699</td>\n",
       "      <td>2.5518</td>\n",
       "      <td>1.3633</td>\n",
       "      <td>0.0</td>\n",
       "      <td>0.0</td>\n",
       "      <td>0.0</td>\n",
       "      <td>2.0994</td>\n",
       "      <td>2.6268</td>\n",
       "      <td>1.8543</td>\n",
       "    </tr>\n",
       "    <tr>\n",
       "      <th>1</th>\n",
       "      <td>RFC_141_features</td>\n",
       "      <td>1.6549</td>\n",
       "      <td>2.3971</td>\n",
       "      <td>1.2669</td>\n",
       "      <td>0.0</td>\n",
       "      <td>0.0</td>\n",
       "      <td>0.0</td>\n",
       "      <td>2.1234</td>\n",
       "      <td>2.5961</td>\n",
       "      <td>1.9083</td>\n",
       "    </tr>\n",
       "    <tr>\n",
       "      <th>2</th>\n",
       "      <td>RFC_141_features_L1_selector</td>\n",
       "      <td>1.7314</td>\n",
       "      <td>2.4609</td>\n",
       "      <td>1.3583</td>\n",
       "      <td>0.0</td>\n",
       "      <td>0.0</td>\n",
       "      <td>0.0</td>\n",
       "      <td>2.1146</td>\n",
       "      <td>2.6213</td>\n",
       "      <td>1.8810</td>\n",
       "    </tr>\n",
       "    <tr>\n",
       "      <th>3</th>\n",
       "      <td>RFC_18+26_features_L1_selector</td>\n",
       "      <td>1.7890</td>\n",
       "      <td>2.5939</td>\n",
       "      <td>1.3677</td>\n",
       "      <td>0.0</td>\n",
       "      <td>0.0</td>\n",
       "      <td>0.0</td>\n",
       "      <td>2.1317</td>\n",
       "      <td>2.6630</td>\n",
       "      <td>1.8850</td>\n",
       "    </tr>\n",
       "    <tr>\n",
       "      <th>4</th>\n",
       "      <td>RFC_27+29_features_L1_selector</td>\n",
       "      <td>1.7486</td>\n",
       "      <td>2.5224</td>\n",
       "      <td>1.3461</td>\n",
       "      <td>0.0</td>\n",
       "      <td>0.0</td>\n",
       "      <td>0.0</td>\n",
       "      <td>2.1413</td>\n",
       "      <td>2.6856</td>\n",
       "      <td>1.8877</td>\n",
       "    </tr>\n",
       "    <tr>\n",
       "      <th>5</th>\n",
       "      <td>RFC_47+44_features_L1_selector</td>\n",
       "      <td>1.7188</td>\n",
       "      <td>2.4564</td>\n",
       "      <td>1.3392</td>\n",
       "      <td>0.0</td>\n",
       "      <td>0.0</td>\n",
       "      <td>0.0</td>\n",
       "      <td>2.1162</td>\n",
       "      <td>2.6790</td>\n",
       "      <td>1.8517</td>\n",
       "    </tr>\n",
       "    <tr>\n",
       "      <th>6</th>\n",
       "      <td>RFC_45+47_features_L1_selector</td>\n",
       "      <td>1.7193</td>\n",
       "      <td>2.4680</td>\n",
       "      <td>1.3321</td>\n",
       "      <td>0.0</td>\n",
       "      <td>0.0</td>\n",
       "      <td>0.0</td>\n",
       "      <td>2.1176</td>\n",
       "      <td>2.7223</td>\n",
       "      <td>1.8292</td>\n",
       "    </tr>\n",
       "    <tr>\n",
       "      <th>7</th>\n",
       "      <td>RFC_47+48_features_L1_selector</td>\n",
       "      <td>1.7013</td>\n",
       "      <td>2.4390</td>\n",
       "      <td>1.3203</td>\n",
       "      <td>0.0</td>\n",
       "      <td>0.0</td>\n",
       "      <td>0.0</td>\n",
       "      <td>2.1297</td>\n",
       "      <td>2.7343</td>\n",
       "      <td>1.8417</td>\n",
       "    </tr>\n",
       "    <tr>\n",
       "      <th>8</th>\n",
       "      <td>RFC_500est_41+47_features_L1_selector</td>\n",
       "      <td>1.7126</td>\n",
       "      <td>2.4660</td>\n",
       "      <td>1.3215</td>\n",
       "      <td>0.0</td>\n",
       "      <td>0.0</td>\n",
       "      <td>0.0</td>\n",
       "      <td>2.0997</td>\n",
       "      <td>2.6726</td>\n",
       "      <td>1.8291</td>\n",
       "    </tr>\n",
       "    <tr>\n",
       "      <th>9</th>\n",
       "      <td>RFC_500est_47+48_features_L1_selector</td>\n",
       "      <td>1.7019</td>\n",
       "      <td>2.4426</td>\n",
       "      <td>1.3189</td>\n",
       "      <td>0.0</td>\n",
       "      <td>0.0</td>\n",
       "      <td>0.0</td>\n",
       "      <td>2.1202</td>\n",
       "      <td>2.7062</td>\n",
       "      <td>1.8426</td>\n",
       "    </tr>\n",
       "  </tbody>\n",
       "</table>\n",
       "</div>"
      ],
      "text/plain": [
       "                                exp_name  Train MSE  Train MSE-A  Train MSE-B  \\\n",
       "0                        RFC_41_features     1.7699       2.5518       1.3633   \n",
       "1                       RFC_141_features     1.6549       2.3971       1.2669   \n",
       "2           RFC_141_features_L1_selector     1.7314       2.4609       1.3583   \n",
       "3         RFC_18+26_features_L1_selector     1.7890       2.5939       1.3677   \n",
       "4         RFC_27+29_features_L1_selector     1.7486       2.5224       1.3461   \n",
       "5         RFC_47+44_features_L1_selector     1.7188       2.4564       1.3392   \n",
       "6         RFC_45+47_features_L1_selector     1.7193       2.4680       1.3321   \n",
       "7         RFC_47+48_features_L1_selector     1.7013       2.4390       1.3203   \n",
       "8  RFC_500est_41+47_features_L1_selector     1.7126       2.4660       1.3215   \n",
       "9  RFC_500est_47+48_features_L1_selector     1.7019       2.4426       1.3189   \n",
       "\n",
       "   Valid MSE  Valid MSE-A  Valid MSE-B  Test  MSE  Test MSE-A  Test MSE-B  \n",
       "0        0.0          0.0          0.0     2.0994      2.6268      1.8543  \n",
       "1        0.0          0.0          0.0     2.1234      2.5961      1.9083  \n",
       "2        0.0          0.0          0.0     2.1146      2.6213      1.8810  \n",
       "3        0.0          0.0          0.0     2.1317      2.6630      1.8850  \n",
       "4        0.0          0.0          0.0     2.1413      2.6856      1.8877  \n",
       "5        0.0          0.0          0.0     2.1162      2.6790      1.8517  \n",
       "6        0.0          0.0          0.0     2.1176      2.7223      1.8292  \n",
       "7        0.0          0.0          0.0     2.1297      2.7343      1.8417  \n",
       "8        0.0          0.0          0.0     2.0997      2.6726      1.8291  \n",
       "9        0.0          0.0          0.0     2.1202      2.7062      1.8426  "
      ]
     },
     "execution_count": 178,
     "metadata": {},
     "output_type": "execute_result"
    }
   ],
   "source": [
    "features_A = featurePipelines.get_features(full_pipeline_A, include_budget=False)\n",
    "features_B = featurePipelines.get_features(full_pipeline_B, include_budget=True)\n",
    "\n",
    "exp_name = f\"RFC_500est_{len(features_A)}+{len(features_B)}_features_L1_selector\"\n",
    "scores = {}\n",
    "\n",
    "\n",
    "scores['test'] = base_pipeline.score(y_test, base_pipeline.predict(X_test))\n",
    "scores['train'] = base_pipeline.score(y_train, base_pipeline.predict(X_train))\n",
    "\n",
    "\n",
    "expLog.loc[len(expLog)] = [f\"{exp_name}\"] + list(np.round([*scores['train'], 0,0,0, *scores['test']], 4)) \n",
    "expLog\n",
    "\n"
   ]
  },
  {
   "attachments": {
    "f428bf3b-78a6-4c76-9dcf-b6b0435b9f71.png": {
     "image/png": "[encoded data removed]"
    }
   },
   "cell_type": "markdown",
   "id": "92552e07-406f-459a-861b-f6ed5a522b6f",
   "metadata": {},
   "source": [
    "![image.png](attachment:f428bf3b-78a6-4c76-9dcf-b6b0435b9f71.png)"
   ]
  },
  {
   "attachments": {
    "5d70e24f-6e82-46bb-8add-d25e30922358.png": {
     "image/png": "[encoded data removed]"
    }
   },
   "cell_type": "markdown",
   "id": "30d80215-5907-4fed-bc8a-84b0b2e7f2f1",
   "metadata": {},
   "source": [
    "![image.png](attachment:5d70e24f-6e82-46bb-8add-d25e30922358.png)"
   ]
  },
  {
   "cell_type": "markdown",
   "id": "0575e448-a9a1-4c55-944a-6a1a5b746d82",
   "metadata": {},
   "source": [
    "### Feature importance of pipeline without budget"
   ]
  },
  {
   "cell_type": "code",
   "execution_count": 179,
   "id": "070fbe0f-3ceb-4d6f-9aa3-cda17021bec6",
   "metadata": {},
   "outputs": [
    {
     "data": {
      "text/html": [
       "<div>\n",
       "<style scoped>\n",
       "    .dataframe tbody tr th:only-of-type {\n",
       "        vertical-align: middle;\n",
       "    }\n",
       "\n",
       "    .dataframe tbody tr th {\n",
       "        vertical-align: top;\n",
       "    }\n",
       "\n",
       "    .dataframe thead th {\n",
       "        text-align: right;\n",
       "    }\n",
       "</style>\n",
       "<table border=\"1\" class=\"dataframe\">\n",
       "  <thead>\n",
       "    <tr style=\"text-align: right;\">\n",
       "      <th></th>\n",
       "      <th>0</th>\n",
       "      <th>imp_cumsum</th>\n",
       "    </tr>\n",
       "  </thead>\n",
       "  <tbody>\n",
       "    <tr>\n",
       "      <th>popularity</th>\n",
       "      <td>0.28</td>\n",
       "      <td>0.28</td>\n",
       "    </tr>\n",
       "    <tr>\n",
       "      <th>release_year</th>\n",
       "      <td>0.19</td>\n",
       "      <td>0.48</td>\n",
       "    </tr>\n",
       "    <tr>\n",
       "      <th>runtime</th>\n",
       "      <td>0.05</td>\n",
       "      <td>0.52</td>\n",
       "    </tr>\n",
       "    <tr>\n",
       "      <th>cast_char_10</th>\n",
       "      <td>0.03</td>\n",
       "      <td>0.56</td>\n",
       "    </tr>\n",
       "    <tr>\n",
       "      <th>cast_char_3</th>\n",
       "      <td>0.03</td>\n",
       "      <td>0.59</td>\n",
       "    </tr>\n",
       "    <tr>\n",
       "      <th>cast_names_100</th>\n",
       "      <td>0.03</td>\n",
       "      <td>0.62</td>\n",
       "    </tr>\n",
       "    <tr>\n",
       "      <th>cast_names_3</th>\n",
       "      <td>0.03</td>\n",
       "      <td>0.64</td>\n",
       "    </tr>\n",
       "    <tr>\n",
       "      <th>cast_char_90</th>\n",
       "      <td>0.03</td>\n",
       "      <td>0.67</td>\n",
       "    </tr>\n",
       "    <tr>\n",
       "      <th>cast_names_2</th>\n",
       "      <td>0.02</td>\n",
       "      <td>0.70</td>\n",
       "    </tr>\n",
       "    <tr>\n",
       "      <th>cast_char_38</th>\n",
       "      <td>0.02</td>\n",
       "      <td>0.72</td>\n",
       "    </tr>\n",
       "    <tr>\n",
       "      <th>cast_names_59</th>\n",
       "      <td>0.02</td>\n",
       "      <td>0.74</td>\n",
       "    </tr>\n",
       "    <tr>\n",
       "      <th>cast_gender_2</th>\n",
       "      <td>0.02</td>\n",
       "      <td>0.76</td>\n",
       "    </tr>\n",
       "    <tr>\n",
       "      <th>crew_names_52</th>\n",
       "      <td>0.02</td>\n",
       "      <td>0.78</td>\n",
       "    </tr>\n",
       "    <tr>\n",
       "      <th>cast_names_14</th>\n",
       "      <td>0.02</td>\n",
       "      <td>0.80</td>\n",
       "    </tr>\n",
       "    <tr>\n",
       "      <th>crew_gender_2</th>\n",
       "      <td>0.02</td>\n",
       "      <td>0.82</td>\n",
       "    </tr>\n",
       "    <tr>\n",
       "      <th>crew_gender_0</th>\n",
       "      <td>0.02</td>\n",
       "      <td>0.83</td>\n",
       "    </tr>\n",
       "    <tr>\n",
       "      <th>release_month</th>\n",
       "      <td>0.02</td>\n",
       "      <td>0.85</td>\n",
       "    </tr>\n",
       "    <tr>\n",
       "      <th>crew_names_2</th>\n",
       "      <td>0.01</td>\n",
       "      <td>0.86</td>\n",
       "    </tr>\n",
       "    <tr>\n",
       "      <th>cast_gender_0</th>\n",
       "      <td>0.01</td>\n",
       "      <td>0.88</td>\n",
       "    </tr>\n",
       "    <tr>\n",
       "      <th>crew_names_22</th>\n",
       "      <td>0.01</td>\n",
       "      <td>0.89</td>\n",
       "    </tr>\n",
       "    <tr>\n",
       "      <th>crew_names_21</th>\n",
       "      <td>0.01</td>\n",
       "      <td>0.90</td>\n",
       "    </tr>\n",
       "    <tr>\n",
       "      <th>keywords_counts</th>\n",
       "      <td>0.01</td>\n",
       "      <td>0.91</td>\n",
       "    </tr>\n",
       "    <tr>\n",
       "      <th>cast_gender_1</th>\n",
       "      <td>0.01</td>\n",
       "      <td>0.92</td>\n",
       "    </tr>\n",
       "    <tr>\n",
       "      <th>crew_jobs_Screenplay</th>\n",
       "      <td>0.01</td>\n",
       "      <td>0.93</td>\n",
       "    </tr>\n",
       "    <tr>\n",
       "      <th>belongs_to_collection</th>\n",
       "      <td>0.01</td>\n",
       "      <td>0.94</td>\n",
       "    </tr>\n",
       "  </tbody>\n",
       "</table>\n",
       "</div>"
      ],
      "text/plain": [
       "                          0  imp_cumsum\n",
       "popularity             0.28        0.28\n",
       "release_year           0.19        0.48\n",
       "runtime                0.05        0.52\n",
       "cast_char_10           0.03        0.56\n",
       "cast_char_3            0.03        0.59\n",
       "cast_names_100         0.03        0.62\n",
       "cast_names_3           0.03        0.64\n",
       "cast_char_90           0.03        0.67\n",
       "cast_names_2           0.02        0.70\n",
       "cast_char_38           0.02        0.72\n",
       "cast_names_59          0.02        0.74\n",
       "cast_gender_2          0.02        0.76\n",
       "crew_names_52          0.02        0.78\n",
       "cast_names_14          0.02        0.80\n",
       "crew_gender_2          0.02        0.82\n",
       "crew_gender_0          0.02        0.83\n",
       "release_month          0.02        0.85\n",
       "crew_names_2           0.01        0.86\n",
       "cast_gender_0          0.01        0.88\n",
       "crew_names_22          0.01        0.89\n",
       "crew_names_21          0.01        0.90\n",
       "keywords_counts        0.01        0.91\n",
       "cast_gender_1          0.01        0.92\n",
       "crew_jobs_Screenplay   0.01        0.93\n",
       "belongs_to_collection  0.01        0.94"
      ]
     },
     "execution_count": 179,
     "metadata": {},
     "output_type": "execute_result"
    }
   ],
   "source": [
    "rfr = base_pipeline.pipelineA.named_steps['model']\n",
    "feat_imp = pd.DataFrame(rfr.feature_importances_.reshape(1, -1), columns=featurePipelines.get_features(full_pipeline_A, include_budget=False))\n",
    "feat_imp_sorted = feat_imp.T.sort_values(by=0, ascending=False)\n",
    "feat_imp_sorted['imp_cumsum'] = feat_imp_sorted.cumsum()\n",
    "np.round(feat_imp_sorted.iloc[:25],2)"
   ]
  },
  {
   "cell_type": "markdown",
   "id": "1cd426ff-4fb2-439f-9f76-8ed26d0cbf22",
   "metadata": {},
   "source": [
    "### Feature importance of pipeline with budget"
   ]
  },
  {
   "cell_type": "code",
   "execution_count": 180,
   "id": "cc66f65d-a13f-4fb4-9899-772122318f36",
   "metadata": {},
   "outputs": [
    {
     "data": {
      "text/html": [
       "<div>\n",
       "<style scoped>\n",
       "    .dataframe tbody tr th:only-of-type {\n",
       "        vertical-align: middle;\n",
       "    }\n",
       "\n",
       "    .dataframe tbody tr th {\n",
       "        vertical-align: top;\n",
       "    }\n",
       "\n",
       "    .dataframe thead th {\n",
       "        text-align: right;\n",
       "    }\n",
       "</style>\n",
       "<table border=\"1\" class=\"dataframe\">\n",
       "  <thead>\n",
       "    <tr style=\"text-align: right;\">\n",
       "      <th></th>\n",
       "      <th>0</th>\n",
       "      <th>imp_cumsum</th>\n",
       "    </tr>\n",
       "  </thead>\n",
       "  <tbody>\n",
       "    <tr>\n",
       "      <th>budget</th>\n",
       "      <td>0.55</td>\n",
       "      <td>0.55</td>\n",
       "    </tr>\n",
       "    <tr>\n",
       "      <th>popularity</th>\n",
       "      <td>0.17</td>\n",
       "      <td>0.72</td>\n",
       "    </tr>\n",
       "    <tr>\n",
       "      <th>release_year</th>\n",
       "      <td>0.04</td>\n",
       "      <td>0.76</td>\n",
       "    </tr>\n",
       "    <tr>\n",
       "      <th>runtime</th>\n",
       "      <td>0.03</td>\n",
       "      <td>0.79</td>\n",
       "    </tr>\n",
       "    <tr>\n",
       "      <th>kw_7</th>\n",
       "      <td>0.01</td>\n",
       "      <td>0.80</td>\n",
       "    </tr>\n",
       "    <tr>\n",
       "      <th>prod_compnaies_5</th>\n",
       "      <td>0.01</td>\n",
       "      <td>0.82</td>\n",
       "    </tr>\n",
       "    <tr>\n",
       "      <th>prod_compnaies_4</th>\n",
       "      <td>0.01</td>\n",
       "      <td>0.83</td>\n",
       "    </tr>\n",
       "    <tr>\n",
       "      <th>crew_gender_2</th>\n",
       "      <td>0.01</td>\n",
       "      <td>0.84</td>\n",
       "    </tr>\n",
       "    <tr>\n",
       "      <th>kw_1</th>\n",
       "      <td>0.01</td>\n",
       "      <td>0.86</td>\n",
       "    </tr>\n",
       "    <tr>\n",
       "      <th>kw_2</th>\n",
       "      <td>0.01</td>\n",
       "      <td>0.87</td>\n",
       "    </tr>\n",
       "    <tr>\n",
       "      <th>cast_names_57</th>\n",
       "      <td>0.01</td>\n",
       "      <td>0.88</td>\n",
       "    </tr>\n",
       "    <tr>\n",
       "      <th>belongs_to_collection</th>\n",
       "      <td>0.01</td>\n",
       "      <td>0.89</td>\n",
       "    </tr>\n",
       "    <tr>\n",
       "      <th>cast_gender_0</th>\n",
       "      <td>0.01</td>\n",
       "      <td>0.90</td>\n",
       "    </tr>\n",
       "    <tr>\n",
       "      <th>keywords_counts</th>\n",
       "      <td>0.01</td>\n",
       "      <td>0.92</td>\n",
       "    </tr>\n",
       "    <tr>\n",
       "      <th>cast_gender_2</th>\n",
       "      <td>0.01</td>\n",
       "      <td>0.93</td>\n",
       "    </tr>\n",
       "    <tr>\n",
       "      <th>cast_gender_1</th>\n",
       "      <td>0.01</td>\n",
       "      <td>0.93</td>\n",
       "    </tr>\n",
       "    <tr>\n",
       "      <th>release_month</th>\n",
       "      <td>0.01</td>\n",
       "      <td>0.94</td>\n",
       "    </tr>\n",
       "    <tr>\n",
       "      <th>release_DOW</th>\n",
       "      <td>0.01</td>\n",
       "      <td>0.95</td>\n",
       "    </tr>\n",
       "    <tr>\n",
       "      <th>production_companies_counts</th>\n",
       "      <td>0.01</td>\n",
       "      <td>0.95</td>\n",
       "    </tr>\n",
       "    <tr>\n",
       "      <th>crew_dept_Production</th>\n",
       "      <td>0.01</td>\n",
       "      <td>0.96</td>\n",
       "    </tr>\n",
       "    <tr>\n",
       "      <th>production_countries_counts</th>\n",
       "      <td>0.00</td>\n",
       "      <td>0.96</td>\n",
       "    </tr>\n",
       "    <tr>\n",
       "      <th>crew_gender_1</th>\n",
       "      <td>0.00</td>\n",
       "      <td>0.97</td>\n",
       "    </tr>\n",
       "    <tr>\n",
       "      <th>crew_dept_Crew</th>\n",
       "      <td>0.00</td>\n",
       "      <td>0.97</td>\n",
       "    </tr>\n",
       "    <tr>\n",
       "      <th>crew_dept_Writing</th>\n",
       "      <td>0.00</td>\n",
       "      <td>0.97</td>\n",
       "    </tr>\n",
       "    <tr>\n",
       "      <th>crew_dept_Costume &amp; Make-Up</th>\n",
       "      <td>0.00</td>\n",
       "      <td>0.97</td>\n",
       "    </tr>\n",
       "  </tbody>\n",
       "</table>\n",
       "</div>"
      ],
      "text/plain": [
       "                                0  imp_cumsum\n",
       "budget                       0.55        0.55\n",
       "popularity                   0.17        0.72\n",
       "release_year                 0.04        0.76\n",
       "runtime                      0.03        0.79\n",
       "kw_7                         0.01        0.80\n",
       "prod_compnaies_5             0.01        0.82\n",
       "prod_compnaies_4             0.01        0.83\n",
       "crew_gender_2                0.01        0.84\n",
       "kw_1                         0.01        0.86\n",
       "kw_2                         0.01        0.87\n",
       "cast_names_57                0.01        0.88\n",
       "belongs_to_collection        0.01        0.89\n",
       "cast_gender_0                0.01        0.90\n",
       "keywords_counts              0.01        0.92\n",
       "cast_gender_2                0.01        0.93\n",
       "cast_gender_1                0.01        0.93\n",
       "release_month                0.01        0.94\n",
       "release_DOW                  0.01        0.95\n",
       "production_companies_counts  0.01        0.95\n",
       "crew_dept_Production         0.01        0.96\n",
       "production_countries_counts  0.00        0.96\n",
       "crew_gender_1                0.00        0.97\n",
       "crew_dept_Crew               0.00        0.97\n",
       "crew_dept_Writing            0.00        0.97\n",
       "crew_dept_Costume & Make-Up  0.00        0.97"
      ]
     },
     "execution_count": 180,
     "metadata": {},
     "output_type": "execute_result"
    }
   ],
   "source": [
    "rfr = base_pipeline.pipelineB.named_steps['model']\n",
    "feat_imp = pd.DataFrame(rfr.feature_importances_.reshape(1, -1), columns=featurePipelines.get_features(full_pipeline_B, include_budget=True))\n",
    "feat_imp_sorted = feat_imp.T.sort_values(by=0, ascending=False)\n",
    "feat_imp_sorted['imp_cumsum'] = feat_imp_sorted.cumsum()\n",
    "np.round(feat_imp_sorted.iloc[:25], 2)"
   ]
  },
  {
   "cell_type": "code",
   "execution_count": null,
   "id": "abfb12e6-d06d-4569-b387-40672f03a674",
   "metadata": {},
   "outputs": [],
   "source": [
    "featurePipelines.get_features(prep_pipeline_B, include_budget=True)"
   ]
  },
  {
   "cell_type": "markdown",
   "id": "61dada4e-d912-4a2c-ae24-a6909f4d31f1",
   "metadata": {
    "tags": []
   },
   "source": [
    "## Kaggle Submission"
   ]
  },
  {
   "cell_type": "code",
   "execution_count": 167,
   "id": "44b4398b-5359-42d2-9c71-0490bb7b43da",
   "metadata": {},
   "outputs": [
    {
     "data": {
      "text/plain": [
       "'RFC_500est_41+47_features_L1_selector'"
      ]
     },
     "execution_count": 167,
     "metadata": {},
     "output_type": "execute_result"
    }
   ],
   "source": [
    "exp_name"
   ]
  },
  {
   "cell_type": "code",
   "execution_count": 171,
   "id": "69cf8472-eb40-4b8b-b5fb-82278443ed55",
   "metadata": {},
   "outputs": [
    {
     "data": {
      "text/plain": [
       "((4398, 22), (3000, 147))"
      ]
     },
     "execution_count": 171,
     "metadata": {},
     "output_type": "execute_result"
    }
   ],
   "source": [
    "test_data.shape, train_data.shape"
   ]
  },
  {
   "cell_type": "code",
   "execution_count": 181,
   "id": "263e986a-ccf5-44a1-bf96-287470cba6a1",
   "metadata": {},
   "outputs": [
    {
     "name": "stdout",
     "output_type": "stream",
     "text": [
      "kaggle competitions submit -c tmdb-box-office-prediction -f predictions/RFC_500est_47+48_features_L1_selector.csv -m \"RFC_500est_47+48_features_L1_selector\"\n"
     ]
    }
   ],
   "source": [
    "make_submission_file(exp_name, base_pipeline, X, y, test_data, 'data/sample_submission.csv', 'predictions')"
   ]
  },
  {
   "cell_type": "code",
   "execution_count": 183,
   "id": "36f1702b-b6bd-4d0c-8991-25283ac919f8",
   "metadata": {},
   "outputs": [
    {
     "name": "stdout",
     "output_type": "stream",
     "text": [
      "100%|████████████████████████████████████████| 100k/100k [00:01<00:00, 76.9kB/s]\n",
      "Successfully submitted to TMDB Box Office Prediction"
     ]
    }
   ],
   "source": [
    "!kaggle competitions submit -c tmdb-box-office-prediction -f predictions/RFC_500est_47+48_features_L1_selector.csv -m \"RFC_500est_47+48_features_L1_selector\""
   ]
  },
  {
   "cell_type": "code",
   "execution_count": null,
   "id": "f7c2e177-2b72-43bf-9667-40029914ec51",
   "metadata": {},
   "outputs": [],
   "source": []
  },
  {
   "cell_type": "code",
   "execution_count": null,
   "id": "53e59cd6-74c2-4545-9468-4c149dae3e5e",
   "metadata": {},
   "outputs": [],
   "source": []
  },
  {
   "cell_type": "markdown",
   "id": "b096a224-28bd-4683-be6a-065e3781456d",
   "metadata": {},
   "source": [
    "## Feature Selection"
   ]
  },
  {
   "cell_type": "code",
   "execution_count": 183,
   "id": "42d766d7-e9cb-40e3-a4aa-624d195a6396",
   "metadata": {},
   "outputs": [],
   "source": [
    "class FeatureSelectionPipelines():\n",
    "    def __init__(self):\n",
    "        pass\n",
    "        \n",
    "    def get_config(self, include_budget=True):\n",
    "        common_config = [\n",
    "            ('popularity', make_pipeline(\n",
    "                SimpleImputer(strategy='median'), \n",
    "                StandardScaler()\n",
    "            ), ['popularity']),\n",
    "\n",
    "            ('runtime', make_pipeline(\n",
    "                RuntimeImputer, \n",
    "                StandardScaler()\n",
    "            ), ['runtime']),\n",
    "\n",
    "            ('release_date', make_pipeline(\n",
    "                SimpleImputer(strategy='most_frequent'), \n",
    "                ReleaseDateTransformer()\n",
    "            ), ['release_date']), \n",
    "            \n",
    "            ('original_language+status', make_pipeline(\n",
    "                SimpleImputer(strategy='most_frequent'), \n",
    "                OneHotEncoder(handle_unknown='ignore')\n",
    "            ), ['original_language', 'status']),\n",
    "            \n",
    "            ('homepage+tagline', presenceBinarizer\n",
    "             , ['homepage', 'tagline']),\n",
    "            \n",
    "            ('genres_counts', make_attribute_count_pipeline(), ['genres']),\n",
    "            ('cast_counts', make_attribute_count_pipeline(), ['cast']),\n",
    "            ('crew_counts', make_attribute_count_pipeline(), ['crew']),\n",
    "            ('keywords_counts', make_attribute_count_pipeline(), ['Keywords']),\n",
    "            ('production_companies_counts', make_attribute_count_pipeline(), ['production_companies']),\n",
    "            ('production_countries_counts', make_attribute_count_pipeline(), ['production_countries']),\n",
    "            ('spoken_languages_counts', make_attribute_count_pipeline(), ['spoken_languages']),\n",
    "            \n",
    "            # ('genres', make_name_extraction_pipeline(), ['genres']),\n",
    "            \n",
    "#             ('cast_gender', make_pipeline(\n",
    "#                 SimpleImputer(strategy='constant', fill_value='[]'), \n",
    "#                 ExtractionTransformer('gender'),\n",
    "#                 UniqueCountTransformer(),\n",
    "#                 SimpleImputer(strategy='constant', fill_value=0)\n",
    "#             ), ['cast']), \n",
    "            \n",
    "#             ('crew_gender', make_pipeline(\n",
    "#                 SimpleImputer(strategy='constant', fill_value='[]'), \n",
    "#                 ExtractionTransformer('gender'),\n",
    "#                 UniqueCountTransformer(),\n",
    "#                 SimpleImputer(strategy='constant', fill_value=0)\n",
    "#             ), ['crew']),\n",
    "            \n",
    "#             ('crew_department', make_pipeline(\n",
    "#                 SimpleImputer(strategy='constant', fill_value='[]'), \n",
    "#                 ExtractionTransformer('department'),\n",
    "#                 UniqueCountTransformer(),\n",
    "#                 SimpleImputer(strategy='constant', fill_value=0)\n",
    "#             ), ['crew']),\n",
    "            \n",
    "#             ('crew_jobs', make_pipeline(\n",
    "#                 SimpleImputer(strategy='constant', fill_value='[]'), \n",
    "#                 ExtractionTransformer('job'),\n",
    "#                 MultinomialAttributeTransformer(),\n",
    "#                 # SelectMostKFrequent(25)\n",
    "#             ), ['crew']),\n",
    "            \n",
    "#              ('crew_names', make_pipeline(\n",
    "#                 SimpleImputer(strategy='constant', fill_value='[]'), \n",
    "#                 ExtractionTransformer('name'),\n",
    "#                 MultinomialAttributeTransformer(),\n",
    "#                 # SelectMostKFrequent(50)\n",
    "#                 # PCA(100)\n",
    "#             ), ['crew']),\n",
    "            \n",
    "#             ('cast_names', make_pipeline(\n",
    "#                 SimpleImputer(strategy='constant', fill_value='[]'), \n",
    "#                 ExtractionTransformer('name'),\n",
    "#                 MultinomialAttributeTransformer(),\n",
    "#                 # SelectMostKFrequent(50)\n",
    "#                 # PCA(100)\n",
    "#             ), ['cast']),\n",
    "            \n",
    "#             ('cast_characters', make_pipeline(\n",
    "#                 SimpleImputer(strategy='constant', fill_value='[]'), \n",
    "#                 ExtractionTransformer('character'),\n",
    "#                 MultinomialAttributeTransformer(),\n",
    "#                 # SelectMostKFrequent(50)\n",
    "#                 # PCA(100)\n",
    "#             ), ['cast']),\n",
    "            \n",
    "            ('keywords', make_pipeline(\n",
    "                SimpleImputer(strategy='constant', fill_value='[]'), \n",
    "                ExtractionTransformer('name'),\n",
    "                MultinomialAttributeTransformer(),\n",
    "                # SelectMostKFrequent(50)\n",
    "                # PCA(100)\n",
    "            ), ['Keywords']),\n",
    "            \n",
    "#             ('spoken_languages', make_pipeline(\n",
    "#                 SimpleImputer(strategy='constant', fill_value='[]'), \n",
    "#                 ExtractionTransformer('name'),\n",
    "#                 MultinomialAttributeTransformer(),\n",
    "#                 # SelectMostKFrequent(50)\n",
    "#             ), ['spoken_languages']),\n",
    "            \n",
    "#             ('production_countries', make_pipeline(\n",
    "#                 SimpleImputer(strategy='constant', fill_value='[]'), \n",
    "#                 ExtractionTransformer('name'),\n",
    "#                 MultinomialAttributeTransformer(),\n",
    "#                 # SelectMostKFrequent(50)\n",
    "#             ), ['production_countries']),\n",
    "            \n",
    "#             ('production_companies', make_pipeline(\n",
    "#                 SimpleImputer(strategy='constant', fill_value='[]'), \n",
    "#                 ExtractionTransformer('name'),\n",
    "#                 MultinomialAttributeTransformer(),\n",
    "#                 # SelectMostKFrequent(50)\n",
    "#                 # PCA(100)\n",
    "#             ), ['production_companies'])\n",
    "        ]\n",
    "        \n",
    "        budget_config = [\n",
    "            ('budget', make_pipeline(\n",
    "                SimpleImputer(strategy='median'),\n",
    "                FunctionTransformer(np.log1p),\n",
    "                StandardScaler()\n",
    "            ), ['budget'])\n",
    "        ]\n",
    "        \n",
    "        return (budget_config if include_budget else []) + common_config\n",
    "    \n",
    "    def get_features(self, prep_pipeline, include_budget=True):\n",
    "        features = ['popularity', 'runtime', 'release_year', 'release_month', 'release_DOW']\n",
    "        orig_lang, status = prep_pipeline.named_transformers_['original_language+status'].named_steps['onehotencoder'].categories_\n",
    "        features += list(orig_lang) + list(status)\n",
    "        features += ['homepage', 'tagline']\n",
    "        features += ['genres_counts', 'cast_counts', 'crew_counts', 'keywords_counts', 'production_companies_counts', 'production_countries_counts', 'spoken_languages_counts']\n",
    "        # features += prep_pipeline.named_transformers_['genres'].named_steps['multinomialattributetransformer'].categories_\n",
    "        # features += ['cast_gender_'+str(f) for f in prep_pipeline.named_transformers_['cast_gender'].named_steps['uniquecounttransformer'].categories_]\n",
    "        # features += ['crew_gender_'+str(f) for f in prep_pipeline.named_transformers_['crew_gender'].named_steps['uniquecounttransformer'].categories_]\n",
    "        # features += ['crew_dept_'+str(f) for f in prep_pipeline.named_transformers_['crew_department'].named_steps['uniquecounttransformer'].categories_]\n",
    "        \n",
    "#         pipeline = prep_pipeline.named_transformers_['crew_jobs']\n",
    "#         columns = np.array(pipeline.named_steps['multinomialattributetransformer'].categories_)\n",
    "#         # k_frequent = pipeline.named_steps['selectmostkfrequent'].k_frequent_\n",
    "#         # features += ['crew_jobs_'+str(f) for f in columns[k_frequent]]\n",
    "#         features += ['crew_jobs_'+str(f) for f in columns]\n",
    "        \n",
    "#         pipeline = prep_pipeline.named_transformers_['crew_names']\n",
    "#         columns = np.array(pipeline.named_steps['multinomialattributetransformer'].categories_)\n",
    "#         # k_frequent = pipeline.named_steps['selectmostkfrequent'].k_frequent_\n",
    "#         # features += ['crew_names_'+str(f) for f in columns[k_frequent]]\n",
    "#         # features += ['crew_names_'+str(i+1) for i in range(pipeline.named_steps['pca'].n_components)]\n",
    "#         features += ['crew_names_'+str(f) for f in columns]\n",
    "        \n",
    "#         pipeline = prep_pipeline.named_transformers_['cast_names']\n",
    "#         columns = np.array(pipeline.named_steps['multinomialattributetransformer'].categories_)\n",
    "#         # k_frequent = pipeline.named_steps['selectmostkfrequent'].k_frequent_\n",
    "#         # features += ['cast_names_'+str(f) for f in columns[k_frequent]]\n",
    "#         # features += ['cast_names_'+str(i+1) for i in range(pipeline.named_steps['pca'].n_components)]\n",
    "#         features += ['cast_names_'+str(f) for f in columns]\n",
    "        \n",
    "#         pipeline = prep_pipeline.named_transformers_['cast_characters']\n",
    "#         columns = np.array(pipeline.named_steps['multinomialattributetransformer'].categories_)\n",
    "#         # k_frequent = pipeline.named_steps['selectmostkfrequent'].k_frequent_\n",
    "#         # features += ['cast_char_'+str(f) for f in columns[k_frequent]]\n",
    "#         # features += ['cast_char_'+str(i+1) for i in range(pipeline.named_steps['pca'].n_components)]\n",
    "#         features += ['cast_char_'+str(f) for f in columns]\n",
    "        \n",
    "        pipeline = prep_pipeline.named_transformers_['keywords']\n",
    "        columns = np.array(pipeline.named_steps['multinomialattributetransformer'].categories_)\n",
    "        # k_frequent = pipeline.named_steps['selectmostkfrequent'].k_frequent_\n",
    "        # features += ['kw_'+str(f) for f in columns[k_frequent]]\n",
    "        # features += ['kw_'+str(i+1) for i in range(pipeline.named_steps['pca'].n_components)]\n",
    "        features += ['kw_'+str(f) for f in columns]\n",
    "        \n",
    "        # pipeline = prep_pipeline.named_transformers_['spoken_languages']\n",
    "        # columns = np.array(pipeline.named_steps['multinomialattributetransformer'].categories_)\n",
    "        # # k_frequent = pipeline.named_steps['selectmostkfrequent'].k_frequent_\n",
    "        # # features += ['sl_'+str(f) for f in columns[k_frequent]]\n",
    "        # features += ['sl_'+str(f) for f in columns]\n",
    "        \n",
    "#         pipeline = prep_pipeline.named_transformers_['production_countries']\n",
    "#         columns = np.array(pipeline.named_steps['multinomialattributetransformer'].categories_)\n",
    "#         # k_frequent = pipeline.named_steps['selectmostkfrequent'].k_frequent_\n",
    "#         # features += ['prod_countries_'+str(f) for f in columns[k_frequent]]\n",
    "#         features += ['prod_countries_'+str(f) for f in columns]\n",
    "        \n",
    "#         pipeline = prep_pipeline.named_transformers_['production_companies']\n",
    "#         # columns = np.array(pipeline.named_steps['multinomialattributetransformer'].categories_)\n",
    "#         # k_frequent = pipeline.named_steps['selectmostkfrequent'].k_frequent_\n",
    "#         # features += ['prod_compnaies_'+str(f) for f in columns[k_frequent]]\n",
    "#         # features += ['prod_compnaies_'+str(i+1) for i in range(pipeline.named_steps['pca'].n_components)]\n",
    "#         features += ['prod_compnaies_'+str(f) for f in columns]\n",
    "        \n",
    "        return (['budget'] if include_budget else []) + features\n",
    "    "
   ]
  },
  {
   "cell_type": "code",
   "execution_count": 184,
   "id": "e6bfc63b-838c-46e9-b589-db3912252057",
   "metadata": {},
   "outputs": [],
   "source": [
    "fsp = FeatureSelectionPipelines()\n",
    "y = np.log(train_data['revenue'])\n",
    "X = train_data.drop(['revenue'], axis=1)\n",
    "prep_pipeline = ColumnTransformer(fsp.get_config(), remainder='drop')\n",
    "X_tf = prep_pipeline.fit_transform(X, y)"
   ]
  },
  {
   "cell_type": "code",
   "execution_count": 185,
   "id": "d9260ead-7a86-47f4-af99-bb82045d2309",
   "metadata": {},
   "outputs": [
    {
     "data": {
      "text/plain": [
       "(3000, 7453)"
      ]
     },
     "execution_count": 185,
     "metadata": {},
     "output_type": "execute_result"
    }
   ],
   "source": [
    "X_tf.shape"
   ]
  },
  {
   "cell_type": "code",
   "execution_count": 186,
   "id": "f3a04e2a-7038-490b-91d4-d52f2b090608",
   "metadata": {},
   "outputs": [],
   "source": [
    "lasso = LassoCV(n_jobs=4)\n",
    "lasso.fit(X_tf, y)\n",
    "model = SelectFromModel(lasso, prefit=True)\n",
    "X_new = model.transform(X_tf)"
   ]
  },
  {
   "cell_type": "code",
   "execution_count": 187,
   "id": "8f8819f3-5c5d-4e74-ada8-e87a2727e707",
   "metadata": {},
   "outputs": [
    {
     "data": {
      "text/plain": [
       "((3000, 66), 0.005955131453130361)"
      ]
     },
     "execution_count": 187,
     "metadata": {},
     "output_type": "execute_result"
    }
   ],
   "source": [
    "X_new.shape, lasso.alpha_"
   ]
  },
  {
   "cell_type": "code",
   "execution_count": 188,
   "id": "fe3d0e4a-dc23-48c2-9f2e-1ee45a121a55",
   "metadata": {},
   "outputs": [],
   "source": [
    "features_in = np.array(fsp.get_features(prep_pipeline))\n",
    "features_out = features_in[model.get_support()]"
   ]
  },
  {
   "cell_type": "code",
   "execution_count": null,
   "id": "f31ba2ed-777d-42e3-b923-abd8a43ecb0b",
   "metadata": {},
   "outputs": [],
   "source": []
  },
  {
   "cell_type": "code",
   "execution_count": null,
   "id": "cbfd8bf7-3b85-43d1-a2a3-8ae0772772a0",
   "metadata": {},
   "outputs": [],
   "source": []
  },
  {
   "cell_type": "code",
   "execution_count": 86,
   "id": "7c4effbb-bd53-43bc-b8bc-4983291bdf4f",
   "metadata": {},
   "outputs": [],
   "source": []
  },
  {
   "cell_type": "code",
   "execution_count": 91,
   "id": "1e8a2743-22b5-4e84-9838-eb633a1ce494",
   "metadata": {},
   "outputs": [],
   "source": [
    "mask = make_mask(X)\n",
    "X_tf_A = prep_pipeline_A.fit_transform(X[mask], y[mask])\n",
    "X_tf_B = prep_pipeline_B.fit_transform(X[~mask], y[~mask])"
   ]
  },
  {
   "cell_type": "code",
   "execution_count": 92,
   "id": "150654c9-e025-4b90-8502-57ddc48fdb14",
   "metadata": {},
   "outputs": [
    {
     "data": {
      "text/plain": [
       "((829, 139), (2171, 141))"
      ]
     },
     "execution_count": 92,
     "metadata": {},
     "output_type": "execute_result"
    }
   ],
   "source": [
    "X_tf_A.shape, X_tf_B.shape"
   ]
  },
  {
   "cell_type": "code",
   "execution_count": 104,
   "id": "afd0fd6d-ca82-4358-bf82-794af747ab22",
   "metadata": {},
   "outputs": [
    {
     "data": {
      "text/plain": [
       "((829, 43),)"
      ]
     },
     "execution_count": 104,
     "metadata": {},
     "output_type": "execute_result"
    }
   ],
   "source": [
    "# lasso_A = LassoCV(n_jobs=4)\n",
    "# lasso_A.fit(X_tf_A, y[mask])\n",
    "model = SelectFromModel(LassoCV(n_jobs=4))\n",
    "X_new = model.fit_transform(X_tf_A, y[mask])\n",
    "features_in = np.array(featurePipelines.get_features(prep_pipeline_A, include_budget=False))\n",
    "features_out = features_in[model.get_support()]\n",
    "X_new.shape, #lasso_A.alpha_"
   ]
  },
  {
   "cell_type": "code",
   "execution_count": 105,
   "id": "761c556b-a45c-4853-a3c2-b4d337e3651b",
   "metadata": {},
   "outputs": [
    {
     "data": {
      "text/plain": [
       "['popularity',\n",
       " 'runtime',\n",
       " 'release_year',\n",
       " 'release_month',\n",
       " 'release_DOW',\n",
       " 'homepage',\n",
       " 'tagline',\n",
       " 'genres_counts',\n",
       " 'keywords_counts',\n",
       " 'production_companies_counts',\n",
       " 'Adventure',\n",
       " 'Animation',\n",
       " 'Comedy',\n",
       " 'Crime',\n",
       " 'Documentary',\n",
       " 'Drama',\n",
       " 'Family',\n",
       " 'Fantasy',\n",
       " 'Foreign',\n",
       " 'Horror',\n",
       " 'Mystery',\n",
       " 'Science_Fiction',\n",
       " 'Thriller',\n",
       " 'cast_gender_2',\n",
       " 'cast_gender_0',\n",
       " 'cast_gender_1',\n",
       " 'crew_gender_0',\n",
       " 'crew_gender_1',\n",
       " 'crew_gender_2',\n",
       " 'kw_2',\n",
       " 'kw_3',\n",
       " 'kw_4',\n",
       " 'kw_8',\n",
       " 'kw_14',\n",
       " 'kw_15',\n",
       " 'kw_18',\n",
       " 'kw_21',\n",
       " 'kw_30',\n",
       " 'kw_38',\n",
       " 'kw_48',\n",
       " 'kw_53',\n",
       " 'kw_56',\n",
       " 'kw_78']"
      ]
     },
     "execution_count": 105,
     "metadata": {},
     "output_type": "execute_result"
    }
   ],
   "source": [
    "list(features_out)"
   ]
  },
  {
   "cell_type": "code",
   "execution_count": 101,
   "id": "4815ad78-a9a8-4f7e-895d-d2e2ff4f8b74",
   "metadata": {},
   "outputs": [
    {
     "data": {
      "text/plain": [
       "((2171, 28), 0.016656014494411852)"
      ]
     },
     "execution_count": 101,
     "metadata": {},
     "output_type": "execute_result"
    }
   ],
   "source": [
    "lasso_B = LassoCV(n_jobs=4)\n",
    "lasso_B.fit(X_tf_B, y[~mask])\n",
    "model = SelectFromModel(lasso_B, prefit=True)\n",
    "X_new = model.transform(X_tf_B)\n",
    "features_in = np.array(featurePipelines.get_features(prep_pipeline_B, include_budget=True))\n",
    "features_out = features_in[model.get_support()]\n",
    "X_new.shape, lasso_B.alpha_"
   ]
  },
  {
   "cell_type": "code",
   "execution_count": 102,
   "id": "97c2bc3a-af67-43a7-aecf-49a5b76b0786",
   "metadata": {},
   "outputs": [
    {
     "data": {
      "text/plain": [
       "['budget',\n",
       " 'popularity',\n",
       " 'runtime',\n",
       " 'release_year',\n",
       " 'release_month',\n",
       " 'release_DOW',\n",
       " 'homepage',\n",
       " 'keywords_counts',\n",
       " 'production_countries_counts',\n",
       " 'Action',\n",
       " 'Adventure',\n",
       " 'Comedy',\n",
       " 'Crime',\n",
       " 'Drama',\n",
       " 'Family',\n",
       " 'Horror',\n",
       " 'Romance',\n",
       " 'Science_Fiction',\n",
       " 'Thriller',\n",
       " 'cast_gender_0',\n",
       " 'cast_gender_1',\n",
       " 'cast_gender_2',\n",
       " 'crew_gender_0',\n",
       " 'crew_gender_2',\n",
       " 'crew_gender_1',\n",
       " 'kw_1',\n",
       " 'kw_2',\n",
       " 'kw_12']"
      ]
     },
     "execution_count": 102,
     "metadata": {},
     "output_type": "execute_result"
    }
   ],
   "source": [
    "list(features_out)"
   ]
  }
 ],
 "metadata": {
  "kernelspec": {
   "display_name": "Python 3 (ipykernel)",
   "language": "python",
   "name": "python3"
  },
  "language_info": {
   "codemirror_mode": {
    "name": "ipython",
    "version": 3
   },
   "file_extension": ".py",
   "mimetype": "text/x-python",
   "name": "python",
   "nbconvert_exporter": "python",
   "pygments_lexer": "ipython3",
   "version": "3.9.6"
  }
 },
 "nbformat": 4,
 "nbformat_minor": 5
}
